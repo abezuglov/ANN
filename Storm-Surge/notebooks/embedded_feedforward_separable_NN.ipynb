{
 "cells": [
  {
   "cell_type": "code",
   "execution_count": 24,
   "metadata": {
    "collapsed": false
   },
   "outputs": [],
   "source": [
    "from __future__ import print_function\n",
    "import matplotlib.pyplot as plt\n",
    "import numpy as np\n",
    "import os\n",
    "import sys\n",
    "import time\n",
    "import tarfile\n",
    "from IPython.display import display, Image\n",
    "from scipy import ndimage\n",
    "from sklearn.linear_model import LogisticRegression\n",
    "from six.moves.urllib.request import urlretrieve\n",
    "from six.moves import cPickle as pickle\n",
    "import tensorflow as tf\n",
    "import scipy"
   ]
  },
  {
   "cell_type": "code",
   "execution_count": 25,
   "metadata": {
    "collapsed": false
   },
   "outputs": [
    {
     "name": "stdout",
     "output_type": "stream",
     "text": [
      "../data/ann_dataset1.tar\n",
      "http://mrtee.europa.renci.org/~bblanton/ANN/ann_dataset1.tar\n",
      "Found and verified ann_dataset1.tar\n"
     ]
    }
   ],
   "source": [
    "# Download and save the archived data\n",
    "\n",
    "url = 'http://mrtee.europa.renci.org/~bblanton/ANN/'\n",
    "to = \"../data\"\n",
    "\n",
    "def maybe_download(filename, expected_bytes, force=False):\n",
    "    \"\"\"Download a file if not present, and make sure it's the right size.\"\"\"\n",
    "    print(os.path.join(to,filename))\n",
    "    print(url+filename)\n",
    "    if force or not os.path.exists(os.path.join(to,filename)):\n",
    "        filename, _ = urlretrieve(url + filename, os.path.join(to,filename))\n",
    "    statinfo = os.stat(os.path.join(to,filename))\n",
    "    if statinfo.st_size == expected_bytes:\n",
    "        print('Found and verified', filename)\n",
    "    else:\n",
    "        raise Exception(\n",
    "          'Failed to verify' + filename + '. Can you get to it with a browser?')\n",
    "    return filename\n",
    "\n",
    "data_filename = maybe_download('ann_dataset1.tar', 5642240)"
   ]
  },
  {
   "cell_type": "code",
   "execution_count": 28,
   "metadata": {
    "collapsed": false
   },
   "outputs": [
    {
     "name": "stdout",
     "output_type": "stream",
     "text": [
      "../data already present - Skipping extraction of ../data/ann_dataset_10points.tar.\n",
      "Processed 0/324 \n",
      "\n",
      "Processed 100/324 \n",
      "\n",
      "Processed 200/324 \n",
      "\n",
      "Processed 300/324 \n",
      "\n",
      "(324, 193, 18)\n"
     ]
    }
   ],
   "source": [
    "# Ten output data set\n",
    "# Extract files from the archive\n",
    "def maybe_extract(filename, force=False):\n",
    "    extract_folder = os.path.splitext(os.path.splitext(filename)[0])[0]  # remove .tar.gz\n",
    "    root = os.path.dirname(filename)\n",
    "    if os.path.isdir(extract_folder) and not force:\n",
    "    # You may override by setting force=True.\n",
    "        print('%s already present - Skipping extraction of %s.' % (root, filename))\n",
    "    else:\n",
    "        print('Extracting data for %s. This may take a while. Please wait.' % root)\n",
    "        tar = tarfile.open(filename)\n",
    "        sys.stdout.flush()\n",
    "        tar.extractall(path = root)\n",
    "        tar.close()\n",
    "    data_files = [\n",
    "        os.path.join(extract_folder, d) for d in sorted(os.listdir(extract_folder))\n",
    "        if os.path.isdir(extract_folder)]\n",
    "    return data_files\n",
    "  \n",
    "data_filename = \"../data/ann_dataset_10points.tar\"\n",
    "data_files = maybe_extract(data_filename)\n",
    "\n",
    "# Load files and produce dataset\n",
    "def maybe_load(file_names):\n",
    "    names = ('index','time', 'long', 'lat', 'param1', 'param2', 'param3', 'param4', 'out1', 'out2',\n",
    "            'out3', 'out4','out5', 'out6','out7', 'out8','out9', 'out10',)\n",
    "    datafile_length = 193\n",
    "    dataset = np.ndarray(shape=(len(file_names), datafile_length, len(names)))\n",
    "    for i in range(0,len(file_names)):\n",
    "        a = np.loadtxt(file_names[i])\n",
    "        a = np.asarray([x for xs in a for x in xs],dtype='d').reshape([datafile_length,len(names)])\n",
    "        dataset[i,:,:] = a\n",
    "        if i%100 == 0:\n",
    "            print(\"Processed %d/%d \\n\"%(i,len(file_names)))\n",
    "    return dataset\n",
    "\n",
    "dataset = maybe_load(data_files)\n",
    "print(dataset.shape)"
   ]
  },
  {
   "cell_type": "code",
   "execution_count": 48,
   "metadata": {
    "collapsed": false
   },
   "outputs": [
    {
     "name": "stdout",
     "output_type": "stream",
     "text": [
      "[[  1.00000000e+00  -3.00000000e+00  -7.90000000e+01   2.80900000e+01\n",
      "    9.73400000e+02   2.71500000e+01   1.10000000e+00   1.01300000e+03\n",
      "    5.40000000e-03   5.10000000e-03   5.60000000e-03   5.90000000e-03\n",
      "    6.80000000e-03   7.10000000e-03   1.14000000e-02   1.22000000e-02\n",
      "    1.34000000e-02   1.67000000e-02]\n",
      " [  2.00000000e+00  -2.97917000e+00  -7.90000000e+01   2.81300000e+01\n",
      "    9.73400000e+02   2.71900000e+01   1.10000000e+00   1.01300000e+03\n",
      "    4.10000000e-03   4.80000000e-03   5.60000000e-03   6.10000000e-03\n",
      "    5.80000000e-03   7.10000000e-03   1.00000000e-02   1.08000000e-02\n",
      "    1.38000000e-02   1.59000000e-02]]\n"
     ]
    }
   ],
   "source": []
  },
  {
   "cell_type": "code",
   "execution_count": 27,
   "metadata": {
    "collapsed": false
   },
   "outputs": [
    {
     "name": "stdout",
     "output_type": "stream",
     "text": [
      "Test dataset: (48, 193, 18)\n",
      "Validation dataset: (48, 193, 18)\n",
      "Training dataset: (228, 193, 18)\n"
     ]
    }
   ],
   "source": [
    "# train, validation, and test dataset percentages\n",
    "train_percent = 70\n",
    "valid_percent = 15\n",
    "test_percent = 15\n",
    "\n",
    "# train, validation, and test dataset indices\n",
    "# test: test_start : valid_start-1\n",
    "# validation: valid_start : train_start-1\n",
    "# training: train_start : dataset.shape[0]\n",
    "test_start = 0 \n",
    "valid_start = 48 #int(test_percent/100.0*dataset.shape[0])\n",
    "train_start = 48 + 48 #int((test_percent+valid_percent)/100.0*dataset.shape[0])\n",
    "\n",
    "# Shuffle file indices\n",
    "file_indices = range(dataset.shape[0])\n",
    "np.random.shuffle(file_indices)\n",
    "\n",
    "# Assign datasets\n",
    "test_dataset = np.array([dataset[j,:,:] for j in [file_indices[i] for i in range(test_start, valid_start)]])\n",
    "valid_dataset = np.array([dataset[j,:,:] for j in [file_indices[i] for i in range(valid_start, train_start)]])\n",
    "train_dataset = np.array([dataset[j,:,:] for j in [file_indices[i] for i in range(train_start, dataset.shape[0])]])\n",
    "\n",
    "# Save memory\n",
    "#del(dataset)\n",
    "print(\"Test dataset: \"+str(test_dataset.shape))\n",
    "print(\"Validation dataset: \"+str(valid_dataset.shape))\n",
    "print(\"Training dataset: \"+str(train_dataset.shape))"
   ]
  },
  {
   "cell_type": "code",
   "execution_count": 19,
   "metadata": {
    "collapsed": false
   },
   "outputs": [
    {
     "name": "stdout",
     "output_type": "stream",
     "text": [
      "train outputs:  (228, 193, 18)\n",
      "(44004, 6)\n",
      "(44004, 10)\n"
     ]
    }
   ],
   "source": [
    "def accuracy_mse(predictions, outputs):\n",
    "    err = predictions-outputs\n",
    "    return np.mean(err*err)\n",
    "\n",
    "def Normalize(x, means, stds):\n",
    "    return (x-means)/stds\n",
    "\n",
    "# Reshape the data and normalize\n",
    "\n",
    "train_dataset2 = train_dataset[:,:,1:7].reshape((-1, 6)).astype(np.float32)\n",
    "train_output = train_dataset[:,:,8:18].reshape((-1, 10)).astype(np.float32)\n",
    "print(\"train outputs: \",train_dataset.shape)\n",
    "\n",
    "# calculate means and stds for training dataset\n",
    "input_means = [np.mean(train_dataset2[:,i]) for i in range(train_dataset2.shape[1])]\n",
    "input_stds = [np.std(train_dataset2[:,i]) for i in range(train_dataset2.shape[1])]\n",
    "output_means = [np.mean(train_output[:,i]) for i in range(train_output.shape[1])]\n",
    "output_stds = [np.std(train_output[:,i]) for i in range(train_output.shape[1])]\n",
    "\n",
    "train_dataset2 = Normalize(train_dataset2, input_means, input_stds)\n",
    "#train_output = Normalize(train_output, output_means, output_stds)\n",
    "\n",
    "print(train_dataset2.shape)\n",
    "print(train_output.shape)\n",
    "\n",
    "#plt.plot(train_dataset2[:193,:],label=\"input\")\n",
    "#plt.plot(train_output[:193,:],label=\"output\")\n",
    "#plt.ylabel(\"training data\")\n",
    "#plt.legend(loc='upper right', shadow=True)\n",
    "#plt.show()\n",
    "\n",
    "valid_dataset2 = Normalize(valid_dataset[:,:,1:7].reshape((-1, 6)).astype(np.float32), input_means, input_stds)\n",
    "valid_output = valid_dataset[:,:,8:18].reshape((-1, 10)).astype(np.float32)\n",
    "#valid_output = Normalize(valid_dataset[:,:,8:18].reshape((-1, 2)).astype(np.float32), output_means, output_stds)\n",
    "\n",
    "test_dataset2 = Normalize(test_dataset[:,:,1:7].reshape((-1, 6)).astype(np.float32),input_means, input_stds)\n",
    "test_output = test_dataset[:,:,8:18].reshape((-1, 10)).astype(np.float32)\n",
    "#test_output = Normalize(test_dataset[:,:,8:18].reshape((-1, 2)).astype(np.float32), output_means, output_stds)\n"
   ]
  },
  {
   "cell_type": "code",
   "execution_count": 21,
   "metadata": {
    "collapsed": false
   },
   "outputs": [],
   "source": [
    "num_embeds = 2 # number of embeddings, i.e. 0 -- the original array\n",
    "#print(train_dataset2[:-1,:])\n",
    "#print(train_dataset2[1:,:])\n",
    "\n",
    "def get_embeddings(dataset, num_embeds = 1):\n",
    "    dataset_list = []\n",
    "    if num_embeds == 0:\n",
    "        return dataset\n",
    "    for i in range(num_embeds):\n",
    "        dataset_list.append(dataset[i:(-num_embeds+i),:])\n",
    "        #dataset_list.append(dataset[num_embeds:,:])\n",
    "    return np.hstack(dataset_list)\n",
    "\n",
    "train_dataset2 = get_embeddings(train_dataset2, num_embeds)\n",
    "valid_dataset2 = get_embeddings(valid_dataset2, num_embeds)\n",
    "test_dataset2 = get_embeddings(test_dataset2, num_embeds)\n",
    "train_output = train_output[num_embeds:,:]\n",
    "valid_output = valid_output[num_embeds:,:]\n",
    "test_output = test_output[num_embeds:,:]\n"
   ]
  },
  {
   "cell_type": "code",
   "execution_count": 20,
   "metadata": {
    "collapsed": false
   },
   "outputs": [],
   "source": [
    "def variance(x):\n",
    "    return tf.reduce_mean(tf.square(x-tf.reduce_mean(x)))\n",
    "\n",
    "def explained_var(y_true, y_predicted):\n",
    "    return 1 - tf.div(variance(tf.sub(y_true,y_predicted)),variance(y_true))\n",
    "\n",
    "input_size = train_dataset2.shape[1]\n",
    "output_size = 10\n",
    "\n",
    "# Deep ANN\n",
    "batch_size = 57*193\n",
    "hidden_nodes = 32 #64\n",
    "\n",
    "num_steps = 20001\n",
    "starter_learning_rate = 0.005\n",
    "\n",
    "graph = tf.Graph()\n",
    "with graph.as_default():\n",
    "\n",
    "    x = tf.placeholder(tf.float32, shape=(None, input_size)) #train_dataset2.shape(2)\n",
    "    y = tf.placeholder(tf.float32, shape=(None, output_size))\n",
    "    \n",
    "    y_list = tf.split(1, 10, y, name='split')\n",
    "      \n",
    "    yl_ = []\n",
    "    # Building graph\n",
    "    for o in range(10):\n",
    "        #o = 5\n",
    "        weights_0 = tf.Variable(tf.truncated_normal([input_size,hidden_nodes], stddev = 0.01, dtype = tf.float32))\n",
    "        biases_0 = tf.Variable(tf.zeros([hidden_nodes], dtype = tf.float32))\n",
    "        input_layer = tf.tanh(tf.matmul(x, weights_0) + biases_0)\n",
    "        weights_1 = tf.Variable(tf.truncated_normal([hidden_nodes, 1], stddev = 0.01, dtype = tf.float32))\n",
    "        biases_1 = tf.Variable(tf.zeros([1], dtype = tf.float32))\n",
    "        output_ = tf.matmul(input_layer, weights_1) + biases_1\n",
    "        yl_.append(output_)\n",
    "        tf.add_to_collection('losses',tf.reduce_mean(tf.square(output_-y_list[o])))\n",
    "    y_ = tf.pack(yl_)\n",
    "    #print(y_)\n",
    "    y_ = tf.transpose(tf.reshape(y_, shape=(10, -1)))\n",
    "    #print(y_)\n",
    "    \n",
    "    losses = tf.get_collection('losses')\n",
    "    loss = tf.add_n(losses, name='total_loss')/output_size\n",
    "    \n",
    "    global_step = tf.Variable(0.0, trainable=False)\n",
    "    learning_rate = tf.train.exponential_decay(starter_learning_rate, global_step, num_steps, 0.5, staircase=False)\n",
    "    optimizer = tf.train.AdamOptimizer(learning_rate).minimize(loss, global_step=global_step)    \n",
    "\n",
    "    \"\"\"\n",
    "    train_prediction = loss\n",
    "    valid_prediction = tf.tanh(tf.matmul(tf_valid_dataset, weights_0) + biases_0)\n",
    "    valid_prediction = tf.tanh(tf.matmul(valid_prediction, weights_1) + biases_1)\n",
    "    valid_prediction = tf.matmul(valid_prediction, weights_2) + biases_2\n",
    "    \n",
    "    test_prediction = tf.tanh(tf.matmul(tf_test_dataset, weights_0) + biases_0)\n",
    "    test_prediction = tf.tanh(tf.matmul(test_prediction, weights_1) + biases_1)\n",
    "    test_prediction = tf.matmul(test_prediction, weights_2) + biases_2\n",
    "    \"\"\""
   ]
  },
  {
   "cell_type": "code",
   "execution_count": 21,
   "metadata": {
    "collapsed": false
   },
   "outputs": [
    {
     "name": "stdout",
     "output_type": "stream",
     "text": [
      "Initialized\n",
      "Loss at step 0 (19.20 op/sec): 0.081874; validation loss: 0.082135\n",
      "Loss at step 500 (34.80 op/sec): 0.044962; validation loss: 0.033111\n",
      "Loss at step 1000 (31.39 op/sec): 0.024669; validation loss: 0.022864\n",
      "Loss at step 1500 (33.67 op/sec): 0.019150; validation loss: 0.019426\n",
      "Loss at step 2000 (33.14 op/sec): 0.016856; validation loss: 0.017833\n",
      "Loss at step 2500 (33.53 op/sec): 0.015503; validation loss: 0.016565\n",
      "Loss at step 3000 (30.88 op/sec): 0.014549; validation loss: 0.015684\n",
      "Loss at step 3500 (31.78 op/sec): 0.013825; validation loss: 0.014854\n",
      "Loss at step 4000 (32.77 op/sec): 0.013179; validation loss: 0.014086\n",
      "Loss at step 4500 (29.92 op/sec): 0.012590; validation loss: 0.013451\n",
      "Loss at step 5000 (33.65 op/sec): 0.012078; validation loss: 0.012920\n",
      "Loss at step 5500 (32.90 op/sec): 0.011700; validation loss: 0.012581\n",
      "Loss at step 6000 (33.14 op/sec): 0.011395; validation loss: 0.012253\n",
      "Loss at step 6500 (32.18 op/sec): 0.011128; validation loss: 0.011977\n",
      "Loss at step 7000 (33.58 op/sec): 0.010894; validation loss: 0.011771\n",
      "Loss at step 7500 (34.06 op/sec): 0.010679; validation loss: 0.011523\n",
      "Loss at step 8000 (33.71 op/sec): 0.010498; validation loss: 0.011326\n",
      "Loss at step 8500 (32.71 op/sec): 0.010332; validation loss: 0.011180\n",
      "Loss at step 9000 (33.48 op/sec): 0.010162; validation loss: 0.010939\n",
      "Loss at step 9500 (33.72 op/sec): 0.010009; validation loss: 0.010760\n",
      "Loss at step 10000 (33.41 op/sec): 0.009873; validation loss: 0.010639\n",
      "Loss at step 10500 (32.64 op/sec): 0.009745; validation loss: 0.010450\n",
      "Loss at step 11000 (33.36 op/sec): 0.009637; validation loss: 0.010378\n",
      "Loss at step 11500 (32.81 op/sec): 0.009547; validation loss: 0.010307\n",
      "Loss at step 12000 (32.35 op/sec): 0.009461; validation loss: 0.010210\n",
      "Loss at step 12500 (32.29 op/sec): 0.009386; validation loss: 0.010144\n",
      "Loss at step 13000 (31.96 op/sec): 0.009321; validation loss: 0.010114\n",
      "Loss at step 13500 (30.84 op/sec): 0.009252; validation loss: 0.010005\n",
      "Loss at step 14000 (33.77 op/sec): 0.009190; validation loss: 0.009988\n",
      "Loss at step 14500 (32.85 op/sec): 0.009138; validation loss: 0.009969\n",
      "Loss at step 15000 (30.40 op/sec): 0.009084; validation loss: 0.009881\n",
      "Loss at step 15500 (32.06 op/sec): 0.009034; validation loss: 0.009870\n",
      "Loss at step 16000 (34.09 op/sec): 0.008996; validation loss: 0.009873\n",
      "Loss at step 16500 (32.23 op/sec): 0.008952; validation loss: 0.009781\n",
      "Loss at step 17000 (32.75 op/sec): 0.008912; validation loss: 0.009780\n",
      "Loss at step 17500 (33.50 op/sec): 0.008881; validation loss: 0.009776\n",
      "Loss at step 18000 (33.39 op/sec): 0.008843; validation loss: 0.009698\n",
      "Loss at step 18500 (32.30 op/sec): 0.008810; validation loss: 0.009708\n",
      "Loss at step 19000 (30.25 op/sec): 0.008785; validation loss: 0.009710\n",
      "Loss at step 19500 (32.47 op/sec): 0.008751; validation loss: 0.009638\n",
      "Loss at step 20000 (32.95 op/sec): 0.008723; validation loss: 0.009649\n",
      "Test MSE: 0.0102\n"
     ]
    }
   ],
   "source": [
    "def stop(data, n = 3):\n",
    "    assert len(data) > n*2\n",
    "    avg = sum(data)/len(data)\n",
    "    for x in (data-avg)[-n:]:\n",
    "        if x <= 0:\n",
    "            return False\n",
    "    return True\n",
    "\n",
    "from sklearn.metrics import explained_variance_score\n",
    "\n",
    "with tf.Session(graph=graph) as session:\n",
    "    tf.initialize_all_variables().run()\n",
    "    sum_l = 0\n",
    "    num_l = 0\n",
    "    #ev_l = [0,0,0,0,0,0,0]\n",
    "    print('Initialized')\n",
    "    for step in range(num_steps):\n",
    "        offset = (step * batch_size) % (train_output.shape[0] - batch_size)\n",
    "        batch_data = train_dataset2[offset:(offset + batch_size), :]\n",
    "        batch_output = train_output[offset:(offset + batch_size), :]\n",
    "        feed_dict = {x : batch_data, y : batch_output}\n",
    "        start_time = time.time()\n",
    "        _, l = session.run([optimizer, loss],feed_dict=feed_dict)\n",
    "        duration = time.time()-start_time\n",
    "        \n",
    "        sum_l += l\n",
    "        num_l += 1\n",
    "\n",
    "        if (step % 500 == 0):\n",
    "            valid_loss = loss.eval(feed_dict = {x: valid_dataset2, y: valid_output})\n",
    "            #print(predictions)\n",
    "            #ev = explained_variance_score(y_.eval(feed_dict = {x: valid_dataset2, y: valid_output}), valid_output)\n",
    "            #ev_l.append(valid_loss)\n",
    "            #ev_l = ev_l[1:]\n",
    "            print('Loss at step %d (%.2f op/sec): %f; validation loss: %.6f' % (\n",
    "                    step, 1.0/duration, sum_l/num_l, \n",
    "                    #accuracy_mse(valid_prediction.eval(), valid_output)))\n",
    "                    valid_loss))\n",
    "            sum_l = 0\n",
    "            num_l = 0\n",
    "            #if stop(ev_l):\n",
    "            #    print(\"Non decreasing scores, so stopping early\")\n",
    "            #    break\n",
    "    \n",
    "    feed_dict = {x: test_dataset2, y: test_output}\n",
    "    predictions, test_loss = session.run([y_, loss],feed_dict=feed_dict)\n",
    "    #test_loss = loss.eval(feed_dict = {x: test_dataset2, y: test_output})\n",
    "    print('Test MSE: %.4f' % test_loss)\n",
    "    #print('Test losses:', test_losses)\n",
    "    predicted_vs_actual = np.hstack((predictions, test_output))\n"
   ]
  },
  {
   "cell_type": "code",
   "execution_count": 23,
   "metadata": {
    "collapsed": false
   },
   "outputs": [
    {
     "name": "stdout",
     "output_type": "stream",
     "text": [
      "Point 0: Max loss: 1.240468, MSE: 0.028800 CC: 0.895165  \n",
      "Point 1: Max loss: 1.165016, MSE: 0.025457 CC: 0.921425  \n",
      "Point 2: Max loss: 0.863533, MSE: 0.019804 CC: 0.931636  \n",
      "Point 3: Max loss: 0.732300, MSE: 0.014674 CC: 0.949629  \n",
      "Point 4: Max loss: 0.956068, MSE: 0.023755 CC: 0.947756  \n",
      "Point 5: Max loss: 1.324671, MSE: 0.041982 CC: 0.907157  \n",
      "Point 6: Max loss: 2.073830, MSE: 0.076835 CC: 0.930429  \n",
      "Point 7: Max loss: 1.744426, MSE: 0.086797 CC: 0.922877  \n",
      "Point 8: Max loss: 1.519407, MSE: 0.066029 CC: 0.903478  \n",
      "Point 9: Max loss: 1.887906, MSE: 0.094386 CC: 0.865807  \n",
      "2275\n",
      "[0.084737197, 0.080382437, 0.034475878, 0.041143581, 0.13712037, 1.3246714, 0.20506975, 0.15680939, 0.077375188, 0.27674031]\n",
      "(9264, 20)\n"
     ]
    }
   ],
   "source": [
    "over_95 = 0\n",
    "for i in range(10):\n",
    "    cc = np.corrcoef(predicted_vs_actual[:,i],predicted_vs_actual[:,i+10])[0,1]\n",
    "    m = np.max(np.abs(predicted_vs_actual[:,i]-predicted_vs_actual[:,i+10]))\n",
    "    mse = np.mean(np.sqrt(np.square(predicted_vs_actual[:,i]-predicted_vs_actual[:,i+10])))\n",
    "    \n",
    "    if cc >= 0.95:\n",
    "        over_95+=1\n",
    "    print('Point %d: Max loss: %.6f, MSE: %.6f CC: %.6f %c' % (i,m, mse, cc, 'v' if cc >= 0.95 else ' '))\n",
    "\n",
    "i = 5\n",
    "k = np.argmax(np.abs(predicted_vs_actual[:,i]-predicted_vs_actual[:,i+10]))\n",
    "print(k)\n",
    "max_error_case = [np.abs(predicted_vs_actual[k,i]-predicted_vs_actual[k,i+10]) for i in range(10)]\n",
    "print(max_error_case)\n",
    "start = (k // 193)*193\n",
    "stop = start + 193\n",
    "#start = 0\n",
    "#stop = 20*193\n",
    "\n",
    "print(predicted_vs_actual.shape)\n",
    "fig = plt.figure(figsize=(10, 6), dpi=80)\n",
    "\n",
    "for i in range(10):\n",
    "    sp = fig.add_subplot(10,1,i+1)\n",
    "    sp.plot(predicted_vs_actual[start:stop,i],color=\"blue\", linewidth=1.0, linestyle=\"-\", label=\"ANN\")\n",
    "    sp.plot(predicted_vs_actual[start:stop,i+10],color=\"red\", linewidth=1.0, linestyle=\"-\", label=\"actual\")\n",
    "plt.show()"
   ]
  },
  {
   "cell_type": "code",
   "execution_count": 231,
   "metadata": {
    "collapsed": false
   },
   "outputs": [
    {
     "name": "stdout",
     "output_type": "stream",
     "text": [
      "[ 2.  1.]\n"
     ]
    },
    {
     "ename": "AssertionError",
     "evalue": "",
     "output_type": "error",
     "traceback": [
      "\u001b[1;31m---------------------------------------------------------------------------\u001b[0m",
      "\u001b[1;31mAssertionError\u001b[0m                            Traceback (most recent call last)",
      "\u001b[1;32m<ipython-input-231-59addae8a709>\u001b[0m in \u001b[0;36m<module>\u001b[1;34m()\u001b[0m\n\u001b[0;32m     14\u001b[0m     \u001b[1;32mreturn\u001b[0m \u001b[0mTrue\u001b[0m\u001b[1;33m\u001b[0m\u001b[0m\n\u001b[0;32m     15\u001b[0m \u001b[1;33m\u001b[0m\u001b[0m\n\u001b[1;32m---> 16\u001b[1;33m \u001b[1;32mprint\u001b[0m\u001b[1;33m(\u001b[0m\u001b[0mstop\u001b[0m\u001b[1;33m(\u001b[0m\u001b[0md\u001b[0m\u001b[1;33m)\u001b[0m\u001b[1;33m)\u001b[0m\u001b[1;33m\u001b[0m\u001b[0m\n\u001b[0m",
      "\u001b[1;32m<ipython-input-231-59addae8a709>\u001b[0m in \u001b[0;36mstop\u001b[1;34m(data, n)\u001b[0m\n\u001b[0;32m      7\u001b[0m \u001b[1;33m\u001b[0m\u001b[0m\n\u001b[0;32m      8\u001b[0m \u001b[1;32mdef\u001b[0m \u001b[0mstop\u001b[0m\u001b[1;33m(\u001b[0m\u001b[0mdata\u001b[0m\u001b[1;33m,\u001b[0m \u001b[0mn\u001b[0m \u001b[1;33m=\u001b[0m \u001b[1;36m2\u001b[0m\u001b[1;33m)\u001b[0m\u001b[1;33m:\u001b[0m\u001b[1;33m\u001b[0m\u001b[0m\n\u001b[1;32m----> 9\u001b[1;33m     \u001b[1;32massert\u001b[0m \u001b[0mlen\u001b[0m\u001b[1;33m(\u001b[0m\u001b[0mdata\u001b[0m\u001b[1;33m)\u001b[0m \u001b[1;33m>\u001b[0m \u001b[0mn\u001b[0m\u001b[1;33m*\u001b[0m\u001b[1;36m2\u001b[0m\u001b[1;33m\u001b[0m\u001b[0m\n\u001b[0m\u001b[0;32m     10\u001b[0m     \u001b[0mavg\u001b[0m \u001b[1;33m=\u001b[0m \u001b[0msum\u001b[0m\u001b[1;33m(\u001b[0m\u001b[0mdata\u001b[0m\u001b[1;33m)\u001b[0m\u001b[1;33m/\u001b[0m\u001b[0mlen\u001b[0m\u001b[1;33m(\u001b[0m\u001b[0mdata\u001b[0m\u001b[1;33m)\u001b[0m\u001b[1;33m\u001b[0m\u001b[0m\n\u001b[0;32m     11\u001b[0m     \u001b[1;32mfor\u001b[0m \u001b[0mx\u001b[0m \u001b[1;32min\u001b[0m \u001b[1;33m(\u001b[0m\u001b[0mdata\u001b[0m\u001b[1;33m-\u001b[0m\u001b[0mavg\u001b[0m\u001b[1;33m)\u001b[0m\u001b[1;33m[\u001b[0m\u001b[1;33m-\u001b[0m\u001b[0mn\u001b[0m\u001b[1;33m:\u001b[0m\u001b[1;33m]\u001b[0m\u001b[1;33m:\u001b[0m\u001b[1;33m\u001b[0m\u001b[0m\n",
      "\u001b[1;31mAssertionError\u001b[0m: "
     ]
    }
   ],
   "source": [
    "d = np.asarray([])\n",
    "\n",
    "d = np.append(d,3)\n",
    "d = np.append(d,2)\n",
    "d = np.append(d,1)[1:]\n",
    "print(d)\n",
    "\n",
    "def stop(data, n = 2):\n",
    "    assert len(data) > n*2\n",
    "    avg = sum(data)/len(data)\n",
    "    for x in (data-avg)[-n:]:\n",
    "        if x <= 0:\n",
    "            return False\n",
    "    return True\n",
    "\n",
    "print(stop(d))"
   ]
  },
  {
   "cell_type": "code",
   "execution_count": 134,
   "metadata": {
    "collapsed": false
   },
   "outputs": [
    {
     "name": "stdout",
     "output_type": "stream",
     "text": [
      "Explained variance:  [0.81146699190139771, 0.85759055614471436, 0.86870527267456055, 0.89061909914016724, 0.88695210218429565, 0.74401175975799561, 0.8059995174407959, 0.80061358213424683, 0.45739859342575073, 0.35861217975616455]\n",
      "(1.4245720507513746, -0.030474568797174348, 0.062562678013771522)\n"
     ]
    },
    {
     "data": {
      "text/plain": [
       "\"\\nnum_bins = 100\\n# the histogram of the errors\\nn, bins, patches = plt.hist(diff, num_bins, normed=1, facecolor='green', alpha=0.5)\\n\\n# add a normal PDF\\nmu = 0\\nsigma = .05\\ny = mlab.normpdf(bins, mu, sigma)\\nplt.plot(bins, y, 'r-')\\nplt.xlabel('Smarts')\\nplt.ylabel('Probability')\\n\\n# add Cauchy PDF\\nparams = cauchy.fit(diff)\\nprint(params)\\ndist = cauchy(params[0], params[1])\\nx = np.linspace(-2, 2, num_bins)\\nplt.plot(x, dist.pdf(x), 'b-', alpha=0.5, label='cauchy pdf')\\n\\n\\n# Tweak spacing to prevent clipping of ylabel\\n#plt.subplots_adjust(left=0.15)\\n#plt.show()\\n\\nfig = plt.figure(figsize=(10,6),dpi=80)\\nplt.hist(diff, bins = 100, alpha=0.5)\\nplt.show()\\n\""
      ]
     },
     "execution_count": 134,
     "metadata": {},
     "output_type": "execute_result"
    }
   ],
   "source": [
    "from sklearn.metrics import explained_variance_score\n",
    "import scipy.stats as stats\n",
    "import pylab\n",
    "\n",
    "ev = []\n",
    "for i in range(10):\n",
    "    y_true = predicted_vs_actual[:,i]\n",
    "    y_pred = predicted_vs_actual[:,i+10]\n",
    "    ev.append(explained_variance_score(y_true, y_pred))\n",
    "    \n",
    "print(\"Explained variance: \",ev)\n",
    "diff = y_true-y_pred\n",
    "\n",
    "#stats.probplot(diff, dist=\"norm\", plot=pylab)\n",
    "stats.probplot(diff, dist=\"t\", sparams=(2), plot=pylab)\n",
    "pylab.show()\n",
    "\n",
    "num_bins = 100\n",
    "# the histogram of the errors\n",
    "n, bins, patches = plt.hist(diff, num_bins, normed=1, facecolor='green', alpha=0.5)\n",
    "\n",
    "params = stats.t.fit(diff)\n",
    "dist = stats.t(params[0], params[1], params[2])\n",
    "x = np.linspace(-2, 2, num_bins)\n",
    "plt.plot(x, dist.pdf(x), 'b-', lw = 3, alpha=0.5, label='t pdf')\n",
    "plt.show()\n",
    "print(params)\n",
    "\n",
    "\"\"\"\n",
    "num_bins = 100\n",
    "# the histogram of the errors\n",
    "n, bins, patches = plt.hist(diff, num_bins, normed=1, facecolor='green', alpha=0.5)\n",
    "\n",
    "# add a normal PDF\n",
    "mu = 0\n",
    "sigma = .05\n",
    "y = mlab.normpdf(bins, mu, sigma)\n",
    "plt.plot(bins, y, 'r-')\n",
    "plt.xlabel('Smarts')\n",
    "plt.ylabel('Probability')\n",
    "\n",
    "# add Cauchy PDF\n",
    "params = cauchy.fit(diff)\n",
    "print(params)\n",
    "dist = cauchy(params[0], params[1])\n",
    "x = np.linspace(-2, 2, num_bins)\n",
    "plt.plot(x, dist.pdf(x), 'b-', alpha=0.5, label='cauchy pdf')\n",
    "\n",
    "\n",
    "# Tweak spacing to prevent clipping of ylabel\n",
    "#plt.subplots_adjust(left=0.15)\n",
    "#plt.show()\n",
    "\n",
    "fig = plt.figure(figsize=(10,6),dpi=80)\n",
    "plt.hist(diff, bins = 100, alpha=0.5)\n",
    "plt.show()\n",
    "\"\"\""
   ]
  }
 ],
 "metadata": {
  "kernelspec": {
   "display_name": "Python 2",
   "language": "python",
   "name": "python2"
  },
  "language_info": {
   "codemirror_mode": {
    "name": "ipython",
    "version": 2
   },
   "file_extension": ".py",
   "mimetype": "text/x-python",
   "name": "python",
   "nbconvert_exporter": "python",
   "pygments_lexer": "ipython2",
   "version": "2.7.11"
  }
 },
 "nbformat": 4,
 "nbformat_minor": 0
}
