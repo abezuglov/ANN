{
 "cells": [
  {
   "cell_type": "code",
   "execution_count": 3,
   "metadata": {
    "collapsed": true
   },
   "outputs": [],
   "source": [
    "import matplotlib.pyplot as plt\n",
    "import numpy as np\n",
    "import tensorflow as tf\n",
    "import math"
   ]
  },
  {
   "cell_type": "code",
   "execution_count": 4,
   "metadata": {
    "collapsed": true
   },
   "outputs": [],
   "source": [
    "NSAMPLE = 2500\n",
    "\n",
    "y_data = np.float32(np.random.uniform(-10.5, 10.5, (1, NSAMPLE))).T\n",
    "r_data = np.float32(np.random.normal(size=(NSAMPLE,1))) # random noise\n",
    "x_data = np.float32(np.sin(0.75*y_data)*7.0+y_data*0.5+r_data*1.0)\n",
    "\n",
    "plt.figure(figsize=(8, 8))\n",
    "plt.plot(x_data,y_data,'ro', alpha=0.3)\n",
    "plt.show()"
   ]
  },
  {
   "cell_type": "code",
   "execution_count": 5,
   "metadata": {
    "collapsed": true
   },
   "outputs": [],
   "source": [
    "NHIDDEN = 24\n",
    "STDEV = 0.5\n",
    "KMIX = 24 # number of mixtures\n",
    "NOUT = KMIX * 3 # pi, mu, stdev\n",
    "\n",
    "x = tf.placeholder(dtype=tf.float32, shape=[None,1], name=\"x\")\n",
    "y = tf.placeholder(dtype=tf.float32, shape=[None,1], name=\"y\")\n",
    "\n",
    "Wh = tf.Variable(tf.random_normal([1,NHIDDEN], stddev=STDEV, dtype=tf.float32))\n",
    "bh = tf.Variable(tf.random_normal([1,NHIDDEN], stddev=STDEV, dtype=tf.float32))\n",
    "\n",
    "Wo = tf.Variable(tf.random_normal([NHIDDEN,NOUT], stddev=STDEV, dtype=tf.float32))\n",
    "bo = tf.Variable(tf.random_normal([1,NOUT], stddev=STDEV, dtype=tf.float32))\n",
    "\n",
    "hidden_layer = tf.nn.tanh(tf.matmul(x, Wh) + bh)\n",
    "output = tf.matmul(hidden_layer,Wo) + bo\n",
    "\n",
    "def get_mixture_coef(output):\n",
    "    out_pi = tf.placeholder(dtype=tf.float32, shape=[None,KMIX], name=\"mixparam\")\n",
    "    out_sigma = tf.placeholder(dtype=tf.float32, shape=[None,KMIX], name=\"mixparam\")\n",
    "    out_mu = tf.placeholder(dtype=tf.float32, shape=[None,KMIX], name=\"mixparam\")\n",
    "\n",
    "    out_pi, out_sigma, out_mu = tf.split(1, 3, output)\n",
    "\n",
    "    max_pi = tf.reduce_max(out_pi, 1, keep_dims=True)\n",
    "    out_pi = tf.sub(out_pi, max_pi)\n",
    "\n",
    "    out_pi = tf.exp(out_pi)\n",
    "\n",
    "    normalize_pi = tf.inv(tf.reduce_sum(out_pi, 1, keep_dims=True))\n",
    "    out_pi = tf.mul(normalize_pi, out_pi)\n",
    "\n",
    "    out_sigma = tf.exp(out_sigma)\n",
    "\n",
    "    return out_pi, out_sigma, out_mu\n",
    "\n",
    "out_pi, out_sigma, out_mu = get_mixture_coef(output)\n"
   ]
  },
  {
   "cell_type": "code",
   "execution_count": 7,
   "metadata": {
    "collapsed": false
   },
   "outputs": [],
   "source": [
    "x_test = np.float32(np.arange(-15,15,0.1))\n",
    "NTEST = x_test.size\n",
    "x_test = x_test.reshape(NTEST,1) # needs to be a matrix, not a vector\n",
    "\n",
    "def get_pi_idx(x, pdf):\n",
    "  N = pdf.size\n",
    "  accumulate = 0\n",
    "  for i in range(0, N):\n",
    "    accumulate += pdf[i]\n",
    "    if (accumulate >= x):\n",
    "      return i\n",
    "  print 'error with sampling ensemble'\n",
    "  return -1\n",
    "\n",
    "def generate_ensemble(out_pi, out_mu, out_sigma, M = 10):\n",
    "  NTEST = x_test.size\n",
    "  result = np.random.rand(NTEST, M) # initially random [0, 1]\n",
    "  rn = np.random.randn(NTEST, M) # normal random matrix (0.0, 1.0)\n",
    "  mu = 0\n",
    "  std = 0\n",
    "  idx = 0\n",
    "\n",
    "  # transforms result into random ensembles\n",
    "  for j in range(0, M):\n",
    "    for i in range(0, NTEST):\n",
    "      idx = get_pi_idx(result[i, j], out_pi[i])\n",
    "      mu = out_mu[i, idx]\n",
    "      std = out_sigma[i, idx]\n",
    "      result[i, j] = mu + rn[i, j]*std\n",
    "  return result"
   ]
  },
  {
   "cell_type": "code",
   "execution_count": null,
   "metadata": {
    "collapsed": true
   },
   "outputs": [],
   "source": [
    "out_pi_test, out_sigma_test, out_mu_test = sess.run(get_mixture_coef(output), feed_dict={x: x_test})\n",
    "\n",
    "y_test = generate_ensemble(out_pi_test, out_mu_test, out_sigma_test)\n",
    "\n",
    "plt.figure(figsize=(8, 8))\n",
    "plt.plot(x_data,y_data,'ro', x_test,y_test,'bo',alpha=0.3)\n",
    "plt.show()"
   ]
  }
 ],
 "metadata": {
  "kernelspec": {
   "display_name": "Python 2",
   "language": "python",
   "name": "python2"
  },
  "language_info": {
   "codemirror_mode": {
    "name": "ipython",
    "version": 2
   },
   "file_extension": ".py",
   "mimetype": "text/x-python",
   "name": "python",
   "nbconvert_exporter": "python",
   "pygments_lexer": "ipython2",
   "version": "2.7.11"
  }
 },
 "nbformat": 4,
 "nbformat_minor": 0
}
