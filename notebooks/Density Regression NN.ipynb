{
 "cells": [
  {
   "cell_type": "code",
   "execution_count": 3,
   "metadata": {
    "collapsed": false
   },
   "outputs": [],
   "source": [
    "import matplotlib.pyplot as plt\n",
    "import numpy as np\n",
    "import tensorflow as tf\n",
    "import math"
   ]
  },
  {
   "cell_type": "code",
   "execution_count": 4,
   "metadata": {
    "collapsed": false
   },
   "outputs": [
    {
     "name": "stdout",
     "output_type": "stream",
     "text": [
      "(50, 4, 8)\n",
      "[2, 3]\n"
     ]
    }
   ],
   "source": [
    "a = np.zeros([50,4,10])\n",
    "a = np.delete(a, [range(2,4)],2)\n",
    "print(a.shape)\n",
    "print(range(2,4))"
   ]
  },
  {
   "cell_type": "code",
   "execution_count": 5,
   "metadata": {
    "collapsed": false
   },
   "outputs": [
    {
     "name": "stdout",
     "output_type": "stream",
     "text": [
      "(1000, 1)\n",
      "[[ -5.97456694  -1.75575125]\n",
      " [  4.87567329   0.92984724]\n",
      " [  5.35202646   1.87261534]\n",
      " [  3.78638029   2.8225162 ]\n",
      " [-12.14080238   7.75624847]\n",
      " [ -5.71792126  -1.24774313]\n",
      " [  1.07428157  -6.22118235]\n",
      " [ -9.92322826   7.80824661]\n",
      " [ -3.36284876   6.96821976]\n",
      " [  7.76152658   1.5701437 ]]\n"
     ]
    }
   ],
   "source": [
    "NSAMPLE = 1000\n",
    "x_data = np.float32(np.random.uniform(-10.5, 10.5, (1, NSAMPLE))).T\n",
    "r_data = np.float32(np.random.normal(0,0.5, size=(NSAMPLE,1)))\n",
    "\n",
    "y_data_1 = np.float32(np.sin(0.75*x_data)*7.0+x_data*0.5+r_data*0.5)\n",
    "y_data_2 = np.float32(np.sin(0.5*x_data)*3.0-x_data*0.5+r_data*1.0)\n",
    "y_data = np.hstack((y_data_1, y_data_2))\n",
    "\n",
    "print(x_data.shape)\n",
    "print(y_data[:10,:])\n",
    "plt.figure(figsize=(8, 8))\n",
    "plt.plot(x_data,y_data[:,0],'ro',x_data, y_data[:,1],'bo',alpha=0.3)\n",
    "plt.show()\n"
   ]
  },
  {
   "cell_type": "code",
   "execution_count": 6,
   "metadata": {
    "collapsed": false
   },
   "outputs": [
    {
     "name": "stdout",
     "output_type": "stream",
     "text": [
      "Step: 0, loss: 16.94827271 (-0.0861 + 17.0344)\n",
      "Step: 100, loss: 1.80989039 (1.2891 + 0.5208)\n",
      "Step: 200, loss: 1.75252545 (1.2467 + 0.5059)\n",
      "Step: 300, loss: 1.72710156 (1.2279 + 0.4992)\n",
      "Step: 400, loss: 1.70832789 (1.2135 + 0.4948)\n",
      "Step: 500, loss: 1.67492712 (1.1850 + 0.4899)\n",
      "Step: 600, loss: 1.61547744 (1.1273 + 0.4882)\n",
      "Step: 700, loss: 1.55106044 (1.0573 + 0.4938)\n",
      "Step: 800, loss: 1.46432340 (0.9687 + 0.4957)\n",
      "Step: 900, loss: 1.39176810 (0.8924 + 0.4993)\n",
      "Step: 1000, loss: 1.31197774 (0.8121 + 0.4999)\n",
      "Step: 1100, loss: 1.03023601 (0.5257 + 0.5045)\n",
      "Step: 1200, loss: 0.95259273 (0.4534 + 0.4992)\n",
      "Step: 1300, loss: 0.94336963 (0.4444 + 0.4989)\n",
      "Step: 1400, loss: 0.93702114 (0.4387 + 0.4984)\n",
      "Step: 1500, loss: 0.93016392 (0.4313 + 0.4989)\n",
      "Step: 1600, loss: 0.92575574 (0.4243 + 0.5015)\n",
      "Step: 1700, loss: 0.90958869 (0.4113 + 0.4983)\n",
      "Step: 1800, loss: 0.89283264 (0.3951 + 0.4978)\n",
      "Step: 1900, loss: 0.87062174 (0.3735 + 0.4971)\n",
      "Step: 2000, loss: 0.84424782 (0.3478 + 0.4965)\n",
      "Step: 2100, loss: 0.81442422 (0.3179 + 0.4965)\n",
      "Step: 2200, loss: 0.78122795 (0.2823 + 0.4989)\n",
      "Step: 2300, loss: 0.72681814 (0.2306 + 0.4962)\n",
      "Step: 2400, loss: 0.64509618 (0.1498 + 0.4953)\n",
      "Step: 2500, loss: 0.53525412 (0.0388 + 0.4965)\n",
      "Step: 2600, loss: 0.42161059 (-0.0784 + 0.5000)\n",
      "Step: 2700, loss: 0.20124882 (-0.2969 + 0.4982)\n",
      "Step: 2800, loss: 0.00357413 (-0.4958 + 0.4994)\n",
      "Step: 2900, loss: -0.06837961 (-0.5668 + 0.4984)\n",
      "Step: 3000, loss: -0.12303396 (-0.6225 + 0.4995)\n",
      "Step: 3100, loss: -0.18642032 (-0.6789 + 0.4925)\n",
      "Step: 3200, loss: -0.25653100 (-0.7494 + 0.4929)\n",
      "Step: 3300, loss: -0.37231714 (-0.8628 + 0.4905)\n",
      "Step: 3400, loss: -0.49531707 (-0.9956 + 0.5003)\n",
      "Step: 3500, loss: -0.52873009 (-1.0278 + 0.4991)\n",
      "Step: 3600, loss: -0.54847705 (-1.0478 + 0.4993)\n",
      "Step: 3700, loss: -0.55199248 (-1.0490 + 0.4970)\n",
      "Step: 3800, loss: -0.56558657 (-1.0630 + 0.4975)\n",
      "Step: 3900, loss: -0.57232559 (-1.0704 + 0.4981)\n",
      "Step: 4000, loss: -0.56957704 (-1.0772 + 0.5076)\n",
      "Step: 4100, loss: -0.57759547 (-1.0757 + 0.4981)\n",
      "Step: 4200, loss: -0.57853609 (-1.0778 + 0.4992)\n",
      "Step: 4300, loss: -0.58030486 (-1.0777 + 0.4974)\n",
      "Step: 4400, loss: -0.56489366 (-1.0649 + 0.5000)\n",
      "Step: 4500, loss: -0.58258116 (-1.0834 + 0.5008)\n",
      "Step: 4600, loss: -0.58337504 (-1.0832 + 0.4998)\n",
      "Step: 4700, loss: -0.58392066 (-1.0867 + 0.5027)\n",
      "Step: 4800, loss: -0.58308315 (-1.0750 + 0.4919)\n",
      "Step: 4900, loss: -0.58368051 (-1.0851 + 0.5014)\n",
      "Finished training\n"
     ]
    }
   ],
   "source": [
    "x = tf.placeholder(dtype=tf.float32, shape=[None,1])\n",
    "y = tf.placeholder(dtype=tf.float32, shape=[None,2])\n",
    "\n",
    "NHIDDEN = 20\n",
    "W = tf.Variable(tf.random_normal([1,NHIDDEN], stddev=0.1, dtype=tf.float32))\n",
    "b = tf.Variable(tf.random_normal([NHIDDEN], stddev=0.1, dtype=tf.float32))\n",
    "\n",
    "W_out = tf.Variable(tf.random_normal([NHIDDEN,4], stddev=0.1, dtype=tf.float32))\n",
    "b_out = tf.Variable(tf.random_normal([4], stddev=0.1, dtype=tf.float32))\n",
    "\n",
    "hidden_layer = tf.nn.tanh(tf.matmul(x, W) + b)\n",
    "\n",
    "y_out = tf.matmul(hidden_layer,W_out) + b_out\n",
    "\n",
    "out_sigma = tf.placeholder(dtype=tf.float32, shape=[2], name=\"mixparam\")\n",
    "out_mu = tf.placeholder(dtype=tf.float32, shape=[2], name=\"mixparam\")\n",
    "out_mu, out_sigma = tf.split(1,2, y_out)#get_mixture_coef(y_out)\n",
    "out_sigma = tf.exp(out_sigma)*1.0\n",
    "y_out = tf.concat(1, [out_mu, out_sigma])\n",
    "\n",
    "loss_left = tf.reduce_mean(tf.log(out_sigma))\n",
    "loss_right = tf.reduce_mean(0.5*tf.square(tf.div(tf.sub(out_mu, y),out_sigma)))\n",
    "\n",
    "lossfunc = tf.reduce_mean(tf.log(out_sigma)+0.5*tf.square(tf.div(tf.sub(out_mu, y),out_sigma)))\n",
    "\n",
    "train_op = tf.train.AdamOptimizer(learning_rate=0.01).minimize(lossfunc)\n",
    "#train_op = tf.train.RMSPropOptimizer(learning_rate=0.1, decay=0.8).minimize(lossfunc)\n",
    "\n",
    "sess = tf.InteractiveSession()\n",
    "sess.run(tf.initialize_all_variables())\n",
    "\n",
    "NEPOCH = 5000\n",
    "for i in range(NEPOCH):\n",
    "    l,_, ll, lr = sess.run([lossfunc,train_op, loss_left, loss_right],feed_dict={x: x_data, y: y_data})\n",
    "    if i%100 == 0:\n",
    "        print(\"Step: %d, loss: %.8f (%.4f + %.4f)\"%(i,l,ll,lr))\n",
    "\n",
    "print('Finished training')\n",
    "\n",
    "#l = sess.run([l2], feed_dict={x: x_data, y: y_data})\n",
    "#print(l)\n",
    "#diag_loss = np.hstack((om, l1, l2, l3))\n",
    "#print(diag_loss[:10,:])\n",
    "\n",
    "x_test = np.float32(np.arange(-10.5,10.5,0.1))\n",
    "x_test = x_test.reshape(x_test.size,1)\n",
    "y_test, os = sess.run([y_out, out_sigma],feed_dict={x: x_test})\n",
    "\n",
    "sess.close()"
   ]
  },
  {
   "cell_type": "code",
   "execution_count": 7,
   "metadata": {
    "collapsed": false
   },
   "outputs": [
    {
     "name": "stdout",
     "output_type": "stream",
     "text": [
      "[[-12.54631996   8.02966785   0.40164357   0.62812573]\n",
      " [-12.353755     8.01272392   0.38443363   0.61238438]\n",
      " [-12.14631844   7.99498606   0.36765271   0.59671307]\n",
      " [-11.92306614   7.97613096   0.35136986   0.58117574]\n",
      " [-11.68302345   7.95576811   0.33565611   0.56584245]\n",
      " [-11.42520809   7.93345833   0.32058221   0.55078894]\n",
      " [-11.14863014   7.90868807   0.30621743   0.53609502]\n",
      " [-10.85233116   7.88089418   0.29262814   0.52184325]\n",
      " [-10.53533173   7.8494525    0.27987498   0.50811708]\n",
      " [-10.19673729   7.8137002    0.26801389   0.49500003]\n",
      " [ -9.83569908   7.77293396   0.25709203   0.48257238]\n",
      " [ -9.45149231   7.72643518   0.24714954   0.47091025]\n",
      " [ -9.04355431   7.67348719   0.23821703   0.46008292]\n",
      " [ -8.61152649   7.61339664   0.23031615   0.45015109]\n",
      " [ -8.15535831   7.54553223   0.22345874   0.44116485]\n",
      " [ -7.67535639   7.46933794   0.21764745   0.43316233]\n",
      " [ -7.17229223   7.38437843   0.21287447   0.42616722]\n",
      " [ -6.64746618   7.2903657    0.2091224    0.42018875]\n",
      " [ -6.1027689    7.18717146   0.2063628    0.41521969]\n",
      " [ -5.54075384   7.07486296   0.20455673   0.41123652]\n",
      " [ -4.96460199   6.95369196   0.20365347   0.40819928]\n",
      " [ -4.37813616   6.82409716   0.20359091   0.40605354]\n",
      " [ -3.7856946    6.68668842   0.20429516   0.40473133]\n",
      " [ -3.19204044   6.54219723   0.20568112   0.40415478]\n",
      " [ -2.60217047   6.39145756   0.20765421   0.40423989]\n",
      " [ -2.02112293   6.23532104   0.21011239   0.40490091]\n",
      " [ -1.45379293   6.07464123   0.21294895   0.40605497]\n",
      " [ -0.90474069   5.91017866   0.2160565    0.40762803]\n",
      " [ -0.3780216    5.74259138   0.21933089   0.409558  ]\n",
      " [  0.12291443   5.5723815    0.22267501   0.41179964]]\n"
     ]
    }
   ],
   "source": [
    "print(y_test[:30,:])\n",
    "plt.figure(figsize=(8, 8))\n",
    "#plt.plot(x_data,y_data,'ro', x_test,y_test[:,0],'bo',alpha=0.3)\n",
    "#plt.plot(x_data,y_data,'ro', x_test,y_test[:,0],'bo', x_test, y_test[:,1], 'b-', alpha=0.3)\n",
    "plt.plot(x_data,y_data[:,0],'ro',x_data,y_data[:,1],'bo',x_test, y_test[:,0],'g*',x_test, y_test[:,1],'g*',alpha=0.3)\n",
    "plt.show()"
   ]
  }
 ],
 "metadata": {
  "kernelspec": {
   "display_name": "Python 2",
   "language": "python",
   "name": "python2"
  },
  "language_info": {
   "codemirror_mode": {
    "name": "ipython",
    "version": 2
   },
   "file_extension": ".py",
   "mimetype": "text/x-python",
   "name": "python",
   "nbconvert_exporter": "python",
   "pygments_lexer": "ipython2",
   "version": "2.7.11"
  }
 },
 "nbformat": 4,
 "nbformat_minor": 0
}
