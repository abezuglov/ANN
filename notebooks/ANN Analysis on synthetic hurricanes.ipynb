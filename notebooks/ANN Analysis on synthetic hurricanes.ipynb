{
 "cells": [
  {
   "cell_type": "code",
   "execution_count": 40,
   "metadata": {
    "collapsed": false
   },
   "outputs": [],
   "source": [
    "from __future__ import print_function\n",
    "import matplotlib.pyplot as plt\n",
    "import numpy as np\n",
    "import os\n",
    "import sys\n",
    "import time\n",
    "import tarfile\n",
    "from IPython.display import display, Image\n",
    "from scipy import ndimage\n",
    "from sklearn.linear_model import LogisticRegression\n",
    "from six.moves.urllib.request import urlretrieve\n",
    "from six.moves import cPickle as pickle\n",
    "import tensorflow as tf\n",
    "import scipy"
   ]
  },
  {
   "cell_type": "code",
   "execution_count": 76,
   "metadata": {
    "collapsed": false
   },
   "outputs": [
    {
     "name": "stdout",
     "output_type": "stream",
     "text": [
      "(62532, 10)\n",
      "(62532, 20)\n"
     ]
    }
   ],
   "source": [
    "network_out = np.loadtxt(\"../code/test_track_out2.dat\")\n",
    "true_out = np.loadtxt(\"../data/ann_dataset_10points_combined.out\")\n",
    "print(network_out.shape)\n",
    "predicted_vs_actual = np.hstack((network_out, true_out[:,8:]))\n",
    "print(predicted_vs_actual.shape)"
   ]
  },
  {
   "cell_type": "code",
   "execution_count": 38,
   "metadata": {
    "collapsed": false
   },
   "outputs": [
    {
     "name": "stdout",
     "output_type": "stream",
     "text": [
      "(9263, 20)\n",
      "(9263, 10)\n",
      "(9263, 10)\n",
      "(9263, 20)\n"
     ]
    },
    {
     "data": {
      "text/plain": [
       "'\\nnetwork_out = np.loadtxt(\"../code/test_track_out2.dat\")\\ntrue_out = np.loadtxt(\"../data/ann_dataset_10points_combined.out\")\\nprint(network_out.shape)\\npredicted_vs_actual = np.hstack((network_out, true_out[:,8:]))\\nprint(predicted_vs_actual.shape)\\n'"
      ]
     },
     "execution_count": 38,
     "metadata": {},
     "output_type": "execute_result"
    }
   ],
   "source": [
    "\"\"\"\n",
    "Experimental check on vanilla recurrent ANN\n",
    "\"\"\"\n",
    "out = np.loadtxt(\"../code/test_track_out2.dat\")\n",
    "network_out = out[:,:10]\n",
    "true_out = out[:,10:20]\n",
    "print(out.shape)\n",
    "print(network_out.shape)\n",
    "print(true_out.shape)\n",
    "predicted_vs_actual = np.hstack((network_out, true_out))\n",
    "print(predicted_vs_actual.shape)\n",
    "\"\"\"\n",
    "network_out = np.loadtxt(\"../code/test_track_out2.dat\")\n",
    "true_out = np.loadtxt(\"../data/ann_dataset_10points_combined.out\")\n",
    "print(network_out.shape)\n",
    "predicted_vs_actual = np.hstack((network_out, true_out[:,8:]))\n",
    "print(predicted_vs_actual.shape)\n",
    "\"\"\""
   ]
  },
  {
   "cell_type": "code",
   "execution_count": 3,
   "metadata": {
    "collapsed": false
   },
   "outputs": [
    {
     "name": "stdout",
     "output_type": "stream",
     "text": [
      "(62532, 10)\n",
      "[[ 0.0054  0.0051  0.0056  0.0059  0.0068  0.0071  0.0114  0.0122  0.0134\n",
      "   0.0167]]\n"
     ]
    }
   ],
   "source": [
    "print(network_out.shape)\n",
    "print(true_out[:1,8:])"
   ]
  },
  {
   "cell_type": "code",
   "execution_count": 78,
   "metadata": {
    "collapsed": false
   },
   "outputs": [
    {
     "name": "stdout",
     "output_type": "stream",
     "text": [
      "57080\n",
      "[0.074648756170272834, 0.058312920618057262, 0.016053395414352412, 0.0038075232505798695, 0.14975170974731444, 1.4136772737503054, 0.89553851194381706, 0.7622458089828491, 0.3245490095615387, 0.10276732268333433]\n",
      "(62532, 20)\n"
     ]
    }
   ],
   "source": [
    "i = 5\n",
    "k = np.argmax(np.abs(predicted_vs_actual[:,i]-predicted_vs_actual[:,i+10]))\n",
    "print(k)\n",
    "max_error_case = [np.abs(predicted_vs_actual[k,i]-predicted_vs_actual[k,i+10]) for i in range(10)]\n",
    "print(max_error_case)\n",
    "start = 0 #(k // 193)*193\n",
    "stop = 193*50 #start + 193\n",
    "#start = 0\n",
    "#stop = 20*193\n",
    "\n",
    "print(predicted_vs_actual.shape)\n",
    "fig = plt.figure(figsize=(10, 6), dpi=80)\n",
    "for i in range(10):\n",
    "    sp = fig.add_subplot(10,1,i+1)\n",
    "    if i <= 4:\n",
    "        sp.set_ylim([-0.5, 3.0])\n",
    "    else:\n",
    "        sp.set_ylim([-0.5, 3.5])\n",
    "    sp.plot(predicted_vs_actual[start:stop,i],color=\"blue\", linewidth=1.5, linestyle=\"-\", label=\"prediction\")\n",
    "    sp.plot(predicted_vs_actual[start:stop,i+10],color=\"red\", linewidth=1.5, linestyle=\"-\", label=\"observation\")\n",
    "#plt.legend(loc='upper right')\n",
    "plt.show()"
   ]
  },
  {
   "cell_type": "code",
   "execution_count": 321,
   "metadata": {
    "collapsed": false
   },
   "outputs": [
    {
     "name": "stdout",
     "output_type": "stream",
     "text": [
      "(62532, 20)\n",
      "(62532, 2)\n"
     ]
    }
   ],
   "source": [
    "# Saving location 5 for Brian\n",
    "print(predicted_vs_actual.shape)\n",
    "i = 5\n",
    "single_column = np.vstack([predicted_vs_actual[:,i], predicted_vs_actual[:,i+10]]).transpose()\n",
    "print(single_column.shape)\n",
    "plt.plot(single_column)\n",
    "plt.show()\n",
    "\n",
    "with open('../data/location_5_model_32_64.dat','wb') as f:\n",
    "    np.savetxt(f, single_column)"
   ]
  },
  {
   "cell_type": "code",
   "execution_count": 45,
   "metadata": {
    "collapsed": false
   },
   "outputs": [
    {
     "name": "stdout",
     "output_type": "stream",
     "text": [
      "(62532,)\n",
      "(0.89539922100901603, 0.00024430049514531551, 0.0090217064935166798)\n",
      "(0.89539922100901603, 0.00024430049514531551, 0.0090217064935166798)\n"
     ]
    }
   ],
   "source": [
    "from sklearn.metrics import explained_variance_score\n",
    "import scipy.stats as stats\n",
    "import pylab\n",
    "\n",
    "diff = (network_out-true_out[:,8:])\n",
    "diff = diff[:,5]\n",
    "print(diff.shape)\n",
    "\n",
    "#stats.probplot(diff, dist=\"norm\", plot=pylab)\n",
    "stats.probplot(diff, dist=\"t\", sparams=(2), plot=pylab)\n",
    "pylab.show()\n",
    "\n",
    "num_bins = 100\n",
    "# the histogram of the errors\n",
    "n, bins, patches = plt.hist(diff, num_bins, normed=1, facecolor='blue', alpha=0.5)\n",
    "\n",
    "params = stats.t.fit(diff)\n",
    "print(params)\n",
    "dist = stats.t(params[0], params[1], params[2])\n",
    "x = np.linspace(-2, 2, num_bins)\n",
    "plt.plot(x, dist.pdf(x), 'r-', lw = 3, alpha=0.5, label='t pdf')\n",
    "plt.show()\n",
    "print(params)"
   ]
  },
  {
   "cell_type": "markdown",
   "metadata": {},
   "source": [
    "Test distribution of errors:\n",
    "The best fit (R^2 = 0.855) is Student's T with 1.067 DOF, location 0.003919 (network slightly overestimates), scale = 0.01165\n",
    "However, T overestimates the probability of large errors"
   ]
  },
  {
   "cell_type": "code",
   "execution_count": 81,
   "metadata": {
    "collapsed": false
   },
   "outputs": [
    {
     "name": "stdout",
     "output_type": "stream",
     "text": [
      "(62532,)\n"
     ]
    }
   ],
   "source": [
    "import scipy\n",
    "import scipy.stats\n",
    "\n",
    "diff = (network_out-true_out[:,8:])\n",
    "#print(diff.shape)\n",
    "y = diff[:,5]\n",
    "print(y.shape)\n",
    "#y = np.square(y)\n",
    "x = np.arange(-3,3,0.01)\n",
    "size = diff.shape[0]\n",
    "\n",
    "h = plt.hist(y, bins=100,  color='w')\n",
    "plt.xlim(-3,3)\n",
    "plt.ylim(0,1000)\n",
    "\n",
    "dist_names = ['t']\n",
    "\n",
    "for dist_name in dist_names:\n",
    "    dist = getattr(scipy.stats, dist_name)\n",
    "    param = dist.fit(y)\n",
    "    #param = (1.5, param[1], param[2])\n",
    "    pdf_fitted = dist.pdf(x, *param[:-2], loc=param[-2], scale=param[-1])*2000\n",
    "    plt.plot(x, pdf_fitted, label=dist_name)\n",
    "plt.legend(loc='upper right')\n",
    "\n",
    "plt.show()\n"
   ]
  },
  {
   "cell_type": "code",
   "execution_count": 82,
   "metadata": {
    "collapsed": false
   },
   "outputs": [
    {
     "name": "stdout",
     "output_type": "stream",
     "text": [
      "(0.81072118710463981, -0.00075444364615744682, 0.0076500668823888361)\n",
      "0.810721187105\n",
      "-0.000754443646157\n",
      "0.00765006688239\n"
     ]
    }
   ],
   "source": [
    "import scipy.stats as stats\n",
    "stats.probplot(y, dist=\"t\", sparams=(2), plot=pylab)\n",
    "pylab.show()\n",
    "\n",
    "print(param)\n",
    "print(*param[:-2])\n",
    "print(param[-2])\n",
    "print(param[-1])"
   ]
  },
  {
   "cell_type": "markdown",
   "metadata": {},
   "source": [
    "Attempts to fit nonparametric distributions"
   ]
  },
  {
   "cell_type": "code",
   "execution_count": 92,
   "metadata": {
    "collapsed": false
   },
   "outputs": [
    {
     "name": "stdout",
     "output_type": "stream",
     "text": [
      "(62532,)\n",
      "Probability of the error between -0.10 and 0.10 meters: 0.9649\n"
     ]
    }
   ],
   "source": [
    "# Gaussian kernel density estimation\n",
    "from scipy import stats\n",
    "import matplotlib.pyplot as plt\n",
    "\n",
    "y = diff[:,0]\n",
    "print(y.shape)\n",
    "kde1 = stats.gaussian_kde(y)\n",
    "#kde2 = stats.gaussian_kde(y, bw_method='silverman')\n",
    "\n",
    "fig = plt.figure()\n",
    "ax = fig.add_subplot(111)\n",
    "\n",
    "#ax.plot(y, np.zeros(y.shape), 'b+', ms=20)  # rug plot\n",
    "x_eval = np.linspace(-2, 2, num=200)\n",
    "#ax.plot(x_eval, kde1(x_eval), 'k-', label=\"Scott's Rule\")\n",
    "#ax.plot(x_eval, kde2(x_eval), 'r-', label=\"Silverman's Rule\")\n",
    "#plt.legend(loc='upper right')\n",
    "#plt.show()\n",
    "\n",
    "err_min, err_max = -0.1,0.1\n",
    "\n",
    "print(\"Probability of the error between %.2f and %.2f meters: %.4f\"%(err_min, err_max,kde1.integrate_box_1d(err_min, err_max)))"
   ]
  },
  {
   "cell_type": "code",
   "execution_count": 103,
   "metadata": {
    "collapsed": false
   },
   "outputs": [
    {
     "name": "stdout",
     "output_type": "stream",
     "text": [
      "Min: -2.7278m, Max: 1.5870m\n",
      "Probability of the error between -0.50 and 0.50 meters: 0.9086\n"
     ]
    }
   ],
   "source": [
    "# Gaussian kernel density estimation for \"active\" portions of the data only\n",
    "from scipy import stats\n",
    "import matplotlib.pyplot as plt\n",
    "\n",
    "active_start = 130\n",
    "active_stop = 160\n",
    "y = diff[:,9]\n",
    "\n",
    "active_y = y.reshape(-1,193).transpose()[active_start:active_stop,:].reshape(-1)\n",
    "\n",
    "print(\"Min: %.4fm, Max: %.4fm\" %(np.amin(active_y),np.amax(active_y)))\n",
    "kde1 = stats.gaussian_kde(active_y)\n",
    "kde2 = stats.gaussian_kde(y, bw_method='silverman')\n",
    "\n",
    "#fig = plt.figure()\n",
    "#ax = fig.add_subplot(111)\n",
    "\n",
    "#ax.plot(active_y, np.zeros(active_y.shape), 'b+', ms=20)  # rug plot\n",
    "x_eval = np.linspace(-2, 2, num=200)\n",
    "#ax.plot(x_eval, kde1(x_eval), 'k-', label=\"Scott's Rule\")\n",
    "#ax.plot(x_eval, kde2(x_eval), 'r-', label=\"Silverman's Rule\")\n",
    "#plt.legend(loc='upper right')\n",
    "#plt.show()\n",
    "\n",
    "err_min, err_max = -0.5,0.5\n",
    "\n",
    "print(\"Probability of the error between %.2f and %.2f meters: %.4f\"%(err_min, err_max,kde1.integrate_box_1d(err_min, err_max)))"
   ]
  }
 ],
 "metadata": {
  "kernelspec": {
   "display_name": "Python 2",
   "language": "python",
   "name": "python2"
  },
  "language_info": {
   "codemirror_mode": {
    "name": "ipython",
    "version": 2
   },
   "file_extension": ".py",
   "mimetype": "text/x-python",
   "name": "python",
   "nbconvert_exporter": "python",
   "pygments_lexer": "ipython2",
   "version": "2.7.11"
  }
 },
 "nbformat": 4,
 "nbformat_minor": 0
}
