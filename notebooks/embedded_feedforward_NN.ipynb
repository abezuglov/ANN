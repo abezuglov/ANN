{
 "cells": [
  {
   "cell_type": "code",
   "execution_count": 2,
   "metadata": {
    "collapsed": false
   },
   "outputs": [],
   "source": [
    "from __future__ import print_function\n",
    "import matplotlib.pyplot as plt\n",
    "import numpy as np\n",
    "import os\n",
    "import sys\n",
    "import time\n",
    "import tarfile\n",
    "from IPython.display import display, Image\n",
    "from scipy import ndimage\n",
    "from sklearn.linear_model import LogisticRegression\n",
    "from six.moves.urllib.request import urlretrieve\n",
    "from six.moves import cPickle as pickle\n",
    "import tensorflow as tf\n",
    "import scipy"
   ]
  },
  {
   "cell_type": "code",
   "execution_count": 3,
   "metadata": {
    "collapsed": false
   },
   "outputs": [
    {
     "name": "stdout",
     "output_type": "stream",
     "text": [
      "../data/ann_dataset1.tar\n",
      "http://mrtee.europa.renci.org/~bblanton/ANN/ann_dataset1.tar\n",
      "Found and verified ann_dataset1.tar\n"
     ]
    }
   ],
   "source": [
    "# Download and save the archived data\n",
    "\n",
    "url = 'http://mrtee.europa.renci.org/~bblanton/ANN/'\n",
    "to = \"../data\"\n",
    "\n",
    "def maybe_download(filename, expected_bytes, force=False):\n",
    "    \"\"\"Download a file if not present, and make sure it's the right size.\"\"\"\n",
    "    print(os.path.join(to,filename))\n",
    "    print(url+filename)\n",
    "    if force or not os.path.exists(os.path.join(to,filename)):\n",
    "        filename, _ = urlretrieve(url + filename, os.path.join(to,filename))\n",
    "    statinfo = os.stat(os.path.join(to,filename))\n",
    "    if statinfo.st_size == expected_bytes:\n",
    "        print('Found and verified', filename)\n",
    "    else:\n",
    "        raise Exception(\n",
    "          'Failed to verify' + filename + '. Can you get to it with a browser?')\n",
    "    return filename\n",
    "\n",
    "data_filename = maybe_download('ann_dataset1.tar', 5642240)"
   ]
  },
  {
   "cell_type": "code",
   "execution_count": 4,
   "metadata": {
    "collapsed": false
   },
   "outputs": [
    {
     "name": "stdout",
     "output_type": "stream",
     "text": [
      "../data already present - Skipping extraction of ../data/ann_dataset1.tar.\n",
      "Processed 0/324 \n",
      "\n",
      "Processed 100/324 \n",
      "\n",
      "Processed 200/324 \n",
      "\n",
      "Processed 300/324 \n",
      "\n",
      "(324, 193, 10)\n"
     ]
    }
   ],
   "source": [
    "# Two output data set\n",
    "# Extract files from the archive\n",
    "def maybe_extract(filename, force=False):\n",
    "    extract_folder = os.path.splitext(os.path.splitext(filename)[0])[0]  # remove .tar.gz\n",
    "    root = os.path.dirname(filename)\n",
    "    if os.path.isdir(extract_folder) and not force:\n",
    "    # You may override by setting force=True.\n",
    "        print('%s already present - Skipping extraction of %s.' % (root, filename))\n",
    "    else:\n",
    "        print('Extracting data for %s. This may take a while. Please wait.' % root)\n",
    "        tar = tarfile.open(filename)\n",
    "        sys.stdout.flush()\n",
    "        tar.extractall(path = root)\n",
    "        tar.close()\n",
    "    data_files = [\n",
    "        os.path.join(extract_folder, d) for d in sorted(os.listdir(extract_folder))\n",
    "        if os.path.isdir(extract_folder)]\n",
    "    return data_files\n",
    "  \n",
    "data_filename = \"../data/ann_dataset1.tar\"\n",
    "data_files = maybe_extract(data_filename)\n",
    "\n",
    "# Load files and produce dataset\n",
    "def maybe_load(file_names):\n",
    "    names = ('index','time', 'long', 'lat', 'param1', 'param2', 'param3', 'param4', 'out1', 'out2')\n",
    "    datafile_length = 193\n",
    "    dataset = np.ndarray(shape=(len(file_names), datafile_length, len(names)))\n",
    "    for i in range(0,len(file_names)):\n",
    "        a = np.loadtxt(file_names[i])\n",
    "        a = np.asarray([x for xs in a for x in xs],dtype='d').reshape([datafile_length,len(names)])\n",
    "        dataset[i,:,:] = a\n",
    "        if i%100 == 0:\n",
    "            print(\"Processed %d/%d \\n\"%(i,len(file_names)))\n",
    "    return dataset\n",
    "\n",
    "dataset = maybe_load(data_files)\n",
    "print(dataset.shape)"
   ]
  },
  {
   "cell_type": "code",
   "execution_count": 5,
   "metadata": {
    "collapsed": false
   },
   "outputs": [
    {
     "name": "stdout",
     "output_type": "stream",
     "text": [
      "../data already present - Skipping extraction of ../data/ann_dataset_10points.tar.\n",
      "Processed 0/324 \n",
      "\n",
      "Processed 100/324 \n",
      "\n",
      "Processed 200/324 \n",
      "\n",
      "Processed 300/324 \n",
      "\n",
      "(324, 193, 18)\n"
     ]
    }
   ],
   "source": [
    "# Ten output data set\n",
    "# Extract files from the archive\n",
    "def maybe_extract(filename, force=False):\n",
    "    extract_folder = os.path.splitext(os.path.splitext(filename)[0])[0]  # remove .tar.gz\n",
    "    root = os.path.dirname(filename)\n",
    "    if os.path.isdir(extract_folder) and not force:\n",
    "    # You may override by setting force=True.\n",
    "        print('%s already present - Skipping extraction of %s.' % (root, filename))\n",
    "    else:\n",
    "        print('Extracting data for %s. This may take a while. Please wait.' % root)\n",
    "        tar = tarfile.open(filename)\n",
    "        sys.stdout.flush()\n",
    "        tar.extractall(path = root)\n",
    "        tar.close()\n",
    "    data_files = [\n",
    "        os.path.join(extract_folder, d) for d in sorted(os.listdir(extract_folder))\n",
    "        if os.path.isdir(extract_folder)]\n",
    "    return data_files\n",
    "  \n",
    "data_filename = \"../data/ann_dataset_10points.tar\"\n",
    "data_files = maybe_extract(data_filename)\n",
    "\n",
    "# Load files and produce dataset\n",
    "def maybe_load(file_names):\n",
    "    names = ('index','time', 'long', 'lat', 'param1', 'param2', 'param3', 'param4', 'out1', 'out2',\n",
    "            'out3', 'out4','out5', 'out6','out7', 'out8','out9', 'out10',)\n",
    "    datafile_length = 193\n",
    "    dataset = np.ndarray(shape=(len(file_names), datafile_length, len(names)))\n",
    "    for i in range(0,len(file_names)):\n",
    "        a = np.loadtxt(file_names[i])\n",
    "        a = np.asarray([x for xs in a for x in xs],dtype='d').reshape([datafile_length,len(names)])\n",
    "        dataset[i,:,:] = a\n",
    "        if i%100 == 0:\n",
    "            print(\"Processed %d/%d \\n\"%(i,len(file_names)))\n",
    "    return dataset\n",
    "\n",
    "dataset = maybe_load(data_files)\n",
    "print(dataset.shape)"
   ]
  },
  {
   "cell_type": "code",
   "execution_count": 43,
   "metadata": {
    "collapsed": false
   },
   "outputs": [
    {
     "name": "stdout",
     "output_type": "stream",
     "text": [
      "Test dataset: (48, 193, 18)\n",
      "Validation dataset: (48, 193, 18)\n",
      "Training dataset: (228, 193, 18)\n"
     ]
    }
   ],
   "source": [
    "# train, validation, and test dataset percentages\n",
    "train_percent = 70\n",
    "valid_percent = 15\n",
    "test_percent = 15\n",
    "\n",
    "# train, validation, and test dataset indices\n",
    "# test: test_start : valid_start-1\n",
    "# validation: valid_start : train_start-1\n",
    "# training: train_start : dataset.shape[0]\n",
    "test_start = 0 \n",
    "valid_start = 48 #int(test_percent/100.0*dataset.shape[0])\n",
    "train_start = 48 + 48 #int((test_percent+valid_percent)/100.0*dataset.shape[0])\n",
    "\n",
    "# Shuffle file indices\n",
    "file_indices = range(dataset.shape[0])\n",
    "np.random.shuffle(file_indices)\n",
    "\n",
    "# Assign datasets\n",
    "test_dataset = np.array([dataset[j,:,:] for j in [file_indices[i] for i in range(test_start, valid_start)]])\n",
    "valid_dataset = np.array([dataset[j,:,:] for j in [file_indices[i] for i in range(valid_start, train_start)]])\n",
    "train_dataset = np.array([dataset[j,:,:] for j in [file_indices[i] for i in range(train_start, dataset.shape[0])]])\n",
    "\n",
    "# Save memory\n",
    "#del(dataset)\n",
    "print(\"Test dataset: \"+str(test_dataset.shape))\n",
    "print(\"Validation dataset: \"+str(valid_dataset.shape))\n",
    "print(\"Training dataset: \"+str(train_dataset.shape))"
   ]
  },
  {
   "cell_type": "code",
   "execution_count": 44,
   "metadata": {
    "collapsed": false
   },
   "outputs": [
    {
     "name": "stdout",
     "output_type": "stream",
     "text": [
      "train outputs:  (228, 193, 18)\n",
      "(44004, 6)\n",
      "(44004, 10)\n"
     ]
    }
   ],
   "source": [
    "def accuracy_mse(predictions, outputs):\n",
    "    err = predictions-outputs\n",
    "    return np.mean(err*err)\n",
    "\n",
    "def Normalize(x, means, stds):\n",
    "    return (x-means)/stds\n",
    "\n",
    "# Reshape the data and normalize\n",
    "\n",
    "train_dataset2 = train_dataset[:,:,1:7].reshape((-1, 6)).astype(np.float32)\n",
    "train_output = train_dataset[:,:,8:18].reshape((-1, 10)).astype(np.float32)\n",
    "print(\"train outputs: \",train_dataset.shape)\n",
    "\n",
    "# calculate means and stds for training dataset\n",
    "input_means = [np.mean(train_dataset2[:,i]) for i in range(train_dataset2.shape[1])]\n",
    "input_stds = [np.std(train_dataset2[:,i]) for i in range(train_dataset2.shape[1])]\n",
    "output_means = [np.mean(train_output[:,i]) for i in range(train_output.shape[1])]\n",
    "output_stds = [np.std(train_output[:,i]) for i in range(train_output.shape[1])]\n",
    "\n",
    "train_dataset2 = Normalize(train_dataset2, input_means, input_stds)\n",
    "#train_output = Normalize(train_output, output_means, output_stds)\n",
    "\n",
    "print(train_dataset2.shape)\n",
    "print(train_output.shape)\n",
    "\n",
    "#plt.plot(train_dataset2[:193,:],label=\"input\")\n",
    "#plt.plot(train_output[:193,:],label=\"output\")\n",
    "#plt.ylabel(\"training data\")\n",
    "#plt.legend(loc='upper right', shadow=True)\n",
    "#plt.show()\n",
    "\n",
    "valid_dataset2 = Normalize(valid_dataset[:,:,1:7].reshape((-1, 6)).astype(np.float32), input_means, input_stds)\n",
    "valid_output = valid_dataset[:,:,8:18].reshape((-1, 10)).astype(np.float32)\n",
    "#valid_output = Normalize(valid_dataset[:,:,8:18].reshape((-1, 2)).astype(np.float32), output_means, output_stds)\n",
    "\n",
    "test_dataset2 = Normalize(test_dataset[:,:,1:7].reshape((-1, 6)).astype(np.float32),input_means, input_stds)\n",
    "test_output = test_dataset[:,:,8:18].reshape((-1, 10)).astype(np.float32)\n",
    "#test_output = Normalize(test_dataset[:,:,8:18].reshape((-1, 2)).astype(np.float32), output_means, output_stds)\n"
   ]
  },
  {
   "cell_type": "code",
   "execution_count": 13,
   "metadata": {
    "collapsed": false
   },
   "outputs": [],
   "source": [
    "num_embeds = 2 # number of embeddings, i.e. 0 -- the original array\n",
    "#print(train_dataset2[:-1,:])\n",
    "#print(train_dataset2[1:,:])\n",
    "\n",
    "def get_embeddings(dataset, num_embeds = 1):\n",
    "    dataset_list = []\n",
    "    if num_embeds == 0:\n",
    "        return dataset\n",
    "    for i in range(num_embeds):\n",
    "        dataset_list.append(dataset[i:(-num_embeds+i),:])\n",
    "        #dataset_list.append(dataset[num_embeds:,:])\n",
    "    return np.hstack(dataset_list)\n",
    "\n",
    "train_dataset2 = get_embeddings(train_dataset2, num_embeds)\n",
    "valid_dataset2 = get_embeddings(valid_dataset2, num_embeds)\n",
    "test_dataset2 = get_embeddings(test_dataset2, num_embeds)\n",
    "train_output = train_output[num_embeds:,:]\n",
    "valid_output = valid_output[num_embeds:,:]\n",
    "test_output = test_output[num_embeds:,:]\n"
   ]
  },
  {
   "cell_type": "code",
   "execution_count": 8,
   "metadata": {
    "collapsed": false
   },
   "outputs": [
    {
     "name": "stdout",
     "output_type": "stream",
     "text": [
      "(43811, 6)\n",
      "n_components: 5\n",
      "explained variance (first 2 components): 0.98\n"
     ]
    }
   ],
   "source": [
    "import sklearn.decomposition as deco\n",
    "\n",
    "print(train_dataset2.shape)\n",
    "x = train_dataset2\n",
    "n_components=1\n",
    "pca = deco.PCA(n_components = 'mle') # n_components is the components number after reduction\n",
    "_r = pca.fit(x).transform(x)\n",
    "#ca.fit(x)\n",
    "print('n_components:',pca.n_components_)\n",
    "#for x in pca.components_:\n",
    "#   print(x)\n",
    "print ('explained variance (first %d components): %.2f'%(n_components, sum(pca.explained_variance_ratio_)))\n",
    "#==================================================="
   ]
  },
  {
   "cell_type": "code",
   "execution_count": 93,
   "metadata": {
    "collapsed": false
   },
   "outputs": [],
   "source": [
    "def variance(x):\n",
    "    return tf.reduce_mean(tf.square(x-tf.reduce_mean(x)))\n",
    "\n",
    "def explained_var(y_true, y_predicted):\n",
    "    return 1 - tf.div(variance(tf.sub(y_true,y_predicted)),variance(y_true))\n",
    "\n",
    "input_size = train_dataset2.shape[1]\n",
    "output_size = 10\n",
    "\n",
    "# Deep ANN\n",
    "batch_size = 19*193\n",
    "hidden_nodes_1 = 128 #64\n",
    "hidden_nodes_2 = 256 #64\n",
    "\n",
    "num_steps = 10001\n",
    "starter_learning_rate = 0.001\n",
    "\n",
    "graph = tf.Graph()\n",
    "with graph.as_default():\n",
    "\n",
    "    # Input data.\n",
    "    # Load the training, validation and test data into constants that are\n",
    "    # attached to the graph.\n",
    "    \n",
    "    tf_train_dataset = tf.placeholder(tf.float32, shape=(batch_size, input_size)) #train_dataset2.shape(2)\n",
    "    tf_train_labels = tf.placeholder(tf.float32, shape=(batch_size, output_size))\n",
    "    tf_valid_dataset = tf.constant(valid_dataset2)\n",
    "    tf_test_dataset = tf.constant(test_dataset2)\n",
    "  \n",
    "    weights_0 = tf.Variable(tf.truncated_normal([input_size,hidden_nodes_1], stddev = 0.1, dtype = tf.float32))\n",
    "    biases_0 = tf.Variable(tf.zeros([hidden_nodes_1], dtype = tf.float32))\n",
    "    \n",
    "    weights_1 = tf.Variable(tf.truncated_normal([hidden_nodes_1,hidden_nodes_2], stddev = 0.1, dtype = tf.float32))\n",
    "    biases_1 = tf.Variable(tf.zeros([hidden_nodes_2], dtype = tf.float32))\n",
    "    \n",
    "    weights_2 = tf.Variable(tf.truncated_normal([hidden_nodes_2,output_size], stddev = 0.1, dtype = tf.float32))\n",
    "    biases_2 = tf.Variable(tf.zeros([output_size], dtype = tf.float32))\n",
    "\n",
    "    # L2 regularization for the fully connected parameters.\n",
    "    regularizers = (tf.nn.l2_loss(weights_0) + tf.nn.l2_loss(biases_0) +\n",
    "                  tf.nn.l2_loss(weights_1) + tf.nn.l2_loss(biases_1) + \n",
    "                  tf.nn.l2_loss(weights_2) + tf.nn.l2_loss(biases_2))\n",
    "    \n",
    "    #regularizers = sum([tf.nn.l2_loss(v) for v in tf.all_variables()])\n",
    "  \n",
    "    input_layer_output = tf.tanh(tf.matmul(tf_train_dataset, weights_0) + biases_0)\n",
    "    hidden_layer_output = tf.tanh(tf.matmul(input_layer_output, weights_1) + biases_1)\n",
    "    #hidden_layer_output = tf.nn.dropout(hidden_layer_output, 0.5)\n",
    "    hidden_layer_output = tf.matmul(hidden_layer_output, weights_2) + biases_2\n",
    " \n",
    "    # standard loss is MSE\n",
    "    loss = tf.cast(tf.reduce_mean(tf.square(hidden_layer_output-tf_train_labels)),tf.float32)\n",
    "     # Add the regularization term to the loss.\n",
    "    loss += 1e-5 * regularizers\n",
    "\n",
    "    train_ev = explained_var(tf_train_labels, hidden_layer_output)\n",
    "        \n",
    "    global_step = tf.Variable(0.0, trainable=False)\n",
    "    learning_rate = tf.train.exponential_decay(starter_learning_rate, global_step, num_steps, 0.4, staircase=False)\n",
    "    optimizer = tf.train.AdamOptimizer(learning_rate).minimize(loss, global_step=global_step)\n",
    "  \n",
    "    train_prediction = loss\n",
    "    valid_prediction = tf.tanh(tf.matmul(tf_valid_dataset, weights_0) + biases_0)\n",
    "    valid_prediction = tf.tanh(tf.matmul(valid_prediction, weights_1) + biases_1)\n",
    "    valid_prediction = tf.matmul(valid_prediction, weights_2) + biases_2\n",
    "    \n",
    "    test_prediction = tf.tanh(tf.matmul(tf_test_dataset, weights_0) + biases_0)\n",
    "    test_prediction = tf.tanh(tf.matmul(test_prediction, weights_1) + biases_1)\n",
    "    test_prediction = tf.matmul(test_prediction, weights_2) + biases_2\n",
    "\n",
    "    "
   ]
  },
  {
   "cell_type": "code",
   "execution_count": 94,
   "metadata": {
    "collapsed": false
   },
   "outputs": [
    {
     "name": "stdout",
     "output_type": "stream",
     "text": [
      "Initialized\n",
      "Loss at step 0 (9.81 op/sec): 0.190758 (0.00140373); validation explained variance: -2.600712\n",
      "Loss at step 500 (55.89 op/sec): 0.050552 (0.00142949); validation explained variance: -0.238886\n",
      "Loss at step 1000 (57.43 op/sec): 0.033061 (0.00157270); validation explained variance: 0.384011\n",
      "Loss at step 1500 (56.75 op/sec): 0.024027 (0.00168084); validation explained variance: 0.565008\n",
      "Loss at step 2000 (56.70 op/sec): 0.019332 (0.00177506); validation explained variance: 0.659572\n",
      "Loss at step 2500 (53.40 op/sec): 0.016441 (0.00183490); validation explained variance: 0.732712\n",
      "Loss at step 3000 (54.10 op/sec): 0.014624 (0.00187007); validation explained variance: 0.757797\n",
      "Loss at step 3500 (54.93 op/sec): 0.013501 (0.00188670); validation explained variance: 0.782424\n",
      "Loss at step 4000 (53.70 op/sec): 0.012714 (0.00188879); validation explained variance: 0.798099\n",
      "Loss at step 4500 (54.32 op/sec): 0.012215 (0.00188142); validation explained variance: 0.802387\n",
      "Loss at step 5000 (53.91 op/sec): 0.011780 (0.00187009); validation explained variance: 0.813507\n",
      "Loss at step 5500 (54.99 op/sec): 0.011372 (0.00185578); validation explained variance: 0.815684\n",
      "Loss at step 6000 (53.11 op/sec): 0.011092 (0.00183907); validation explained variance: 0.821248\n",
      "Loss at step 6500 (53.04 op/sec): 0.010823 (0.00182178); validation explained variance: 0.824640\n",
      "Loss at step 7000 (54.98 op/sec): 0.010615 (0.00180433); validation explained variance: 0.827990\n",
      "Loss at step 7500 (53.49 op/sec): 0.010436 (0.00178887); validation explained variance: 0.830003\n",
      "Loss at step 8000 (53.96 op/sec): 0.010226 (0.00177408); validation explained variance: 0.834196\n",
      "Loss at step 8500 (53.64 op/sec): 0.010060 (0.00175925); validation explained variance: 0.835721\n",
      "Loss at step 9000 (53.88 op/sec): 0.009938 (0.00174457); validation explained variance: 0.835415\n",
      "Loss at step 9500 (53.83 op/sec): 0.009804 (0.00173102); validation explained variance: 0.840487\n",
      "Loss at step 10000 (54.61 op/sec): 0.009695 (0.00171823); validation explained variance: 0.839857\n",
      "Test MSE: 0.0099\n"
     ]
    }
   ],
   "source": [
    "def stop(data, n = 3):\n",
    "    assert len(data) > n*2\n",
    "    avg = sum(data)/len(data)\n",
    "    for x in (data-avg)[-n:]:\n",
    "        if x >= 0:\n",
    "            return False\n",
    "    return True\n",
    "\n",
    "from sklearn.metrics import explained_variance_score\n",
    "\n",
    "with tf.Session(graph=graph) as session:\n",
    "    tf.initialize_all_variables().run()\n",
    "    sum_l = 0\n",
    "    num_l = 0\n",
    "    ev_l = [0,0,0,0,0,0,0]\n",
    "    print('Initialized')\n",
    "    for step in range(num_steps):\n",
    "        offset = (step * batch_size) % (train_output.shape[0] - batch_size)\n",
    "        batch_data = train_dataset2[offset:(offset + batch_size), :]\n",
    "        batch_output = train_output[offset:(offset + batch_size), :]\n",
    "        feed_dict = {tf_train_dataset : batch_data, tf_train_labels : batch_output}\n",
    "        start_time = time.time()\n",
    "        _, l, reg, predictions = session.run([optimizer, loss, regularizers, train_prediction],feed_dict=feed_dict)\n",
    "        duration = time.time()-start_time\n",
    "        sum_l += l\n",
    "        num_l += 1\n",
    "        if (step % 500 == 0):\n",
    "            ev = explained_variance_score(valid_prediction.eval(), valid_output)\n",
    "            ev_l.append(ev)\n",
    "            ev_l = ev_l[1:]\n",
    "            print('Loss at step %d (%.2f op/sec): %f (%.8f); validation explained variance: %.6f' % (\n",
    "                    step, 1.0/duration, sum_l/num_l, \n",
    "                    #accuracy_mse(valid_prediction.eval(), valid_output)))\n",
    "                    1e-5 * reg,\n",
    "                    explained_variance_score(valid_prediction.eval(), valid_output)))\n",
    "            sum_l = 0\n",
    "            num_l = 0\n",
    "        if stop(ev_l):\n",
    "            print(\"Non increasing scores, so stopping early\")\n",
    "            break\n",
    "    print('Test MSE: %.4f' % accuracy_mse(test_prediction.eval(), test_output))\n",
    "    predicted_vs_actual = np.hstack((test_prediction.eval(), test_output))\n"
   ]
  },
  {
   "cell_type": "code",
   "execution_count": 95,
   "metadata": {
    "collapsed": false
   },
   "outputs": [
    {
     "name": "stdout",
     "output_type": "stream",
     "text": [
      "Point 0: Max loss: 0.625318, MSE: 0.025308 CC: 0.936734  \n",
      "Point 1: Max loss: 0.553658, MSE: 0.023322 CC: 0.944910  \n",
      "Point 2: Max loss: 0.446637, MSE: 0.018565 CC: 0.950132 v\n",
      "Point 3: Max loss: 0.336623, MSE: 0.015118 CC: 0.966874 v\n",
      "Point 4: Max loss: 0.606107, MSE: 0.023443 CC: 0.960653 v\n",
      "Point 5: Max loss: 1.802629, MSE: 0.038797 CC: 0.885071  \n",
      "Point 6: Max loss: 2.859492, MSE: 0.061917 CC: 0.921359  \n",
      "Point 7: Max loss: 2.092647, MSE: 0.083027 CC: 0.912929  \n",
      "Point 8: Max loss: 2.133331, MSE: 0.055362 CC: 0.911139  \n",
      "Point 9: Max loss: 2.364666, MSE: 0.070815 CC: 0.935048  \n",
      "1499\n",
      "[0.27907085, 0.14410701, 0.14917023, 0.3366226, 0.25336784, 0.82144356, 0.39450938, 0.45552731, 0.05117742, 0.024641663]\n",
      "(9264, 20)\n"
     ]
    }
   ],
   "source": [
    "over_95 = 0\n",
    "for i in range(10):\n",
    "    cc = np.corrcoef(predicted_vs_actual[:,i],predicted_vs_actual[:,i+10])[0,1]\n",
    "    m = np.max(np.abs(predicted_vs_actual[:,i]-predicted_vs_actual[:,i+10]))\n",
    "    mse = np.mean(np.sqrt(np.square(predicted_vs_actual[:,i]-predicted_vs_actual[:,i+10])))\n",
    "    \n",
    "    if cc >= 0.95:\n",
    "        over_95+=1\n",
    "    print('Point %d: Max loss: %.6f, MSE: %.6f CC: %.6f %c' % (i,m, mse, cc, 'v' if cc >= 0.95 else ' '))\n",
    "\n",
    "i = 3\n",
    "k = np.argmax(np.abs(predicted_vs_actual[:,i]-predicted_vs_actual[:,i+10]))\n",
    "print(k)\n",
    "max_error_case = [np.abs(predicted_vs_actual[k,i]-predicted_vs_actual[k,i+10]) for i in range(10)]\n",
    "print(max_error_case)\n",
    "start = (k // 193)*193\n",
    "stop = start + 193\n",
    "#start = 0\n",
    "#stop = 20*193\n",
    "\n",
    "print(predicted_vs_actual.shape)\n",
    "fig = plt.figure(figsize=(10, 6), dpi=80)\n",
    "\n",
    "for i in range(10):\n",
    "    sp = fig.add_subplot(10,1,i+1)\n",
    "    sp.plot(predicted_vs_actual[start:stop,i],color=\"blue\", linewidth=1.0, linestyle=\"-\", label=\"ANN\")\n",
    "    sp.plot(predicted_vs_actual[start:stop,i+10],color=\"red\", linewidth=1.0, linestyle=\"-\", label=\"actual\")\n",
    "plt.show()"
   ]
  },
  {
   "cell_type": "code",
   "execution_count": 231,
   "metadata": {
    "collapsed": false
   },
   "outputs": [
    {
     "name": "stdout",
     "output_type": "stream",
     "text": [
      "[ 2.  1.]\n"
     ]
    },
    {
     "ename": "AssertionError",
     "evalue": "",
     "output_type": "error",
     "traceback": [
      "\u001b[1;31m---------------------------------------------------------------------------\u001b[0m",
      "\u001b[1;31mAssertionError\u001b[0m                            Traceback (most recent call last)",
      "\u001b[1;32m<ipython-input-231-59addae8a709>\u001b[0m in \u001b[0;36m<module>\u001b[1;34m()\u001b[0m\n\u001b[0;32m     14\u001b[0m     \u001b[1;32mreturn\u001b[0m \u001b[0mTrue\u001b[0m\u001b[1;33m\u001b[0m\u001b[0m\n\u001b[0;32m     15\u001b[0m \u001b[1;33m\u001b[0m\u001b[0m\n\u001b[1;32m---> 16\u001b[1;33m \u001b[1;32mprint\u001b[0m\u001b[1;33m(\u001b[0m\u001b[0mstop\u001b[0m\u001b[1;33m(\u001b[0m\u001b[0md\u001b[0m\u001b[1;33m)\u001b[0m\u001b[1;33m)\u001b[0m\u001b[1;33m\u001b[0m\u001b[0m\n\u001b[0m",
      "\u001b[1;32m<ipython-input-231-59addae8a709>\u001b[0m in \u001b[0;36mstop\u001b[1;34m(data, n)\u001b[0m\n\u001b[0;32m      7\u001b[0m \u001b[1;33m\u001b[0m\u001b[0m\n\u001b[0;32m      8\u001b[0m \u001b[1;32mdef\u001b[0m \u001b[0mstop\u001b[0m\u001b[1;33m(\u001b[0m\u001b[0mdata\u001b[0m\u001b[1;33m,\u001b[0m \u001b[0mn\u001b[0m \u001b[1;33m=\u001b[0m \u001b[1;36m2\u001b[0m\u001b[1;33m)\u001b[0m\u001b[1;33m:\u001b[0m\u001b[1;33m\u001b[0m\u001b[0m\n\u001b[1;32m----> 9\u001b[1;33m     \u001b[1;32massert\u001b[0m \u001b[0mlen\u001b[0m\u001b[1;33m(\u001b[0m\u001b[0mdata\u001b[0m\u001b[1;33m)\u001b[0m \u001b[1;33m>\u001b[0m \u001b[0mn\u001b[0m\u001b[1;33m*\u001b[0m\u001b[1;36m2\u001b[0m\u001b[1;33m\u001b[0m\u001b[0m\n\u001b[0m\u001b[0;32m     10\u001b[0m     \u001b[0mavg\u001b[0m \u001b[1;33m=\u001b[0m \u001b[0msum\u001b[0m\u001b[1;33m(\u001b[0m\u001b[0mdata\u001b[0m\u001b[1;33m)\u001b[0m\u001b[1;33m/\u001b[0m\u001b[0mlen\u001b[0m\u001b[1;33m(\u001b[0m\u001b[0mdata\u001b[0m\u001b[1;33m)\u001b[0m\u001b[1;33m\u001b[0m\u001b[0m\n\u001b[0;32m     11\u001b[0m     \u001b[1;32mfor\u001b[0m \u001b[0mx\u001b[0m \u001b[1;32min\u001b[0m \u001b[1;33m(\u001b[0m\u001b[0mdata\u001b[0m\u001b[1;33m-\u001b[0m\u001b[0mavg\u001b[0m\u001b[1;33m)\u001b[0m\u001b[1;33m[\u001b[0m\u001b[1;33m-\u001b[0m\u001b[0mn\u001b[0m\u001b[1;33m:\u001b[0m\u001b[1;33m]\u001b[0m\u001b[1;33m:\u001b[0m\u001b[1;33m\u001b[0m\u001b[0m\n",
      "\u001b[1;31mAssertionError\u001b[0m: "
     ]
    }
   ],
   "source": [
    "d = np.asarray([])\n",
    "\n",
    "d = np.append(d,3)\n",
    "d = np.append(d,2)\n",
    "d = np.append(d,1)[1:]\n",
    "print(d)\n",
    "\n",
    "def stop(data, n = 2):\n",
    "    assert len(data) > n*2\n",
    "    avg = sum(data)/len(data)\n",
    "    for x in (data-avg)[-n:]:\n",
    "        if x <= 0:\n",
    "            return False\n",
    "    return True\n",
    "\n",
    "print(stop(d))"
   ]
  },
  {
   "cell_type": "code",
   "execution_count": 88,
   "metadata": {
    "collapsed": false
   },
   "outputs": [
    {
     "name": "stdout",
     "output_type": "stream",
     "text": [
      "Explained variance:  [0.88493001461029053, 0.8972550630569458, 0.9301445484161377, 0.952903151512146, 0.94944405555725098, 0.79921025037765503, 0.86350953578948975, 0.84181290864944458, 0.8511083722114563, 0.88050347566604614]\n",
      "(0.99827350996680675, -6.9478016230535051e-05, 0.024264558219175843)\n"
     ]
    },
    {
     "data": {
      "text/plain": [
       "\"\\nnum_bins = 100\\n# the histogram of the errors\\nn, bins, patches = plt.hist(diff, num_bins, normed=1, facecolor='green', alpha=0.5)\\n\\n# add a normal PDF\\nmu = 0\\nsigma = .05\\ny = mlab.normpdf(bins, mu, sigma)\\nplt.plot(bins, y, 'r-')\\nplt.xlabel('Smarts')\\nplt.ylabel('Probability')\\n\\n# add Cauchy PDF\\nparams = cauchy.fit(diff)\\nprint(params)\\ndist = cauchy(params[0], params[1])\\nx = np.linspace(-2, 2, num_bins)\\nplt.plot(x, dist.pdf(x), 'b-', alpha=0.5, label='cauchy pdf')\\n\\n\\n# Tweak spacing to prevent clipping of ylabel\\n#plt.subplots_adjust(left=0.15)\\n#plt.show()\\n\\nfig = plt.figure(figsize=(10,6),dpi=80)\\nplt.hist(diff, bins = 100, alpha=0.5)\\nplt.show()\\n\""
      ]
     },
     "execution_count": 88,
     "metadata": {},
     "output_type": "execute_result"
    }
   ],
   "source": [
    "from sklearn.metrics import explained_variance_score\n",
    "import scipy.stats as stats\n",
    "import pylab\n",
    "\n",
    "ev = []\n",
    "for i in range(10):\n",
    "    y_true = predicted_vs_actual[:,i]\n",
    "    y_pred = predicted_vs_actual[:,i+10]\n",
    "    ev.append(explained_variance_score(y_true, y_pred))\n",
    "    \n",
    "print(\"Explained variance: \",ev)\n",
    "diff = y_true-y_pred\n",
    "\n",
    "#stats.probplot(diff, dist=\"norm\", plot=pylab)\n",
    "stats.probplot(diff, dist=\"t\", sparams=(2), plot=pylab)\n",
    "pylab.show()\n",
    "\n",
    "num_bins = 100\n",
    "# the histogram of the errors\n",
    "n, bins, patches = plt.hist(diff, num_bins, normed=1, facecolor='green', alpha=0.5)\n",
    "\n",
    "params = stats.t.fit(diff)\n",
    "dist = stats.t(params[0], params[1], params[2])\n",
    "x = np.linspace(-2, 2, num_bins)\n",
    "plt.plot(x, dist.pdf(x), 'b-', lw = 3, alpha=0.5, label='t pdf')\n",
    "plt.show()\n",
    "print(params)\n",
    "\n",
    "\"\"\"\n",
    "num_bins = 100\n",
    "# the histogram of the errors\n",
    "n, bins, patches = plt.hist(diff, num_bins, normed=1, facecolor='green', alpha=0.5)\n",
    "\n",
    "# add a normal PDF\n",
    "mu = 0\n",
    "sigma = .05\n",
    "y = mlab.normpdf(bins, mu, sigma)\n",
    "plt.plot(bins, y, 'r-')\n",
    "plt.xlabel('Smarts')\n",
    "plt.ylabel('Probability')\n",
    "\n",
    "# add Cauchy PDF\n",
    "params = cauchy.fit(diff)\n",
    "print(params)\n",
    "dist = cauchy(params[0], params[1])\n",
    "x = np.linspace(-2, 2, num_bins)\n",
    "plt.plot(x, dist.pdf(x), 'b-', alpha=0.5, label='cauchy pdf')\n",
    "\n",
    "\n",
    "# Tweak spacing to prevent clipping of ylabel\n",
    "#plt.subplots_adjust(left=0.15)\n",
    "#plt.show()\n",
    "\n",
    "fig = plt.figure(figsize=(10,6),dpi=80)\n",
    "plt.hist(diff, bins = 100, alpha=0.5)\n",
    "plt.show()\n",
    "\"\"\""
   ]
  }
 ],
 "metadata": {
  "kernelspec": {
   "display_name": "Python 2",
   "language": "python",
   "name": "python2"
  },
  "language_info": {
   "codemirror_mode": {
    "name": "ipython",
    "version": 2
   },
   "file_extension": ".py",
   "mimetype": "text/x-python",
   "name": "python",
   "nbconvert_exporter": "python",
   "pygments_lexer": "ipython2",
   "version": "2.7.11"
  }
 },
 "nbformat": 4,
 "nbformat_minor": 0
}
