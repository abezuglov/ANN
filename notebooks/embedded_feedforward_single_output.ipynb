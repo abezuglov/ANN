{
 "cells": [
  {
   "cell_type": "code",
   "execution_count": 2,
   "metadata": {
    "collapsed": false
   },
   "outputs": [],
   "source": [
    "from __future__ import print_function\n",
    "import matplotlib.pyplot as plt\n",
    "import numpy as np\n",
    "import os\n",
    "import sys\n",
    "import time\n",
    "import tarfile\n",
    "from IPython.display import display, Image\n",
    "from scipy import ndimage\n",
    "from sklearn.linear_model import LogisticRegression\n",
    "from six.moves.urllib.request import urlretrieve\n",
    "from six.moves import cPickle as pickle\n",
    "import tensorflow as tf\n",
    "import scipy"
   ]
  },
  {
   "cell_type": "code",
   "execution_count": 3,
   "metadata": {
    "collapsed": false
   },
   "outputs": [
    {
     "name": "stdout",
     "output_type": "stream",
     "text": [
      "../data/ann_dataset1.tar\n",
      "http://mrtee.europa.renci.org/~bblanton/ANN/ann_dataset1.tar\n",
      "Found and verified ann_dataset1.tar\n"
     ]
    }
   ],
   "source": [
    "# Download and save the archived data\n",
    "\n",
    "url = 'http://mrtee.europa.renci.org/~bblanton/ANN/'\n",
    "to = \"../data\"\n",
    "\n",
    "def maybe_download(filename, expected_bytes, force=False):\n",
    "    \"\"\"Download a file if not present, and make sure it's the right size.\"\"\"\n",
    "    print(os.path.join(to,filename))\n",
    "    print(url+filename)\n",
    "    if force or not os.path.exists(os.path.join(to,filename)):\n",
    "        filename, _ = urlretrieve(url + filename, os.path.join(to,filename))\n",
    "    statinfo = os.stat(os.path.join(to,filename))\n",
    "    if statinfo.st_size == expected_bytes:\n",
    "        print('Found and verified', filename)\n",
    "    else:\n",
    "        raise Exception(\n",
    "          'Failed to verify' + filename + '. Can you get to it with a browser?')\n",
    "    return filename\n",
    "\n",
    "data_filename = maybe_download('ann_dataset1.tar', 5642240)"
   ]
  },
  {
   "cell_type": "code",
   "execution_count": 4,
   "metadata": {
    "collapsed": false
   },
   "outputs": [
    {
     "name": "stdout",
     "output_type": "stream",
     "text": [
      "../data already present - Skipping extraction of ../data/ann_dataset_10points.tar.\n",
      "Processed 0/324 \n",
      "\n",
      "Processed 100/324 \n",
      "\n",
      "Processed 200/324 \n",
      "\n",
      "Processed 300/324 \n",
      "\n",
      "(324, 193, 18)\n"
     ]
    }
   ],
   "source": [
    "# Ten output data set\n",
    "# Extract files from the archive\n",
    "def maybe_extract(filename, force=False):\n",
    "    extract_folder = os.path.splitext(os.path.splitext(filename)[0])[0]  # remove .tar.gz\n",
    "    root = os.path.dirname(filename)\n",
    "    if os.path.isdir(extract_folder) and not force:\n",
    "    # You may override by setting force=True.\n",
    "        print('%s already present - Skipping extraction of %s.' % (root, filename))\n",
    "    else:\n",
    "        print('Extracting data for %s. This may take a while. Please wait.' % root)\n",
    "        tar = tarfile.open(filename)\n",
    "        sys.stdout.flush()\n",
    "        tar.extractall(path = root)\n",
    "        tar.close()\n",
    "    data_files = [\n",
    "        os.path.join(extract_folder, d) for d in sorted(os.listdir(extract_folder))\n",
    "        if os.path.isdir(extract_folder)]\n",
    "    return data_files\n",
    "  \n",
    "data_filename = \"../data/ann_dataset_10points.tar\"\n",
    "data_files = maybe_extract(data_filename)\n",
    "\n",
    "# Load files and produce dataset\n",
    "def maybe_load(file_names):\n",
    "    names = ('index','time', 'long', 'lat', 'param1', 'param2', 'param3', 'param4', 'out1', 'out2',\n",
    "            'out3', 'out4','out5', 'out6','out7', 'out8','out9', 'out10',)\n",
    "    datafile_length = 193\n",
    "    dataset = np.ndarray(shape=(len(file_names), datafile_length, len(names)))\n",
    "    for i in range(0,len(file_names)):\n",
    "        a = np.loadtxt(file_names[i])\n",
    "        a = np.asarray([x for xs in a for x in xs],dtype='d').reshape([datafile_length,len(names)])\n",
    "        dataset[i,:,:] = a\n",
    "        if i%100 == 0:\n",
    "            print(\"Processed %d/%d \\n\"%(i,len(file_names)))\n",
    "    return dataset\n",
    "\n",
    "dataset = maybe_load(data_files)\n",
    "print(dataset.shape)"
   ]
  },
  {
   "cell_type": "code",
   "execution_count": 7,
   "metadata": {
    "collapsed": false
   },
   "outputs": [
    {
     "name": "stdout",
     "output_type": "stream",
     "text": [
      "Test dataset: (48, 193, 18)\n",
      "Validation dataset: (48, 193, 18)\n",
      "Training dataset: (228, 193, 18)\n"
     ]
    }
   ],
   "source": [
    "# train, validation, and test dataset percentages\n",
    "train_percent = 70\n",
    "valid_percent = 15\n",
    "test_percent = 15\n",
    "\n",
    "# train, validation, and test dataset indices\n",
    "# test: test_start : valid_start-1\n",
    "# validation: valid_start : train_start-1\n",
    "# training: train_start : dataset.shape[0]\n",
    "test_start = 0 \n",
    "valid_start = 48 #int(test_percent/100.0*dataset.shape[0])\n",
    "train_start = 48 + 48 #int((test_percent+valid_percent)/100.0*dataset.shape[0])\n",
    "\n",
    "# Shuffle file indices\n",
    "file_indices = range(dataset.shape[0])\n",
    "np.random.shuffle(file_indices)\n",
    "\n",
    "# Assign datasets\n",
    "test_dataset = np.array([dataset[j,:,:] for j in [file_indices[i] for i in range(test_start, valid_start)]])\n",
    "valid_dataset = np.array([dataset[j,:,:] for j in [file_indices[i] for i in range(valid_start, train_start)]])\n",
    "train_dataset = np.array([dataset[j,:,:] for j in [file_indices[i] for i in range(train_start, dataset.shape[0])]])\n",
    "\n",
    "# Save memory\n",
    "#del(dataset)\n",
    "print(\"Test dataset: \"+str(test_dataset.shape))\n",
    "print(\"Validation dataset: \"+str(valid_dataset.shape))\n",
    "print(\"Training dataset: \"+str(train_dataset.shape))"
   ]
  },
  {
   "cell_type": "code",
   "execution_count": 44,
   "metadata": {
    "collapsed": false
   },
   "outputs": [
    {
     "name": "stdout",
     "output_type": "stream",
     "text": [
      "(44004, 6)\n",
      "(44004, 1)\n"
     ]
    }
   ],
   "source": [
    "location = 3\n",
    "\n",
    "def accuracy_mse(predictions, outputs):\n",
    "    err = predictions-outputs\n",
    "    return np.mean(err*err)\n",
    "\n",
    "def Normalize(x, means, stds):\n",
    "    return (x-means)/stds\n",
    "\n",
    "# Reshape the data and normalize\n",
    "\n",
    "train_dataset2 = train_dataset[:,:,1:7].reshape((-1, 6)).astype(np.float32)\n",
    "train_output = train_dataset[:,:,8+location].reshape((-1, 1)).astype(np.float32)\n",
    "\n",
    "# calculate means and stds for training dataset\n",
    "input_means = [np.mean(train_dataset2[:,i]) for i in range(train_dataset2.shape[1])]\n",
    "input_stds = [np.std(train_dataset2[:,i]) for i in range(train_dataset2.shape[1])]\n",
    "output_means = [np.mean(train_output[:,i]) for i in range(train_output.shape[1])]\n",
    "output_stds = [np.std(train_output[:,i]) for i in range(train_output.shape[1])]\n",
    "\n",
    "train_dataset2 = Normalize(train_dataset2, input_means, input_stds)\n",
    "#train_output = Normalize(train_output, output_means, output_stds)\n",
    "\n",
    "print(train_dataset2.shape)\n",
    "print(train_output.shape)\n",
    "\n",
    "#plt.plot(train_dataset2[:193,:],label=\"input\")\n",
    "#plt.plot(train_output[:193,:],label=\"output\")\n",
    "#plt.ylabel(\"training data\")\n",
    "#plt.legend(loc='upper right', shadow=True)\n",
    "#plt.show()\n",
    "\n",
    "valid_dataset2 = Normalize(valid_dataset[:,:,1:7].reshape((-1, 6)).astype(np.float32), input_means, input_stds)\n",
    "valid_output = valid_dataset[:,:,8+location].reshape((-1, 1)).astype(np.float32)\n",
    "#valid_output = Normalize(valid_dataset[:,:,8:18].reshape((-1, 2)).astype(np.float32), output_means, output_stds)\n",
    "\n",
    "test_dataset2 = Normalize(test_dataset[:,:,1:7].reshape((-1, 6)).astype(np.float32),input_means, input_stds)\n",
    "test_output = test_dataset[:,:,8+location].reshape((-1, 1)).astype(np.float32)\n",
    "#test_output = Normalize(test_dataset[:,:,8:18].reshape((-1, 2)).astype(np.float32), output_means, output_stds)\n"
   ]
  },
  {
   "cell_type": "code",
   "execution_count": 21,
   "metadata": {
    "collapsed": false
   },
   "outputs": [],
   "source": [
    "num_embeds = 2 # number of embeddings, i.e. 0 -- the original array\n",
    "#print(train_dataset2[:-1,:])\n",
    "#print(train_dataset2[1:,:])\n",
    "\n",
    "def get_embeddings(dataset, num_embeds = 1):\n",
    "    dataset_list = []\n",
    "    if num_embeds == 0:\n",
    "        return dataset\n",
    "    for i in range(num_embeds):\n",
    "        dataset_list.append(dataset[i:(-num_embeds+i),:])\n",
    "        #dataset_list.append(dataset[num_embeds:,:])\n",
    "    return np.hstack(dataset_list)\n",
    "\n",
    "train_dataset2 = get_embeddings(train_dataset2, num_embeds)\n",
    "valid_dataset2 = get_embeddings(valid_dataset2, num_embeds)\n",
    "test_dataset2 = get_embeddings(test_dataset2, num_embeds)\n",
    "train_output = train_output[num_embeds:,:]\n",
    "valid_output = valid_output[num_embeds:,:]\n",
    "test_output = test_output[num_embeds:,:]\n"
   ]
  },
  {
   "cell_type": "code",
   "execution_count": 45,
   "metadata": {
    "collapsed": false
   },
   "outputs": [],
   "source": [
    "def variance(x):\n",
    "    return tf.reduce_mean(tf.square(x-tf.reduce_mean(x)))\n",
    "\n",
    "def explained_var(y_true, y_predicted):\n",
    "    return 1 - tf.div(variance(tf.sub(y_true,y_predicted)),variance(y_true))\n",
    "\n",
    "input_size = train_dataset2.shape[1]\n",
    "output_size = 1\n",
    "\n",
    "# Deep ANN\n",
    "batch_size = 57*193\n",
    "hidden_nodes = 32 #64\n",
    "\n",
    "num_steps = 30001\n",
    "starter_learning_rate = 0.02\n",
    "\n",
    "graph = tf.Graph()\n",
    "with graph.as_default():\n",
    "\n",
    "    x = tf.placeholder(tf.float32, shape=(None, input_size)) #train_dataset2.shape(2)\n",
    "    y = tf.placeholder(tf.float32, shape=(None, output_size))\n",
    "    \n",
    "    weights_0 = tf.Variable(tf.truncated_normal([input_size,hidden_nodes], stddev = 0.1, dtype = tf.float32))\n",
    "    biases_0 = tf.Variable(tf.zeros([hidden_nodes], dtype = tf.float32))\n",
    "    input_layer = tf.tanh(tf.matmul(x, weights_0) + biases_0)\n",
    "    weights_1 = tf.Variable(tf.truncated_normal([hidden_nodes, output_size], stddev = 0.1, dtype = tf.float32))\n",
    "    biases_1 = tf.Variable(tf.zeros([output_size], dtype = tf.float32))\n",
    "    y_ = tf.matmul(input_layer, weights_1) + biases_1\n",
    "    \n",
    "    regularizers = sum([tf.nn.l2_loss(v) for v in tf.all_variables()])\n",
    "    \n",
    "    loss = tf.reduce_mean(tf.square(y_-y))\n",
    "    loss += 1e-5 * regularizers\n",
    "    \n",
    "    global_step = tf.Variable(0.0, trainable=False)\n",
    "    learning_rate = tf.train.exponential_decay(starter_learning_rate, global_step, num_steps, 0.5, staircase=False)\n",
    "    optimizer = tf.train.AdamOptimizer(learning_rate).minimize(loss, global_step=global_step)    \n",
    "\n",
    "    \"\"\"\n",
    "    train_prediction = loss\n",
    "    valid_prediction = tf.tanh(tf.matmul(tf_valid_dataset, weights_0) + biases_0)\n",
    "    valid_prediction = tf.tanh(tf.matmul(valid_prediction, weights_1) + biases_1)\n",
    "    valid_prediction = tf.matmul(valid_prediction, weights_2) + biases_2\n",
    "    \n",
    "    test_prediction = tf.tanh(tf.matmul(tf_test_dataset, weights_0) + biases_0)\n",
    "    test_prediction = tf.tanh(tf.matmul(test_prediction, weights_1) + biases_1)\n",
    "    test_prediction = tf.matmul(test_prediction, weights_2) + biases_2\n",
    "    \"\"\""
   ]
  },
  {
   "cell_type": "code",
   "execution_count": 46,
   "metadata": {
    "collapsed": false,
    "scrolled": true
   },
   "outputs": [
    {
     "name": "stdout",
     "output_type": "stream",
     "text": [
      "Initialized\n",
      "Loss at step 0 (115.94 op/sec): 0.019022 (0.797307); validation loss: 0.053324\n",
      "Loss at step 500 (225.79 op/sec): 0.004713 (7.307686); validation loss: 0.002536\n",
      "Loss at step 1000 (220.80 op/sec): 0.002004 (10.933863); validation loss: 0.002247\n",
      "Loss at step 1500 (231.86 op/sec): 0.001839 (13.539793); validation loss: 0.002352\n",
      "Loss at step 2000 (239.29 op/sec): 0.001769 (15.379843); validation loss: 0.002154\n",
      "Loss at step 2500 (216.96 op/sec): 0.001743 (16.507231); validation loss: 0.002179\n",
      "Loss at step 3000 (224.05 op/sec): 0.001735 (17.347557); validation loss: 0.002181\n",
      "Loss at step 3500 (227.27 op/sec): 0.001721 (18.054956); validation loss: 0.002070\n",
      "Loss at step 4000 (232.45 op/sec): 0.001716 (18.715330); validation loss: 0.002135\n",
      "Loss at step 4500 (236.97 op/sec): 0.001704 (19.223320); validation loss: 0.002055\n",
      "Loss at step 5000 (220.46 op/sec): 0.001692 (19.604223); validation loss: 0.002209\n",
      "Loss at step 5500 (238.72 op/sec): 0.001698 (19.824041); validation loss: 0.002075\n",
      "Loss at step 6000 (232.50 op/sec): 0.002212 (20.197359); validation loss: 0.002299\n",
      "Loss at step 6500 (219.78 op/sec): 0.001682 (20.404509); validation loss: 0.002085\n",
      "Loss at step 7000 (241.43 op/sec): 0.001645 (20.338596); validation loss: 0.002111\n",
      "Loss at step 7500 (221.92 op/sec): 0.001657 (20.371290); validation loss: 0.002094\n",
      "Loss at step 8000 (217.21 op/sec): 0.001671 (20.442711); validation loss: 0.002081\n",
      "Loss at step 8500 (231.54 op/sec): 0.001675 (20.635008); validation loss: 0.002301\n",
      "Loss at step 9000 (218.86 op/sec): 0.001688 (20.939100); validation loss: 0.002218\n",
      "Loss at step 9500 (224.82 op/sec): 0.001678 (21.281950); validation loss: 0.002084\n",
      "Loss at step 10000 (220.50 op/sec): 0.001672 (21.631639); validation loss: 0.002101\n",
      "Loss at step 10500 (220.02 op/sec): 0.001665 (22.040117); validation loss: 0.002127\n",
      "Loss at step 11000 (260.42 op/sec): 0.001655 (22.756372); validation loss: 0.002069\n",
      "Loss at step 11500 (237.76 op/sec): 0.001632 (23.378948); validation loss: 0.002007\n",
      "Loss at step 12000 (237.41 op/sec): 0.001621 (23.664389); validation loss: 0.002058\n",
      "Loss at step 12500 (219.30 op/sec): 0.001609 (23.923544); validation loss: 0.002123\n",
      "Loss at step 13000 (217.11 op/sec): 0.001604 (24.327360); validation loss: 0.002084\n",
      "Loss at step 13500 (227.89 op/sec): 0.001597 (24.762260); validation loss: 0.002104\n",
      "Loss at step 14000 (189.32 op/sec): 0.001798 (25.369978); validation loss: 0.001990\n",
      "Loss at step 14500 (208.11 op/sec): 0.001533 (25.393507); validation loss: 0.001983\n",
      "Loss at step 15000 (231.42 op/sec): 0.001535 (25.393419); validation loss: 0.002076\n",
      "Loss at step 15500 (237.03 op/sec): 0.001588 (25.568277); validation loss: 0.002031\n",
      "Loss at step 16000 (218.92 op/sec): 0.001530 (25.489130); validation loss: 0.002007\n",
      "Loss at step 16500 (225.27 op/sec): 0.001524 (25.402985); validation loss: 0.002026\n",
      "Loss at step 17000 (224.57 op/sec): 0.001520 (25.279354); validation loss: 0.002097\n",
      "Loss at step 17500 (226.55 op/sec): 0.001494 (25.169559); validation loss: 0.002088\n",
      "Loss at step 18000 (223.21 op/sec): 0.001474 (25.061171); validation loss: 0.002106\n",
      "Loss at step 18500 (228.57 op/sec): 0.001457 (24.955902); validation loss: 0.002055\n",
      "Loss at step 19000 (212.59 op/sec): 0.001450 (24.927488); validation loss: 0.001961\n",
      "Loss at step 19500 (213.31 op/sec): 0.001441 (24.936466); validation loss: 0.001994\n",
      "Loss at step 20000 (223.86 op/sec): 0.001434 (24.979736); validation loss: 0.001947\n",
      "Loss at step 20500 (208.29 op/sec): 0.001864 (25.399202); validation loss: 0.002553\n",
      "Loss at step 21000 (218.62 op/sec): 0.001402 (25.262590); validation loss: 0.001943\n",
      "Loss at step 21500 (216.55 op/sec): 0.001375 (25.192738); validation loss: 0.001928\n",
      "Loss at step 22000 (209.73 op/sec): 0.001379 (25.149221); validation loss: 0.001917\n",
      "Loss at step 22500 (210.93 op/sec): 0.001398 (25.198700); validation loss: 0.002035\n",
      "Loss at step 23000 (215.42 op/sec): 0.001433 (25.326996); validation loss: 0.001919\n",
      "Loss at step 23500 (221.24 op/sec): 0.001405 (25.359001); validation loss: 0.001959\n",
      "Loss at step 24000 (214.69 op/sec): 0.001416 (25.378788); validation loss: 0.001953\n",
      "Loss at step 24500 (219.72 op/sec): 0.001404 (25.369316); validation loss: 0.002079\n",
      "Loss at step 25000 (213.13 op/sec): 0.001407 (25.349968); validation loss: 0.001991\n",
      "Loss at step 25500 (207.42 op/sec): 0.001402 (25.312408); validation loss: 0.002006\n",
      "Loss at step 26000 (220.66 op/sec): 0.001401 (25.273981); validation loss: 0.002048\n",
      "Loss at step 26500 (219.44 op/sec): 0.001397 (25.224693); validation loss: 0.001942\n",
      "Loss at step 27000 (206.70 op/sec): 0.001395 (25.179367); validation loss: 0.001960\n",
      "Loss at step 27500 (218.82 op/sec): 0.001393 (25.122702); validation loss: 0.001910\n",
      "Loss at step 28000 (221.15 op/sec): 0.001387 (25.063507); validation loss: 0.001958\n",
      "Loss at step 28500 (207.91 op/sec): 0.001389 (25.021704); validation loss: 0.001924\n",
      "Loss at step 29000 (221.92 op/sec): 0.001381 (24.964090); validation loss: 0.001917\n",
      "Loss at step 29500 (209.82 op/sec): 0.001371 (24.882746); validation loss: 0.001915\n",
      "Loss at step 30000 (226.13 op/sec): 0.001469 (24.984497); validation loss: 0.001915\n",
      "Test MSE: 0.0013\n"
     ]
    }
   ],
   "source": [
    "def stop(data, n = 3):\n",
    "    assert len(data) > n*2\n",
    "    avg = sum(data)/len(data)\n",
    "    for x in (data-avg)[-n:]:\n",
    "        if x <= 0:\n",
    "            return False\n",
    "    return True\n",
    "\n",
    "from sklearn.metrics import explained_variance_score\n",
    "\n",
    "with tf.Session(graph=graph) as session:\n",
    "    tf.initialize_all_variables().run()\n",
    "    sum_l = 0\n",
    "    num_l = 0\n",
    "    #ev_l = [0,0,0,0,0,0,0]\n",
    "    print('Initialized')\n",
    "    for step in range(num_steps):\n",
    "        offset = (step * batch_size) % (train_output.shape[0] - batch_size)\n",
    "        batch_data = train_dataset2[offset:(offset + batch_size), :]\n",
    "        batch_output = train_output[offset:(offset + batch_size), :]\n",
    "        feed_dict = {x : batch_data, y : batch_output}\n",
    "        start_time = time.time()\n",
    "        _, l, r = session.run([optimizer, loss, regularizers],feed_dict=feed_dict)\n",
    "        duration = time.time()-start_time\n",
    "        \n",
    "        sum_l += l\n",
    "        num_l += 1\n",
    "\n",
    "        if (step % 500 == 0):\n",
    "            valid_loss = loss.eval(feed_dict = {x: valid_dataset2, y: valid_output})\n",
    "            #print(predictions)\n",
    "            #ev = explained_variance_score(y_.eval(feed_dict = {x: valid_dataset2, y: valid_output}), valid_output)\n",
    "            #ev_l.append(valid_loss)\n",
    "            #ev_l = ev_l[1:]\n",
    "            print('Loss at step %d (%.2f op/sec): %.6f (%.6f); validation loss: %.6f' % (\n",
    "                    step, 1.0/duration, sum_l/num_l, r, \n",
    "                    #accuracy_mse(valid_prediction.eval(), valid_output)))\n",
    "                    valid_loss))\n",
    "            sum_l = 0\n",
    "            num_l = 0\n",
    "            #if stop(ev_l):\n",
    "            #    print(\"Non decreasing scores, so stopping early\")\n",
    "            #    break\n",
    "    \n",
    "    feed_dict = {x: test_dataset2, y: test_output}\n",
    "    predictions, test_loss = session.run([y_, loss],feed_dict=feed_dict)\n",
    "    #test_loss = loss.eval(feed_dict = {x: test_dataset2, y: test_output})\n",
    "    print('Test MSE: %.4f' % test_loss)\n",
    "    #print('Test losses:', test_losses)\n",
    "    predicted_vs_actual = np.hstack((predictions, test_output))\n"
   ]
  },
  {
   "cell_type": "code",
   "execution_count": 47,
   "metadata": {
    "collapsed": false
   },
   "outputs": [
    {
     "name": "stdout",
     "output_type": "stream",
     "text": [
      "(9264, 2)\n",
      "Results for location 3: R^2:0.9640, MSE:0.031761, Max error: 0.4646\n",
      "1881\n",
      "(9264, 2)\n"
     ]
    }
   ],
   "source": [
    "over_95 = 0\n",
    "print(predicted_vs_actual.shape)\n",
    "cc = np.corrcoef(predicted_vs_actual[:,0],predicted_vs_actual[:,1])[0,1]\n",
    "m = np.max(np.abs(predicted_vs_actual[:,0]-predicted_vs_actual[:,1]))\n",
    "mse = np.sqrt(np.mean(np.square(predicted_vs_actual[:,0]-predicted_vs_actual[:,1])))\n",
    "print(\"Results for location %d: R^2:%.4f, MSE:%.6f, Max error: %.4f\"%(location, cc,mse,m))\n",
    "k = np.argmax(np.abs(predicted_vs_actual[:,0]-predicted_vs_actual[:,1]))\n",
    "print(k)\n",
    "\n",
    "start = (k // 193)*193\n",
    "stop = start + 193\n",
    "#start = 0 \n",
    "#stop = 20*193\n",
    "\n",
    "print(predicted_vs_actual.shape)\n",
    "fig = plt.figure(figsize=(10, 6), dpi=80)\n",
    "\n",
    "for i in range(1):\n",
    "    sp = fig.add_subplot(1,1,i+1)\n",
    "    sp.plot(predicted_vs_actual[start:stop,i],color=\"blue\", linewidth=1.0, linestyle=\"-\", label=\"ANN\")\n",
    "    sp.plot(predicted_vs_actual[start:stop,i+1],color=\"red\", linewidth=1.0, linestyle=\"-\", label=\"actual\")\n",
    "plt.show()"
   ]
  },
  {
   "cell_type": "code",
   "execution_count": 231,
   "metadata": {
    "collapsed": false
   },
   "outputs": [
    {
     "name": "stdout",
     "output_type": "stream",
     "text": [
      "[ 2.  1.]\n"
     ]
    },
    {
     "ename": "AssertionError",
     "evalue": "",
     "output_type": "error",
     "traceback": [
      "\u001b[1;31m---------------------------------------------------------------------------\u001b[0m",
      "\u001b[1;31mAssertionError\u001b[0m                            Traceback (most recent call last)",
      "\u001b[1;32m<ipython-input-231-59addae8a709>\u001b[0m in \u001b[0;36m<module>\u001b[1;34m()\u001b[0m\n\u001b[0;32m     14\u001b[0m     \u001b[1;32mreturn\u001b[0m \u001b[0mTrue\u001b[0m\u001b[1;33m\u001b[0m\u001b[0m\n\u001b[0;32m     15\u001b[0m \u001b[1;33m\u001b[0m\u001b[0m\n\u001b[1;32m---> 16\u001b[1;33m \u001b[1;32mprint\u001b[0m\u001b[1;33m(\u001b[0m\u001b[0mstop\u001b[0m\u001b[1;33m(\u001b[0m\u001b[0md\u001b[0m\u001b[1;33m)\u001b[0m\u001b[1;33m)\u001b[0m\u001b[1;33m\u001b[0m\u001b[0m\n\u001b[0m",
      "\u001b[1;32m<ipython-input-231-59addae8a709>\u001b[0m in \u001b[0;36mstop\u001b[1;34m(data, n)\u001b[0m\n\u001b[0;32m      7\u001b[0m \u001b[1;33m\u001b[0m\u001b[0m\n\u001b[0;32m      8\u001b[0m \u001b[1;32mdef\u001b[0m \u001b[0mstop\u001b[0m\u001b[1;33m(\u001b[0m\u001b[0mdata\u001b[0m\u001b[1;33m,\u001b[0m \u001b[0mn\u001b[0m \u001b[1;33m=\u001b[0m \u001b[1;36m2\u001b[0m\u001b[1;33m)\u001b[0m\u001b[1;33m:\u001b[0m\u001b[1;33m\u001b[0m\u001b[0m\n\u001b[1;32m----> 9\u001b[1;33m     \u001b[1;32massert\u001b[0m \u001b[0mlen\u001b[0m\u001b[1;33m(\u001b[0m\u001b[0mdata\u001b[0m\u001b[1;33m)\u001b[0m \u001b[1;33m>\u001b[0m \u001b[0mn\u001b[0m\u001b[1;33m*\u001b[0m\u001b[1;36m2\u001b[0m\u001b[1;33m\u001b[0m\u001b[0m\n\u001b[0m\u001b[0;32m     10\u001b[0m     \u001b[0mavg\u001b[0m \u001b[1;33m=\u001b[0m \u001b[0msum\u001b[0m\u001b[1;33m(\u001b[0m\u001b[0mdata\u001b[0m\u001b[1;33m)\u001b[0m\u001b[1;33m/\u001b[0m\u001b[0mlen\u001b[0m\u001b[1;33m(\u001b[0m\u001b[0mdata\u001b[0m\u001b[1;33m)\u001b[0m\u001b[1;33m\u001b[0m\u001b[0m\n\u001b[0;32m     11\u001b[0m     \u001b[1;32mfor\u001b[0m \u001b[0mx\u001b[0m \u001b[1;32min\u001b[0m \u001b[1;33m(\u001b[0m\u001b[0mdata\u001b[0m\u001b[1;33m-\u001b[0m\u001b[0mavg\u001b[0m\u001b[1;33m)\u001b[0m\u001b[1;33m[\u001b[0m\u001b[1;33m-\u001b[0m\u001b[0mn\u001b[0m\u001b[1;33m:\u001b[0m\u001b[1;33m]\u001b[0m\u001b[1;33m:\u001b[0m\u001b[1;33m\u001b[0m\u001b[0m\n",
      "\u001b[1;31mAssertionError\u001b[0m: "
     ]
    }
   ],
   "source": [
    "d = np.asarray([])\n",
    "\n",
    "d = np.append(d,3)\n",
    "d = np.append(d,2)\n",
    "d = np.append(d,1)[1:]\n",
    "print(d)\n",
    "\n",
    "def stop(data, n = 2):\n",
    "    assert len(data) > n*2\n",
    "    avg = sum(data)/len(data)\n",
    "    for x in (data-avg)[-n:]:\n",
    "        if x <= 0:\n",
    "            return False\n",
    "    return True\n",
    "\n",
    "print(stop(d))"
   ]
  },
  {
   "cell_type": "code",
   "execution_count": 134,
   "metadata": {
    "collapsed": false
   },
   "outputs": [
    {
     "name": "stdout",
     "output_type": "stream",
     "text": [
      "Explained variance:  [0.81146699190139771, 0.85759055614471436, 0.86870527267456055, 0.89061909914016724, 0.88695210218429565, 0.74401175975799561, 0.8059995174407959, 0.80061358213424683, 0.45739859342575073, 0.35861217975616455]\n",
      "(1.4245720507513746, -0.030474568797174348, 0.062562678013771522)\n"
     ]
    },
    {
     "data": {
      "text/plain": [
       "\"\\nnum_bins = 100\\n# the histogram of the errors\\nn, bins, patches = plt.hist(diff, num_bins, normed=1, facecolor='green', alpha=0.5)\\n\\n# add a normal PDF\\nmu = 0\\nsigma = .05\\ny = mlab.normpdf(bins, mu, sigma)\\nplt.plot(bins, y, 'r-')\\nplt.xlabel('Smarts')\\nplt.ylabel('Probability')\\n\\n# add Cauchy PDF\\nparams = cauchy.fit(diff)\\nprint(params)\\ndist = cauchy(params[0], params[1])\\nx = np.linspace(-2, 2, num_bins)\\nplt.plot(x, dist.pdf(x), 'b-', alpha=0.5, label='cauchy pdf')\\n\\n\\n# Tweak spacing to prevent clipping of ylabel\\n#plt.subplots_adjust(left=0.15)\\n#plt.show()\\n\\nfig = plt.figure(figsize=(10,6),dpi=80)\\nplt.hist(diff, bins = 100, alpha=0.5)\\nplt.show()\\n\""
      ]
     },
     "execution_count": 134,
     "metadata": {},
     "output_type": "execute_result"
    }
   ],
   "source": [
    "from sklearn.metrics import explained_variance_score\n",
    "import scipy.stats as stats\n",
    "import pylab\n",
    "\n",
    "ev = []\n",
    "for i in range(10):\n",
    "    y_true = predicted_vs_actual[:,i]\n",
    "    y_pred = predicted_vs_actual[:,i+10]\n",
    "    ev.append(explained_variance_score(y_true, y_pred))\n",
    "    \n",
    "print(\"Explained variance: \",ev)\n",
    "diff = y_true-y_pred\n",
    "\n",
    "#stats.probplot(diff, dist=\"norm\", plot=pylab)\n",
    "stats.probplot(diff, dist=\"t\", sparams=(2), plot=pylab)\n",
    "pylab.show()\n",
    "\n",
    "num_bins = 100\n",
    "# the histogram of the errors\n",
    "n, bins, patches = plt.hist(diff, num_bins, normed=1, facecolor='green', alpha=0.5)\n",
    "\n",
    "params = stats.t.fit(diff)\n",
    "dist = stats.t(params[0], params[1], params[2])\n",
    "x = np.linspace(-2, 2, num_bins)\n",
    "plt.plot(x, dist.pdf(x), 'b-', lw = 3, alpha=0.5, label='t pdf')\n",
    "plt.show()\n",
    "print(params)\n",
    "\n",
    "\"\"\"\n",
    "num_bins = 100\n",
    "# the histogram of the errors\n",
    "n, bins, patches = plt.hist(diff, num_bins, normed=1, facecolor='green', alpha=0.5)\n",
    "\n",
    "# add a normal PDF\n",
    "mu = 0\n",
    "sigma = .05\n",
    "y = mlab.normpdf(bins, mu, sigma)\n",
    "plt.plot(bins, y, 'r-')\n",
    "plt.xlabel('Smarts')\n",
    "plt.ylabel('Probability')\n",
    "\n",
    "# add Cauchy PDF\n",
    "params = cauchy.fit(diff)\n",
    "print(params)\n",
    "dist = cauchy(params[0], params[1])\n",
    "x = np.linspace(-2, 2, num_bins)\n",
    "plt.plot(x, dist.pdf(x), 'b-', alpha=0.5, label='cauchy pdf')\n",
    "\n",
    "\n",
    "# Tweak spacing to prevent clipping of ylabel\n",
    "#plt.subplots_adjust(left=0.15)\n",
    "#plt.show()\n",
    "\n",
    "fig = plt.figure(figsize=(10,6),dpi=80)\n",
    "plt.hist(diff, bins = 100, alpha=0.5)\n",
    "plt.show()\n",
    "\"\"\""
   ]
  }
 ],
 "metadata": {
  "kernelspec": {
   "display_name": "Python 2",
   "language": "python",
   "name": "python2"
  },
  "language_info": {
   "codemirror_mode": {
    "name": "ipython",
    "version": 2
   },
   "file_extension": ".py",
   "mimetype": "text/x-python",
   "name": "python",
   "nbconvert_exporter": "python",
   "pygments_lexer": "ipython2",
   "version": "2.7.11"
  }
 },
 "nbformat": 4,
 "nbformat_minor": 0
}
