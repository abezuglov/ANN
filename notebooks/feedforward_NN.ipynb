{
 "cells": [
  {
   "cell_type": "code",
   "execution_count": 266,
   "metadata": {
    "collapsed": true
   },
   "outputs": [],
   "source": [
    "from __future__ import print_function\n",
    "import matplotlib.pyplot as plt\n",
    "import numpy as np\n",
    "import os\n",
    "import sys\n",
    "import tarfile\n",
    "from IPython.display import display, Image\n",
    "from scipy import ndimage\n",
    "from sklearn.linear_model import LogisticRegression\n",
    "from six.moves.urllib.request import urlretrieve\n",
    "from six.moves import cPickle as pickle\n",
    "import tensorflow as tf"
   ]
  },
  {
   "cell_type": "code",
   "execution_count": 219,
   "metadata": {
    "collapsed": false
   },
   "outputs": [
    {
     "name": "stdout",
     "output_type": "stream",
     "text": [
      "../data/ann_dataset1.tar\n",
      "http://mrtee.europa.renci.org/~bblanton/ANN/ann_dataset1.tar\n",
      "Found and verified ann_dataset1.tar\n"
     ]
    }
   ],
   "source": [
    "# Download and save the archived data\n",
    "\n",
    "url = 'http://mrtee.europa.renci.org/~bblanton/ANN/'\n",
    "to = \"../data\"\n",
    "\n",
    "def maybe_download(filename, expected_bytes, force=False):\n",
    "    \"\"\"Download a file if not present, and make sure it's the right size.\"\"\"\n",
    "    print(os.path.join(to,filename))\n",
    "    print(url+filename)\n",
    "    if force or not os.path.exists(os.path.join(to,filename)):\n",
    "        filename, _ = urlretrieve(url + filename, os.path.join(to,filename))\n",
    "    statinfo = os.stat(os.path.join(to,filename))\n",
    "    if statinfo.st_size == expected_bytes:\n",
    "        print('Found and verified', filename)\n",
    "    else:\n",
    "        raise Exception(\n",
    "          'Failed to verify' + filename + '. Can you get to it with a browser?')\n",
    "    return filename\n",
    "\n",
    "data_filename = maybe_download('ann_dataset1.tar', 5642240)"
   ]
  },
  {
   "cell_type": "code",
   "execution_count": 220,
   "metadata": {
    "collapsed": false
   },
   "outputs": [
    {
     "name": "stdout",
     "output_type": "stream",
     "text": [
      "../data already present - Skipping extraction of ../data/ann_dataset1.tar.\n"
     ]
    }
   ],
   "source": [
    "# Extract files from the archive\n",
    "def maybe_extract(filename, force=False):\n",
    "    extract_folder = os.path.splitext(os.path.splitext(filename)[0])[0]  # remove .tar.gz\n",
    "    root = os.path.dirname(filename)\n",
    "    if os.path.isdir(extract_folder) and not force:\n",
    "    # You may override by setting force=True.\n",
    "        print('%s already present - Skipping extraction of %s.' % (root, filename))\n",
    "    else:\n",
    "        print('Extracting data for %s. This may take a while. Please wait.' % root)\n",
    "        tar = tarfile.open(filename)\n",
    "        sys.stdout.flush()\n",
    "        tar.extractall(path = root)\n",
    "        tar.close()\n",
    "    data_files = [\n",
    "        os.path.join(extract_folder, d) for d in sorted(os.listdir(extract_folder))\n",
    "        if os.path.isdir(extract_folder)]\n",
    "    return data_files\n",
    "  \n",
    "data_filename = \"../data/ann_dataset1.tar\"\n",
    "data_files = maybe_extract(data_filename)"
   ]
  },
  {
   "cell_type": "code",
   "execution_count": 262,
   "metadata": {
    "collapsed": false,
    "scrolled": true
   },
   "outputs": [
    {
     "name": "stdout",
     "output_type": "stream",
     "text": [
      "Processed 0/324 \n",
      "\n",
      "Processed 100/324 \n",
      "\n",
      "Processed 200/324 \n",
      "\n",
      "Processed 300/324 \n",
      "\n",
      "(324, 193, 10)\n"
     ]
    }
   ],
   "source": [
    "# Load files and produce dataset\n",
    "def maybe_load(file_names):\n",
    "    names = ('index','time', 'long', 'lat', 'param1', 'param2', 'param3', 'param4', 'out1', 'out2')\n",
    "    datafile_length = 193\n",
    "    dataset = np.ndarray(shape=(len(file_names), datafile_length, len(names)))\n",
    "    for i in range(0,len(file_names)):\n",
    "        a = np.loadtxt(file_names[i])\n",
    "        a = np.asarray([x for xs in a for x in xs],dtype='d').reshape([datafile_length,len(names)])\n",
    "        dataset[i,:,:] = a\n",
    "        if i%100 == 0:\n",
    "            print(\"Processed %d/%d \\n\"%(i,len(file_names)))\n",
    "    return dataset\n",
    "\n",
    "dataset = maybe_load(data_files)\n",
    "print(dataset.shape)"
   ]
  },
  {
   "cell_type": "code",
   "execution_count": 263,
   "metadata": {
    "collapsed": false
   },
   "outputs": [
    {
     "name": "stdout",
     "output_type": "stream",
     "text": [
      "Test dataset: (48, 193, 10)\n",
      "Validation dataset: (49, 193, 10)\n",
      "Training dataset: (227, 193, 10)\n"
     ]
    }
   ],
   "source": [
    "# train, validation, and test dataset percentages\n",
    "train_percent = 70\n",
    "valid_percent = 15\n",
    "test_percent = 15\n",
    "\n",
    "# train, validation, and test dataset indices\n",
    "# test: test_start : valid_start-1\n",
    "# validation: valid_start : train_start-1\n",
    "# training: train_start : dataset.shape[0]\n",
    "test_start = 0 \n",
    "valid_start = int(test_percent/100.0*dataset.shape[0])\n",
    "train_start = int((test_percent+valid_percent)/100.0*dataset.shape[0])\n",
    "\n",
    "# Shuffle file indices\n",
    "file_indices = range(dataset.shape[0])\n",
    "np.random.shuffle(file_indices)\n",
    "\n",
    "# Assign datasets\n",
    "test_dataset = np.array([dataset[j,:,:] for j in [file_indices[i] for i in range(test_start, valid_start)]])\n",
    "valid_dataset = np.array([dataset[j,:,:] for j in [file_indices[i] for i in range(valid_start, train_start)]])\n",
    "train_dataset = np.array([dataset[j,:,:] for j in [file_indices[i] for i in range(train_start, dataset.shape[0])]])\n",
    "\n",
    "# Save memory\n",
    "#del(dataset)\n",
    "print(\"Test dataset: \"+str(test_dataset.shape))\n",
    "print(\"Validation dataset: \"+str(valid_dataset.shape))\n",
    "print(\"Training dataset: \"+str(train_dataset.shape))"
   ]
  },
  {
   "cell_type": "code",
   "execution_count": 448,
   "metadata": {
    "collapsed": false
   },
   "outputs": [
    {
     "name": "stdout",
     "output_type": "stream",
     "text": [
      "Test dataset: (48, 193, 10)\n",
      "Validation dataset: (49, 193, 10)\n",
      "Training dataset: (227, 193, 10)\n",
      "(43811, 1)\n"
     ]
    }
   ],
   "source": [
    "print(\"Test dataset: \"+str(test_dataset.shape))\n",
    "print(\"Validation dataset: \"+str(valid_dataset.shape))\n",
    "print(\"Training dataset: \"+str(train_dataset.shape))\n",
    "print(train_output.shape)"
   ]
  },
  {
   "cell_type": "code",
   "execution_count": 447,
   "metadata": {
    "collapsed": false
   },
   "outputs": [],
   "source": [
    "def accuracy_rmse(predictions, outputs):\n",
    "    err = predictions-outputs\n",
    "    return np.sqrt(np.mean(err*err))"
   ]
  },
  {
   "cell_type": "code",
   "execution_count": 427,
   "metadata": {
    "collapsed": false
   },
   "outputs": [
    {
     "name": "stdout",
     "output_type": "stream",
     "text": [
      "[[-1.72309959  2.19167495 -1.45767331 -0.70275855  0.16954818  1.37838936]\n",
      " [-1.70515358  2.17307925 -1.44289684 -0.70275855  0.17393139  1.37838936]\n",
      " [-1.68719876  2.1544857  -1.42812049 -0.70275855  0.1783146   1.37838936]\n",
      " ..., \n",
      " [ 1.68719876  0.33845499  1.64140666  2.06858802 -0.29178849 -1.44218218]\n",
      " [ 1.70515358  0.33845499  1.64140666  2.06858802 -0.29178849 -1.44218218]\n",
      " [ 1.72309959  0.33845499  1.64140666  2.06858802 -0.29178849 -1.44218218]]\n",
      "[[-0.23487496]\n",
      " [-0.23796004]\n",
      " [-0.23024735]\n",
      " ..., \n",
      " [-0.57797915]\n",
      " [-0.57797915]\n",
      " [-0.57797915]]\n"
     ]
    }
   ],
   "source": [
    "# Reshape the data and normalize\n",
    "\n",
    "def Normalize(x, means, stds):\n",
    "    return (x-means)/stds\n",
    "\n",
    "train_dataset2 = train_dataset[:,:,1:7].reshape((-1, 6)).astype(np.float32)\n",
    "train_output = train_dataset[:,:,8].reshape((-1, 1)).astype(np.float32)\n",
    "\n",
    "# calculate means and stds for training dataset\n",
    "input_means = [np.mean(train_dataset2[:,i]) for i in range(train_dataset2.shape[1])]\n",
    "input_stds = [np.std(train_dataset2[:,i]) for i in range(train_dataset2.shape[1])]\n",
    "output_means = [np.mean(train_output[:,i]) for i in range(train_output.shape[1])]\n",
    "output_stds = [np.std(train_output[:,i]) for i in range(train_output.shape[1])]\n",
    "\n",
    "train_dataset2 = Normalize(train_dataset2, input_means, input_stds)\n",
    "train_output = Normalize(train_output, output_means, output_stds)\n",
    "\n",
    "print(train_dataset2)\n",
    "print(train_output)\n",
    "\n",
    "valid_dataset2 = Normalize(valid_dataset[:,:,1:7].reshape((-1, 6)).astype(np.float32), input_means, input_stds)\n",
    "valid_output = Normalize(valid_dataset[:,:,8].reshape((-1, 1)).astype(np.float32), output_means, output_stds)\n",
    "\n",
    "test_dataset2 = Normalize(test_dataset[:,:,1:7].reshape((-1, 6)).astype(np.float32),input_means, input_stds)\n",
    "test_output = Normalize(test_dataset[:,:,8].reshape((-1, 1)).astype(np.float32), output_means, output_stds)\n"
   ]
  },
  {
   "cell_type": "code",
   "execution_count": 490,
   "metadata": {
    "collapsed": false
   },
   "outputs": [],
   "source": [
    "hidden_nodes = 15\n",
    "\n",
    "graph = tf.Graph()\n",
    "with graph.as_default():\n",
    "\n",
    "    # Input data.\n",
    "    # Load the training, validation and test data into constants that are\n",
    "    # attached to the graph.\n",
    "    tf_train_dataset = tf.constant(train_dataset2)\n",
    "    tf_train_labels = tf.constant(train_output)\n",
    "    tf_valid_dataset = tf.constant(valid_dataset2)\n",
    "    tf_test_dataset = tf.constant(test_dataset2)\n",
    "  \n",
    "    # Variables.\n",
    "    # These are the parameters that we are going to be training. The weight\n",
    "    # matrix will be initialized using random valued following a (truncated)\n",
    "    # normal distribution. The biases get initialized to zero.\n",
    "    weights_0 = tf.Variable(tf.truncated_normal([6,hidden_nodes]))\n",
    "    biases_0 = tf.Variable(tf.zeros([hidden_nodes]))\n",
    "    \n",
    "    weights_h1 = tf.Variable(tf.truncated_normal([hidden_nodes,1]))\n",
    "    biases_h1 = tf.Variable(tf.zeros([1]))\n",
    "  \n",
    "    input_layer_output = tf.matmul(tf_train_dataset, weights_0) + biases_0\n",
    "    input_layer_output = tf.nn.sigmoid(input_layer_output)\n",
    "    hidden_layer_output = tf.matmul(input_layer_output, weights_h1) + biases_h1\n",
    "    \n",
    "    loss = tf.sqrt(tf.reduce_mean(tf.square(hidden_layer_output-tf_train_labels)))\n",
    "    #loss = tf.reduce_max(tf.abs(hidden_layer_output-tf_train_labels))\n",
    "  \n",
    "    # Optimizer.\n",
    "    # We are going to find the minimum of this loss using gradient descent.\n",
    "    #optimizer = tf.train.GradientDescentOptimizer(0.1).minimize(loss)\n",
    "    \n",
    "    global_step = tf.Variable(0, trainable=False)\n",
    "    starter_learning_rate = 0.5\n",
    "    learning_rate = tf.train.exponential_decay(starter_learning_rate, global_step, 10000, 0.96, staircase=True)\n",
    "    optimizer = tf.train.GradientDescentOptimizer(learning_rate).minimize(loss, global_step=global_step)\n",
    "  \n",
    "    # Predictions for the training, validation, and test data.\n",
    "    # These are not part of training, but merely here so that we can report\n",
    "    # accuracy figures as we train.\n",
    "    train_prediction = loss\n",
    "    valid_prediction = tf.nn.sigmoid(tf.matmul(tf_valid_dataset, weights_0) + biases_0)\n",
    "    valid_prediction = tf.matmul(valid_prediction, weights_h1) + biases_h1\n",
    "    test_prediction = tf.nn.sigmoid(tf.matmul(tf_test_dataset, weights_0) + biases_0)\n",
    "    test_prediction = tf.matmul(test_prediction, weights_h1) + biases_h1"
   ]
  },
  {
   "cell_type": "code",
   "execution_count": 491,
   "metadata": {
    "collapsed": false
   },
   "outputs": [
    {
     "name": "stdout",
     "output_type": "stream",
     "text": [
      "Initialized\n",
      "Loss at step 0: 1.544068\n",
      "Training RMSE: 1.8396\n",
      "Validation RMSE: 1.2753\n",
      "Loss at step 500: 0.845279\n",
      "Training RMSE: 1.3094\n",
      "Validation RMSE: 0.8398\n",
      "Loss at step 1000: 0.757325\n",
      "Training RMSE: 1.2544\n",
      "Validation RMSE: 0.7503\n",
      "Loss at step 1500: 0.688979\n",
      "Training RMSE: 1.2144\n",
      "Validation RMSE: 0.6897\n",
      "Loss at step 2000: 0.648749\n",
      "Training RMSE: 1.1920\n",
      "Validation RMSE: 0.6526\n",
      "Loss at step 2500: 0.623075\n",
      "Training RMSE: 1.1782\n",
      "Validation RMSE: 0.6275\n",
      "Loss at step 3000: 0.607998\n",
      "Training RMSE: 1.1703\n",
      "Validation RMSE: 0.6124\n",
      "Loss at step 3500: 0.598226\n",
      "Training RMSE: 1.1653\n",
      "Validation RMSE: 0.6024\n",
      "Loss at step 4000: 0.591718\n",
      "Training RMSE: 1.1620\n",
      "Validation RMSE: 0.5960\n",
      "Loss at step 4500: 0.587799\n",
      "Training RMSE: 1.1600\n",
      "Validation RMSE: 0.5930\n",
      "Loss at step 5000: 0.585348\n",
      "Training RMSE: 1.1587\n",
      "Validation RMSE: 0.5926\n",
      "Loss at step 5500: 0.582650\n",
      "Training RMSE: 1.1574\n",
      "Validation RMSE: 0.5927\n",
      "Loss at step 6000: 0.578972\n",
      "Training RMSE: 1.1555\n",
      "Validation RMSE: 0.5918\n",
      "Loss at step 6500: 0.574953\n",
      "Training RMSE: 1.1535\n",
      "Validation RMSE: 0.5905\n",
      "Loss at step 7000: 0.570878\n",
      "Training RMSE: 1.1515\n",
      "Validation RMSE: 0.5888\n",
      "Loss at step 7500: 0.566753\n",
      "Training RMSE: 1.1494\n",
      "Validation RMSE: 0.5867\n",
      "Loss at step 8000: 0.562526\n",
      "Training RMSE: 1.1474\n",
      "Validation RMSE: 0.5843\n",
      "Loss at step 8500: 0.558096\n",
      "Training RMSE: 1.1452\n",
      "Validation RMSE: 0.5814\n",
      "Loss at step 9000: 0.553299\n",
      "Training RMSE: 1.1429\n",
      "Validation RMSE: 0.5778\n",
      "Loss at step 9500: 0.547954\n",
      "Training RMSE: 1.1403\n",
      "Validation RMSE: 0.5734\n",
      "Loss at step 10000: 0.542058\n",
      "Training RMSE: 1.1375\n",
      "Validation RMSE: 0.5570\n",
      "Test RMSE: 0.5410\n"
     ]
    }
   ],
   "source": [
    "num_steps = 10001\n",
    "with tf.Session(graph=graph) as session:\n",
    "    tf.initialize_all_variables().run()\n",
    "    print('Initialized')\n",
    "    for step in range(num_steps):\n",
    "        _, l, predictions = session.run([optimizer, loss, train_prediction])\n",
    "        if (step % 500 == 0):\n",
    "            print('Loss at step %d: %f' % (step, l))\n",
    "            print('Training RMSE: %.4f' % accuracy_rmse(predictions, train_output))\n",
    "            # Calling .eval() on valid_prediction is basically like calling run(), but\n",
    "            # just to get that one numpy array. Note that it recomputes all its graph\n",
    "            # dependencies.\n",
    "            print('Validation RMSE: %.4f' % accuracy_rmse(valid_prediction.eval(), valid_output))\n",
    "    print('Test RMSE: %.4f' % accuracy_rmse(test_prediction.eval(), test_output))\n",
    "    predicted_vs_actual = np.hstack((test_prediction.eval(), test_output))"
   ]
  },
  {
   "cell_type": "code",
   "execution_count": 508,
   "metadata": {
    "collapsed": false
   },
   "outputs": [
    {
     "name": "stdout",
     "output_type": "stream",
     "text": [
      "[[ 1.          0.85164894]\n",
      " [ 0.85164894  1.        ]]\n",
      "(9264, 2)\n"
     ]
    }
   ],
   "source": [
    "print(np.corrcoef(predicted_vs_actual[:,0],predicted_vs_actual[:,1]))\n",
    "print(predicted_vs_actual.shape)\n",
    "plt.plot(predicted_vs_actual[:1000,0],label=\"predicted\")\n",
    "plt.plot(predicted_vs_actual[:1000,1],label=\"actual\")\n",
    "plt.ylabel(\"normalized output\")\n",
    "plt.legend(loc='upper right', shadow=True)\n",
    "plt.show()"
   ]
  }
 ],
 "metadata": {
  "kernelspec": {
   "display_name": "Python 2",
   "language": "python",
   "name": "python2"
  },
  "language_info": {
   "codemirror_mode": {
    "name": "ipython",
    "version": 2
   },
   "file_extension": ".py",
   "mimetype": "text/x-python",
   "name": "python",
   "nbconvert_exporter": "python",
   "pygments_lexer": "ipython2",
   "version": "2.7.11"
  }
 },
 "nbformat": 4,
 "nbformat_minor": 0
}
