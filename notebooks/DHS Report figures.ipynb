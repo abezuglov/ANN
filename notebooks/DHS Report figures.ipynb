{
 "cells": [
  {
   "cell_type": "code",
   "execution_count": null,
   "metadata": {
    "collapsed": true
   },
   "outputs": [],
   "source": [
    "import matplotlib.pyplot as plt\n",
    "import numpy as np\n",
    "import tensorflow as tf\n",
    "import math"
   ]
  },
  {
   "cell_type": "code",
   "execution_count": null,
   "metadata": {
    "collapsed": true
   },
   "outputs": [],
   "source": [
    "NSAMPLE = 100\n",
    "x_data = np.float32(np.arange(-10,10,20.0/NSAMPLE)).T\n",
    "y_sigm = np.float32(1.0/(1+np.exp(-x_data)))\n",
    "y_tanh = np.float32((2*np.exp(-x_data)-1)/(2*np.exp(-x_data)+1))\n",
    "\n",
    "plt.figure(figsize=(10, 6), dpi=80)\n",
    "plt.plot(x_data, y_sigm, color=\"blue\", linewidth=2.0, linestyle=\"-\", label=\"Sigmoid\")\n",
    "plt.plot(x_data, y_tanh, color=\"red\",  linewidth=2.0, linestyle=\"-\", label=\"Hyperbolic Tangent\")\n",
    "\n",
    "plt.xlim(x_data.min() * 1.1, x_data.max() * 1.1)\n",
    "plt.ylim(y_tanh.min() * 1.1, y_tanh.max() * 1.1)\n",
    "\n",
    "plt.xticks([-10, -5, 0, 5, 10])\n",
    "plt.yticks([-2, -1, 0, 1, 2])\n",
    "\n",
    "ax = plt.gca()  # gca stands for 'get current axis'\n",
    "ax.spines['right'].set_color('none')\n",
    "ax.spines['top'].set_color('none')\n",
    "ax.xaxis.set_ticks_position('bottom')\n",
    "ax.spines['bottom'].set_position(('data',0))\n",
    "ax.yaxis.set_ticks_position('left')\n",
    "ax.spines['left'].set_position(('data',0))\n",
    "\n",
    "plt.legend(loc='upper right')\n",
    "\n",
    "\n",
    "plt.show()"
   ]
  }
 ],
 "metadata": {
  "kernelspec": {
   "display_name": "Python 2",
   "language": "python",
   "name": "python2"
  },
  "language_info": {
   "codemirror_mode": {
    "name": "ipython",
    "version": 2
   },
   "file_extension": ".py",
   "mimetype": "text/x-python",
   "name": "python",
   "nbconvert_exporter": "python",
   "pygments_lexer": "ipython2",
   "version": "2.7.11"
  }
 },
 "nbformat": 4,
 "nbformat_minor": 0
}
