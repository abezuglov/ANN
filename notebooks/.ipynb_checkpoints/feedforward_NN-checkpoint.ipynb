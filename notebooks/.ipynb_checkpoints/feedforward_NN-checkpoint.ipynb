{
 "cells": [
  {
   "cell_type": "code",
   "execution_count": 1,
   "metadata": {
    "collapsed": true
   },
   "outputs": [],
   "source": [
    "from __future__ import print_function\n",
    "import matplotlib.pyplot as plt\n",
    "import numpy as np\n",
    "import os\n",
    "import sys\n",
    "import tarfile\n",
    "from IPython.display import display, Image\n",
    "from scipy import ndimage\n",
    "from sklearn.linear_model import LogisticRegression\n",
    "from six.moves.urllib.request import urlretrieve\n",
    "from six.moves import cPickle as pickle"
   ]
  },
  {
   "cell_type": "code",
   "execution_count": 27,
   "metadata": {
    "collapsed": false
   },
   "outputs": [
    {
     "name": "stdout",
     "output_type": "stream",
     "text": [
      "../data/ann_dataset1.tar\n",
      "http://mrtee.europa.renci.org/~bblanton/ANN/ann_dataset1.tar\n",
      "Found and verified ../data/ann_dataset1.tar\n"
     ]
    }
   ],
   "source": [
    "url = 'http://mrtee.europa.renci.org/~bblanton/ANN/'\n",
    "to = \"../data\"\n",
    "\n",
    "def maybe_download(filename, expected_bytes, force=False):\n",
    "    \"\"\"Download a file if not present, and make sure it's the right size.\"\"\"\n",
    "    print(os.path.join(to,filename))\n",
    "    print(url+filename)\n",
    "    if force or not os.path.exists(os.path.join(to,filename)):\n",
    "        filename, _ = urlretrieve(url + filename, os.path.join(to,filename))\n",
    "    statinfo = os.stat(os.path.join(to,filename))\n",
    "    if statinfo.st_size == expected_bytes:\n",
    "        print('Found and verified', filename)\n",
    "    else:\n",
    "        raise Exception(\n",
    "          'Failed to verify' + filename + '. Can you get to it with a browser?')\n",
    "    return filename\n",
    "\n",
    "data_filename = maybe_download('ann_dataset1.tar', 5642240)"
   ]
  },
  {
   "cell_type": "code",
   "execution_count": 19,
   "metadata": {
    "collapsed": true
   },
   "outputs": [],
   "source": [
    "def maybe_extract(filename, force=False):\n",
    "    extract_folder = os.path.splitext(os.path.splitext(filename)[0])[0]  # remove .tar.gz\n",
    "    root = os.path.dirname(filename)\n",
    "    if os.path.isdir(extract_folder) and not force:\n",
    "    # You may override by setting force=True.\n",
    "        print('%s already present - Skipping extraction of %s.' % (root, filename))\n",
    "    else:\n",
    "        print('Extracting data for %s. This may take a while. Please wait.' % root)\n",
    "        tar = tarfile.open(filename)\n",
    "        sys.stdout.flush()\n",
    "        tar.extractall(path = root)\n",
    "        tar.close()\n",
    "    data_files = [\n",
    "        os.path.join(extract_folder, d) for d in sorted(os.listdir(extract_folder))\n",
    "        if os.path.isdir(extract_folder)]\n",
    "    return data_files\n",
    "  \n",
    "data_filename = \"../data/ann_dataset1.tar\"\n",
    "data_files = maybe_extract(data_filename)"
   ]
  },
  {
   "cell_type": "code",
   "execution_count": 20,
   "metadata": {
    "collapsed": false
   },
   "outputs": [
    {
     "name": "stdout",
     "output_type": "stream",
     "text": [
      "../data already present - Skipping extraction of ../data/ann_dataset1.tar.\n",
      "['../data/ann_dataset1/track.001.dat', '../data/ann_dataset1/track.002.dat', '../data/ann_dataset1/track.003.dat', '../data/ann_dataset1/track.004.dat', '../data/ann_dataset1/track.005.dat', '../data/ann_dataset1/track.006.dat', '../data/ann_dataset1/track.007.dat', '../data/ann_dataset1/track.008.dat', '../data/ann_dataset1/track.009.dat', '../data/ann_dataset1/track.010.dat', '../data/ann_dataset1/track.011.dat', '../data/ann_dataset1/track.012.dat', '../data/ann_dataset1/track.013.dat', '../data/ann_dataset1/track.014.dat', '../data/ann_dataset1/track.015.dat', '../data/ann_dataset1/track.016.dat', '../data/ann_dataset1/track.017.dat', '../data/ann_dataset1/track.018.dat', '../data/ann_dataset1/track.019.dat', '../data/ann_dataset1/track.020.dat', '../data/ann_dataset1/track.021.dat', '../data/ann_dataset1/track.022.dat', '../data/ann_dataset1/track.023.dat', '../data/ann_dataset1/track.024.dat', '../data/ann_dataset1/track.025.dat', '../data/ann_dataset1/track.026.dat', '../data/ann_dataset1/track.027.dat', '../data/ann_dataset1/track.028.dat', '../data/ann_dataset1/track.029.dat', '../data/ann_dataset1/track.030.dat', '../data/ann_dataset1/track.031.dat', '../data/ann_dataset1/track.032.dat', '../data/ann_dataset1/track.033.dat', '../data/ann_dataset1/track.034.dat', '../data/ann_dataset1/track.035.dat', '../data/ann_dataset1/track.036.dat', '../data/ann_dataset1/track.037.dat', '../data/ann_dataset1/track.038.dat', '../data/ann_dataset1/track.039.dat', '../data/ann_dataset1/track.040.dat', '../data/ann_dataset1/track.041.dat', '../data/ann_dataset1/track.042.dat', '../data/ann_dataset1/track.043.dat', '../data/ann_dataset1/track.044.dat', '../data/ann_dataset1/track.045.dat', '../data/ann_dataset1/track.046.dat', '../data/ann_dataset1/track.047.dat', '../data/ann_dataset1/track.048.dat', '../data/ann_dataset1/track.049.dat', '../data/ann_dataset1/track.050.dat', '../data/ann_dataset1/track.051.dat', '../data/ann_dataset1/track.052.dat', '../data/ann_dataset1/track.053.dat', '../data/ann_dataset1/track.054.dat', '../data/ann_dataset1/track.055.dat', '../data/ann_dataset1/track.056.dat', '../data/ann_dataset1/track.057.dat', '../data/ann_dataset1/track.058.dat', '../data/ann_dataset1/track.059.dat', '../data/ann_dataset1/track.060.dat', '../data/ann_dataset1/track.061.dat', '../data/ann_dataset1/track.062.dat', '../data/ann_dataset1/track.063.dat', '../data/ann_dataset1/track.064.dat', '../data/ann_dataset1/track.065.dat', '../data/ann_dataset1/track.066.dat', '../data/ann_dataset1/track.067.dat', '../data/ann_dataset1/track.068.dat', '../data/ann_dataset1/track.069.dat', '../data/ann_dataset1/track.070.dat', '../data/ann_dataset1/track.071.dat', '../data/ann_dataset1/track.072.dat', '../data/ann_dataset1/track.073.dat', '../data/ann_dataset1/track.074.dat', '../data/ann_dataset1/track.075.dat', '../data/ann_dataset1/track.076.dat', '../data/ann_dataset1/track.077.dat', '../data/ann_dataset1/track.078.dat', '../data/ann_dataset1/track.079.dat', '../data/ann_dataset1/track.080.dat', '../data/ann_dataset1/track.081.dat', '../data/ann_dataset1/track.082.dat', '../data/ann_dataset1/track.083.dat', '../data/ann_dataset1/track.084.dat', '../data/ann_dataset1/track.085.dat', '../data/ann_dataset1/track.086.dat', '../data/ann_dataset1/track.087.dat', '../data/ann_dataset1/track.088.dat', '../data/ann_dataset1/track.089.dat', '../data/ann_dataset1/track.090.dat', '../data/ann_dataset1/track.091.dat', '../data/ann_dataset1/track.092.dat', '../data/ann_dataset1/track.093.dat', '../data/ann_dataset1/track.094.dat', '../data/ann_dataset1/track.095.dat', '../data/ann_dataset1/track.096.dat', '../data/ann_dataset1/track.097.dat', '../data/ann_dataset1/track.098.dat', '../data/ann_dataset1/track.099.dat', '../data/ann_dataset1/track.100.dat', '../data/ann_dataset1/track.101.dat', '../data/ann_dataset1/track.102.dat', '../data/ann_dataset1/track.103.dat', '../data/ann_dataset1/track.104.dat', '../data/ann_dataset1/track.105.dat', '../data/ann_dataset1/track.106.dat', '../data/ann_dataset1/track.107.dat', '../data/ann_dataset1/track.108.dat', '../data/ann_dataset1/track.109.dat', '../data/ann_dataset1/track.110.dat', '../data/ann_dataset1/track.111.dat', '../data/ann_dataset1/track.112.dat', '../data/ann_dataset1/track.113.dat', '../data/ann_dataset1/track.114.dat', '../data/ann_dataset1/track.115.dat', '../data/ann_dataset1/track.116.dat', '../data/ann_dataset1/track.117.dat', '../data/ann_dataset1/track.118.dat', '../data/ann_dataset1/track.119.dat', '../data/ann_dataset1/track.120.dat', '../data/ann_dataset1/track.121.dat', '../data/ann_dataset1/track.122.dat', '../data/ann_dataset1/track.123.dat', '../data/ann_dataset1/track.124.dat', '../data/ann_dataset1/track.125.dat', '../data/ann_dataset1/track.126.dat', '../data/ann_dataset1/track.127.dat', '../data/ann_dataset1/track.128.dat', '../data/ann_dataset1/track.129.dat', '../data/ann_dataset1/track.130.dat', '../data/ann_dataset1/track.131.dat', '../data/ann_dataset1/track.132.dat', '../data/ann_dataset1/track.133.dat', '../data/ann_dataset1/track.134.dat', '../data/ann_dataset1/track.135.dat', '../data/ann_dataset1/track.136.dat', '../data/ann_dataset1/track.137.dat', '../data/ann_dataset1/track.138.dat', '../data/ann_dataset1/track.139.dat', '../data/ann_dataset1/track.140.dat', '../data/ann_dataset1/track.141.dat', '../data/ann_dataset1/track.142.dat', '../data/ann_dataset1/track.143.dat', '../data/ann_dataset1/track.144.dat', '../data/ann_dataset1/track.145.dat', '../data/ann_dataset1/track.146.dat', '../data/ann_dataset1/track.147.dat', '../data/ann_dataset1/track.148.dat', '../data/ann_dataset1/track.149.dat', '../data/ann_dataset1/track.150.dat', '../data/ann_dataset1/track.151.dat', '../data/ann_dataset1/track.152.dat', '../data/ann_dataset1/track.153.dat', '../data/ann_dataset1/track.154.dat', '../data/ann_dataset1/track.155.dat', '../data/ann_dataset1/track.156.dat', '../data/ann_dataset1/track.157.dat', '../data/ann_dataset1/track.158.dat', '../data/ann_dataset1/track.159.dat', '../data/ann_dataset1/track.160.dat', '../data/ann_dataset1/track.161.dat', '../data/ann_dataset1/track.162.dat', '../data/ann_dataset1/track.163.dat', '../data/ann_dataset1/track.164.dat', '../data/ann_dataset1/track.165.dat', '../data/ann_dataset1/track.166.dat', '../data/ann_dataset1/track.167.dat', '../data/ann_dataset1/track.168.dat', '../data/ann_dataset1/track.169.dat', '../data/ann_dataset1/track.170.dat', '../data/ann_dataset1/track.171.dat', '../data/ann_dataset1/track.172.dat', '../data/ann_dataset1/track.173.dat', '../data/ann_dataset1/track.174.dat', '../data/ann_dataset1/track.175.dat', '../data/ann_dataset1/track.176.dat', '../data/ann_dataset1/track.177.dat', '../data/ann_dataset1/track.178.dat', '../data/ann_dataset1/track.179.dat', '../data/ann_dataset1/track.180.dat', '../data/ann_dataset1/track.181.dat', '../data/ann_dataset1/track.182.dat', '../data/ann_dataset1/track.183.dat', '../data/ann_dataset1/track.184.dat', '../data/ann_dataset1/track.185.dat', '../data/ann_dataset1/track.186.dat', '../data/ann_dataset1/track.187.dat', '../data/ann_dataset1/track.188.dat', '../data/ann_dataset1/track.189.dat', '../data/ann_dataset1/track.190.dat', '../data/ann_dataset1/track.191.dat', '../data/ann_dataset1/track.192.dat', '../data/ann_dataset1/track.193.dat', '../data/ann_dataset1/track.194.dat', '../data/ann_dataset1/track.195.dat', '../data/ann_dataset1/track.196.dat', '../data/ann_dataset1/track.197.dat', '../data/ann_dataset1/track.198.dat', '../data/ann_dataset1/track.199.dat', '../data/ann_dataset1/track.200.dat', '../data/ann_dataset1/track.201.dat', '../data/ann_dataset1/track.202.dat', '../data/ann_dataset1/track.203.dat', '../data/ann_dataset1/track.204.dat', '../data/ann_dataset1/track.205.dat', '../data/ann_dataset1/track.206.dat', '../data/ann_dataset1/track.207.dat', '../data/ann_dataset1/track.208.dat', '../data/ann_dataset1/track.209.dat', '../data/ann_dataset1/track.210.dat', '../data/ann_dataset1/track.211.dat', '../data/ann_dataset1/track.212.dat', '../data/ann_dataset1/track.213.dat', '../data/ann_dataset1/track.214.dat', '../data/ann_dataset1/track.215.dat', '../data/ann_dataset1/track.216.dat', '../data/ann_dataset1/track.217.dat', '../data/ann_dataset1/track.218.dat', '../data/ann_dataset1/track.219.dat', '../data/ann_dataset1/track.220.dat', '../data/ann_dataset1/track.221.dat', '../data/ann_dataset1/track.222.dat', '../data/ann_dataset1/track.223.dat', '../data/ann_dataset1/track.224.dat', '../data/ann_dataset1/track.225.dat', '../data/ann_dataset1/track.226.dat', '../data/ann_dataset1/track.227.dat', '../data/ann_dataset1/track.228.dat', '../data/ann_dataset1/track.229.dat', '../data/ann_dataset1/track.230.dat', '../data/ann_dataset1/track.231.dat', '../data/ann_dataset1/track.232.dat', '../data/ann_dataset1/track.233.dat', '../data/ann_dataset1/track.234.dat', '../data/ann_dataset1/track.235.dat', '../data/ann_dataset1/track.236.dat', '../data/ann_dataset1/track.237.dat', '../data/ann_dataset1/track.238.dat', '../data/ann_dataset1/track.239.dat', '../data/ann_dataset1/track.240.dat', '../data/ann_dataset1/track.241.dat', '../data/ann_dataset1/track.242.dat', '../data/ann_dataset1/track.243.dat', '../data/ann_dataset1/track.244.dat', '../data/ann_dataset1/track.245.dat', '../data/ann_dataset1/track.246.dat', '../data/ann_dataset1/track.247.dat', '../data/ann_dataset1/track.248.dat', '../data/ann_dataset1/track.249.dat', '../data/ann_dataset1/track.250.dat', '../data/ann_dataset1/track.251.dat', '../data/ann_dataset1/track.252.dat', '../data/ann_dataset1/track.253.dat', '../data/ann_dataset1/track.254.dat', '../data/ann_dataset1/track.255.dat', '../data/ann_dataset1/track.256.dat', '../data/ann_dataset1/track.257.dat', '../data/ann_dataset1/track.258.dat', '../data/ann_dataset1/track.259.dat', '../data/ann_dataset1/track.260.dat', '../data/ann_dataset1/track.261.dat', '../data/ann_dataset1/track.262.dat', '../data/ann_dataset1/track.263.dat', '../data/ann_dataset1/track.264.dat', '../data/ann_dataset1/track.265.dat', '../data/ann_dataset1/track.266.dat', '../data/ann_dataset1/track.267.dat', '../data/ann_dataset1/track.268.dat', '../data/ann_dataset1/track.269.dat', '../data/ann_dataset1/track.270.dat', '../data/ann_dataset1/track.271.dat', '../data/ann_dataset1/track.272.dat', '../data/ann_dataset1/track.273.dat', '../data/ann_dataset1/track.274.dat', '../data/ann_dataset1/track.275.dat', '../data/ann_dataset1/track.276.dat', '../data/ann_dataset1/track.277.dat', '../data/ann_dataset1/track.278.dat', '../data/ann_dataset1/track.279.dat', '../data/ann_dataset1/track.280.dat', '../data/ann_dataset1/track.281.dat', '../data/ann_dataset1/track.282.dat', '../data/ann_dataset1/track.283.dat', '../data/ann_dataset1/track.284.dat', '../data/ann_dataset1/track.285.dat', '../data/ann_dataset1/track.286.dat', '../data/ann_dataset1/track.287.dat', '../data/ann_dataset1/track.288.dat', '../data/ann_dataset1/track.289.dat', '../data/ann_dataset1/track.290.dat', '../data/ann_dataset1/track.291.dat', '../data/ann_dataset1/track.292.dat', '../data/ann_dataset1/track.293.dat', '../data/ann_dataset1/track.294.dat', '../data/ann_dataset1/track.295.dat', '../data/ann_dataset1/track.296.dat', '../data/ann_dataset1/track.297.dat', '../data/ann_dataset1/track.298.dat', '../data/ann_dataset1/track.299.dat', '../data/ann_dataset1/track.300.dat', '../data/ann_dataset1/track.301.dat', '../data/ann_dataset1/track.302.dat', '../data/ann_dataset1/track.303.dat', '../data/ann_dataset1/track.304.dat', '../data/ann_dataset1/track.305.dat', '../data/ann_dataset1/track.306.dat', '../data/ann_dataset1/track.307.dat', '../data/ann_dataset1/track.308.dat', '../data/ann_dataset1/track.309.dat', '../data/ann_dataset1/track.310.dat', '../data/ann_dataset1/track.311.dat', '../data/ann_dataset1/track.312.dat', '../data/ann_dataset1/track.313.dat', '../data/ann_dataset1/track.314.dat', '../data/ann_dataset1/track.315.dat', '../data/ann_dataset1/track.316.dat', '../data/ann_dataset1/track.317.dat', '../data/ann_dataset1/track.318.dat', '../data/ann_dataset1/track.319.dat', '../data/ann_dataset1/track.320.dat', '../data/ann_dataset1/track.321.dat', '../data/ann_dataset1/track.322.dat', '../data/ann_dataset1/track.323.dat', '../data/ann_dataset1/track.324.dat']\n"
     ]
    }
   ],
   "source": [
    "data_filename = \"../data/ann_dataset1.tar\"\n",
    "data_files = maybe_extract(data_filename)"
   ]
  }
 ],
 "metadata": {
  "kernelspec": {
   "display_name": "Python 2",
   "language": "python",
   "name": "python2"
  },
  "language_info": {
   "codemirror_mode": {
    "name": "ipython",
    "version": 2
   },
   "file_extension": ".py",
   "mimetype": "text/x-python",
   "name": "python",
   "nbconvert_exporter": "python",
   "pygments_lexer": "ipython2",
   "version": "2.7.11"
  }
 },
 "nbformat": 4,
 "nbformat_minor": 0
}
