{
 "cells": [
  {
   "cell_type": "code",
   "execution_count": 1,
   "metadata": {
    "collapsed": true
   },
   "outputs": [],
   "source": [
    "from __future__ import print_function\n",
    "import matplotlib.pyplot as plt\n",
    "import numpy as np\n",
    "import os\n",
    "import sys\n",
    "import tarfile\n",
    "from IPython.display import display, Image\n",
    "from scipy import ndimage\n",
    "from sklearn.linear_model import LogisticRegression\n",
    "from six.moves.urllib.request import urlretrieve\n",
    "from six.moves import cPickle as pickle\n",
    "import tensorflow as tf"
   ]
  },
  {
   "cell_type": "code",
   "execution_count": 2,
   "metadata": {
    "collapsed": false
   },
   "outputs": [
    {
     "name": "stdout",
     "output_type": "stream",
     "text": [
      "../data/ann_dataset1.tar\n",
      "http://mrtee.europa.renci.org/~bblanton/ANN/ann_dataset1.tar\n",
      "Found and verified ann_dataset1.tar\n"
     ]
    }
   ],
   "source": [
    "# Download and save the archived data\n",
    "\n",
    "url = 'http://mrtee.europa.renci.org/~bblanton/ANN/'\n",
    "to = \"../data\"\n",
    "\n",
    "def maybe_download(filename, expected_bytes, force=False):\n",
    "    \"\"\"Download a file if not present, and make sure it's the right size.\"\"\"\n",
    "    print(os.path.join(to,filename))\n",
    "    print(url+filename)\n",
    "    if force or not os.path.exists(os.path.join(to,filename)):\n",
    "        filename, _ = urlretrieve(url + filename, os.path.join(to,filename))\n",
    "    statinfo = os.stat(os.path.join(to,filename))\n",
    "    if statinfo.st_size == expected_bytes:\n",
    "        print('Found and verified', filename)\n",
    "    else:\n",
    "        raise Exception(\n",
    "          'Failed to verify' + filename + '. Can you get to it with a browser?')\n",
    "    return filename\n",
    "\n",
    "data_filename = maybe_download('ann_dataset1.tar', 5642240)"
   ]
  },
  {
   "cell_type": "code",
   "execution_count": 3,
   "metadata": {
    "collapsed": false
   },
   "outputs": [
    {
     "name": "stdout",
     "output_type": "stream",
     "text": [
      "../data already present - Skipping extraction of ../data/ann_dataset1.tar.\n"
     ]
    }
   ],
   "source": [
    "# Extract files from the archive\n",
    "def maybe_extract(filename, force=False):\n",
    "    extract_folder = os.path.splitext(os.path.splitext(filename)[0])[0]  # remove .tar.gz\n",
    "    root = os.path.dirname(filename)\n",
    "    if os.path.isdir(extract_folder) and not force:\n",
    "    # You may override by setting force=True.\n",
    "        print('%s already present - Skipping extraction of %s.' % (root, filename))\n",
    "    else:\n",
    "        print('Extracting data for %s. This may take a while. Please wait.' % root)\n",
    "        tar = tarfile.open(filename)\n",
    "        sys.stdout.flush()\n",
    "        tar.extractall(path = root)\n",
    "        tar.close()\n",
    "    data_files = [\n",
    "        os.path.join(extract_folder, d) for d in sorted(os.listdir(extract_folder))\n",
    "        if os.path.isdir(extract_folder)]\n",
    "    return data_files\n",
    "  \n",
    "data_filename = \"../data/ann_dataset1.tar\"\n",
    "data_files = maybe_extract(data_filename)"
   ]
  },
  {
   "cell_type": "code",
   "execution_count": 4,
   "metadata": {
    "collapsed": false
   },
   "outputs": [
    {
     "name": "stdout",
     "output_type": "stream",
     "text": [
      "Processed 0/324 \n",
      "\n",
      "Processed 100/324 \n",
      "\n",
      "Processed 200/324 \n",
      "\n",
      "Processed 300/324 \n",
      "\n",
      "(324, 193, 10)\n"
     ]
    }
   ],
   "source": [
    "# Load files and produce dataset\n",
    "def maybe_load(file_names):\n",
    "    names = ('index','time', 'long', 'lat', 'param1', 'param2', 'param3', 'param4', 'out1', 'out2')\n",
    "    datafile_length = 193\n",
    "    dataset = np.ndarray(shape=(len(file_names), datafile_length, len(names)))\n",
    "    for i in range(0,len(file_names)):\n",
    "        a = np.loadtxt(file_names[i])\n",
    "        a = np.asarray([x for xs in a for x in xs],dtype='d').reshape([datafile_length,len(names)])\n",
    "        dataset[i,:,:] = a\n",
    "        if i%100 == 0:\n",
    "            print(\"Processed %d/%d \\n\"%(i,len(file_names)))\n",
    "    return dataset\n",
    "\n",
    "dataset = maybe_load(data_files)\n",
    "print(dataset.shape)"
   ]
  },
  {
   "cell_type": "code",
   "execution_count": 5,
   "metadata": {
    "collapsed": false
   },
   "outputs": [
    {
     "name": "stdout",
     "output_type": "stream",
     "text": [
      "Test dataset: (48, 193, 10)\n",
      "Validation dataset: (49, 193, 10)\n",
      "Training dataset: (227, 193, 10)\n"
     ]
    }
   ],
   "source": [
    "# train, validation, and test dataset percentages\n",
    "train_percent = 70\n",
    "valid_percent = 15\n",
    "test_percent = 15\n",
    "\n",
    "# train, validation, and test dataset indices\n",
    "# test: test_start : valid_start-1\n",
    "# validation: valid_start : train_start-1\n",
    "# training: train_start : dataset.shape[0]\n",
    "test_start = 0 \n",
    "valid_start = int(test_percent/100.0*dataset.shape[0])\n",
    "train_start = int((test_percent+valid_percent)/100.0*dataset.shape[0])\n",
    "\n",
    "# Shuffle file indices\n",
    "file_indices = range(dataset.shape[0])\n",
    "np.random.shuffle(file_indices)\n",
    "\n",
    "# Assign datasets\n",
    "test_dataset = np.array([dataset[j,:,:] for j in [file_indices[i] for i in range(test_start, valid_start)]])\n",
    "valid_dataset = np.array([dataset[j,:,:] for j in [file_indices[i] for i in range(valid_start, train_start)]])\n",
    "train_dataset = np.array([dataset[j,:,:] for j in [file_indices[i] for i in range(train_start, dataset.shape[0])]])\n",
    "\n",
    "# Save memory\n",
    "#del(dataset)\n",
    "print(\"Test dataset: \"+str(test_dataset.shape))\n",
    "print(\"Validation dataset: \"+str(valid_dataset.shape))\n",
    "print(\"Training dataset: \"+str(train_dataset.shape))"
   ]
  },
  {
   "cell_type": "code",
   "execution_count": 6,
   "metadata": {
    "collapsed": false
   },
   "outputs": [
    {
     "name": "stdout",
     "output_type": "stream",
     "text": [
      "(43811, 6)\n",
      "[[-0.25526065 -0.0337564 ]\n",
      " [-0.25343454 -0.02235978]\n",
      " [-0.25434759 -0.02235978]\n",
      " ..., \n",
      " [-0.73119128  0.54291266]\n",
      " [-0.7104193   0.49732608]\n",
      " [-0.69603866  0.46085694]]\n"
     ]
    }
   ],
   "source": [
    "def accuracy_mse(predictions, outputs):\n",
    "    err = predictions-outputs\n",
    "    return np.mean(err*err)\n",
    "\n",
    "def Normalize(x, means, stds):\n",
    "    return (x-means)/stds\n",
    "\n",
    "# Reshape the data and normalize\n",
    "\n",
    "train_dataset2 = train_dataset[:,:,1:7].reshape((-1, 6)).astype(np.float32)\n",
    "train_output = train_dataset[:,:,8:10].reshape((-1, 2)).astype(np.float32)\n",
    "\n",
    "# calculate means and stds for training dataset\n",
    "input_means = [np.mean(train_dataset2[:,i]) for i in range(train_dataset2.shape[1])]\n",
    "input_stds = [np.std(train_dataset2[:,i]) for i in range(train_dataset2.shape[1])]\n",
    "output_means = [np.mean(train_output[:,i]) for i in range(train_output.shape[1])]\n",
    "output_stds = [np.std(train_output[:,i]) for i in range(train_output.shape[1])]\n",
    "\n",
    "train_dataset2 = Normalize(train_dataset2, input_means, input_stds)\n",
    "train_output = Normalize(train_output, output_means, output_stds)\n",
    "\n",
    "print(train_dataset2.shape)\n",
    "print(train_output)\n",
    "\n",
    "plt.plot(train_dataset2[:193,:],label=\"input\")\n",
    "plt.plot(train_output[:193,:],label=\"output\")\n",
    "plt.ylabel(\"training data\")\n",
    "plt.legend(loc='upper right', shadow=True)\n",
    "plt.show()\n",
    "\n",
    "valid_dataset2 = Normalize(valid_dataset[:,:,1:7].reshape((-1, 6)).astype(np.float32), input_means, input_stds)\n",
    "valid_output = Normalize(valid_dataset[:,:,8:10].reshape((-1, 2)).astype(np.float32), output_means, output_stds)\n",
    "\n",
    "test_dataset2 = Normalize(test_dataset[:,:,1:7].reshape((-1, 6)).astype(np.float32),input_means, input_stds)\n",
    "test_output = Normalize(test_dataset[:,:,8:10].reshape((-1, 2)).astype(np.float32), output_means, output_stds)\n",
    "\n"
   ]
  },
  {
   "cell_type": "code",
   "execution_count": 7,
   "metadata": {
    "collapsed": true
   },
   "outputs": [],
   "source": [
    "\n",
    "\n",
    "class DoubleGDOptimizer(tf.train.GradientDescentOptimizer):\n",
    "  def _valid_dtypes(self):\n",
    "    return set([tf.float32, tf.float64])\n",
    "\n",
    "# Deep ANN\n",
    "batch_size = 20*193\n",
    "hidden_nodes_1 = 30\n",
    "hidden_nodes_2 = 10\n",
    "hidden_nodes_3 = 6\n",
    "\n",
    "num_steps = 5001\n",
    "starter_learning_rate = 0.05\n",
    "#starter_learning_rate = 0.005\n",
    "\n",
    "graph = tf.Graph()\n",
    "with graph.as_default():\n",
    "\n",
    "    # Input data.\n",
    "    # Load the training, validation and test data into constants that are\n",
    "    # attached to the graph.\n",
    "    \n",
    "    tf_train_dataset = tf.placeholder(tf.float32, shape=(batch_size, 6)) #train_dataset2.shape(2)\n",
    "    tf_train_labels = tf.placeholder(tf.float32, shape=(batch_size, 2))\n",
    "    tf_valid_dataset = tf.constant(valid_dataset2)\n",
    "    tf_test_dataset = tf.constant(test_dataset2)\n",
    "  \n",
    "    weights_0 = tf.Variable(tf.truncated_normal([6,hidden_nodes_1], dtype = tf.float32))\n",
    "    biases_0 = tf.Variable(tf.zeros([hidden_nodes_1], dtype = tf.float32))\n",
    "    \n",
    "    weights_1 = tf.Variable(tf.truncated_normal([hidden_nodes_1,hidden_nodes_2], dtype = tf.float32))\n",
    "    biases_1 = tf.Variable(tf.zeros([hidden_nodes_2], dtype = tf.float32))\n",
    "    \n",
    "    weights_2 = tf.Variable(tf.truncated_normal([hidden_nodes_2,2], dtype = tf.float32))\n",
    "    biases_2 = tf.Variable(tf.zeros([2], dtype = tf.float32))\n",
    "\n",
    "  \n",
    "    input_layer_output = tf.sigmoid(tf.matmul(tf_train_dataset, weights_0) + biases_0)\n",
    "    hidden_layer_output = tf.sigmoid(tf.matmul(input_layer_output, weights_1) + biases_1)\n",
    "    #hidden_layer_output = tf.nn.dropout(hidden_layer_output, 0.5)\n",
    "    hidden_layer_output = tf.matmul(hidden_layer_output, weights_2) + biases_2\n",
    "    \n",
    "    \n",
    "    loss = tf.cast(tf.reduce_mean(tf.reduce_mean(tf.square(hidden_layer_output-tf_train_labels))),tf.float32)\n",
    "    #loss = tf.cast(tf.reduce_mean(tf.reduce_mean(tf.square(tf.square(hidden_layer_output-tf_train_labels)))),tf.float32)\n",
    "        \n",
    "    global_step = tf.Variable(0.00, trainable=False)\n",
    "    learning_rate = tf.train.exponential_decay(starter_learning_rate, global_step, num_steps, 0.96, staircase=False)\n",
    "    optimizer = tf.train.GradientDescentOptimizer(learning_rate).minimize(loss, global_step=global_step)\n",
    "    #starter_learning_rate = 0.5\n",
    "    #optimizer = tf.train.AdagradOptimizer(learning_rate).minimize(loss, global_step=global_step)\n",
    "    #optimizer = tf.train.AdamOptimizer(learning_rate).minimize(loss, global_step=global_step)\n",
    "  \n",
    "    train_prediction = loss\n",
    "    valid_prediction = tf.sigmoid(tf.matmul(tf_valid_dataset, weights_0) + biases_0)\n",
    "    valid_prediction = tf.sigmoid(tf.matmul(valid_prediction, weights_1) + biases_1)\n",
    "    valid_prediction = tf.matmul(valid_prediction, weights_2) + biases_2\n",
    "    \n",
    "    test_prediction = tf.sigmoid(tf.matmul(tf_test_dataset, weights_0) + biases_0)\n",
    "    test_prediction = tf.sigmoid(tf.matmul(test_prediction, weights_1) + biases_1)\n",
    "    test_prediction = tf.matmul(test_prediction, weights_2) + biases_2\n",
    "\n"
   ]
  },
  {
   "cell_type": "code",
   "execution_count": 8,
   "metadata": {
    "collapsed": false
   },
   "outputs": [
    {
     "name": "stdout",
     "output_type": "stream",
     "text": [
      "Initialized\n",
      "Loss at step 0: 6.102979\n",
      "Validation at step 0 MSE: 3.7838\n",
      "Loss at step 1000: 0.477946\n",
      "Loss at step 2000: 0.395482\n",
      "Loss at step 3000: 0.456704\n",
      "Loss at step 4000: 0.464102\n",
      "Loss at step 5000: 0.319712\n",
      "Validation at step 5000 MSE: 0.4468\n",
      "Test MSE: 0.3228\n",
      "[[ 1.        0.798904]\n",
      " [ 0.798904  1.      ]]\n",
      "[[ 1.          0.88269005]\n",
      " [ 0.88269005  1.        ]]\n"
     ]
    }
   ],
   "source": [
    "with tf.Session(graph=graph) as session:\n",
    "    tf.initialize_all_variables().run()\n",
    "    print('Initialized')\n",
    "    for step in range(num_steps):\n",
    "        offset = (step * batch_size) % (train_output.shape[0] - batch_size)\n",
    "        batch_data = train_dataset2[offset:(offset + batch_size), :]\n",
    "        batch_output = train_output[offset:(offset + batch_size), :]\n",
    "        feed_dict = {tf_train_dataset : batch_data, tf_train_labels : batch_output}\n",
    "        _, l, predictions = session.run([optimizer, loss, train_prediction],feed_dict=feed_dict)\n",
    "        if (step % 1000 == 0):\n",
    "            print('Loss at step %d: %f' % (step, l))\n",
    "        if (step % 5000 == 0):\n",
    "            # print('Training MSE: %.4f' % accuracy_rmse(predictions, train_output))\n",
    "            # Calling .eval() on valid_prediction is basically like calling run(), but\n",
    "            # just to get that one numpy array. Note that it recomputes all its graph\n",
    "            # dependencies.\n",
    "            print('Validation at step %d MSE: %.4f' % (step,accuracy_mse(valid_prediction.eval(), valid_output)))\n",
    "    print('Test MSE: %.4f' % accuracy_mse(test_prediction.eval(), test_output))\n",
    "    predicted_vs_actual = np.hstack((test_prediction.eval(), test_output))\n",
    "\n",
    "print(np.corrcoef(predicted_vs_actual[:,0],predicted_vs_actual[:,2]))\n",
    "print(np.corrcoef(predicted_vs_actual[:,1],predicted_vs_actual[:,3]))\n",
    "\n",
    "#plt.plot(predicted_vs_actual[:1000,0],label=\"predicted\")\n",
    "#plt.plot(predicted_vs_actual[:1000,1],label=\"actual\")\n",
    "#plt.ylabel(\"normalized output\")\n",
    "#plt.legend(loc='upper right', shadow=True)\n",
    "#plt.show()"
   ]
  },
  {
   "cell_type": "code",
   "execution_count": 9,
   "metadata": {
    "collapsed": true
   },
   "outputs": [],
   "source": [
    "# Deep ANN\n",
    "batch_size = 5*193\n",
    "hidden_nodes_1 = 30\n",
    "hidden_nodes_2 = 15\n",
    "hidden_nodes_3 = 8\n",
    "\n",
    "num_steps = 5001\n",
    "starter_learning_rate = 0.001\n",
    "#starter_learning_rate = 0.005\n",
    "\n",
    "graph = tf.Graph()\n",
    "with graph.as_default():\n",
    "\n",
    "    # Input data.\n",
    "    # Load the training, validation and test data into constants that are\n",
    "    # attached to the graph.\n",
    "    \n",
    "    tf_train_dataset = tf.placeholder(tf.float32, shape=(batch_size, 6)) #train_dataset2.shape(2)\n",
    "    tf_train_labels = tf.placeholder(tf.float32, shape=(batch_size, 2))\n",
    "    tf_valid_dataset = tf.constant(valid_dataset2)\n",
    "    tf_test_dataset = tf.constant(test_dataset2)\n",
    "  \n",
    "    weights_0 = tf.Variable(tf.truncated_normal([6,hidden_nodes_1], dtype = tf.float32))\n",
    "    biases_0 = tf.Variable(tf.zeros([hidden_nodes_1], dtype = tf.float32))\n",
    "    \n",
    "    weights_1 = tf.Variable(tf.truncated_normal([hidden_nodes_1,hidden_nodes_2], dtype = tf.float32))\n",
    "    biases_1 = tf.Variable(tf.zeros([hidden_nodes_2], dtype = tf.float32))\n",
    "    \n",
    "    weights_2 = tf.Variable(tf.truncated_normal([hidden_nodes_2,hidden_nodes_3], dtype = tf.float32))\n",
    "    biases_2 = tf.Variable(tf.zeros([hidden_nodes_3], dtype = tf.float32))\n",
    "    \n",
    "    weights_3 = tf.Variable(tf.truncated_normal([hidden_nodes_3,2], dtype = tf.float32))\n",
    "    biases_3 = tf.Variable(tf.zeros([2], dtype = tf.float32))\n",
    "\n",
    "  \n",
    "    input_layer_output = tf.sigmoid(tf.matmul(tf_train_dataset, weights_0) + biases_0)\n",
    "    hidden_layer_output = tf.sigmoid(tf.matmul(input_layer_output, weights_1) + biases_1)\n",
    "    #hidden_layer_output = tf.nn.dropout(hidden_layer_output, 0.5)\n",
    "    hidden_layer_output = tf.sigmoid(tf.matmul(hidden_layer_output, weights_2) + biases_2)\n",
    "    hidden_layer_output = tf.matmul(hidden_layer_output, weights_3) + biases_3\n",
    "    \n",
    "    \n",
    "    loss = tf.cast(tf.reduce_mean(tf.reduce_mean(tf.square(hidden_layer_output-tf_train_labels))),tf.float32)\n",
    "    #loss = tf.cast(tf.reduce_mean(tf.reduce_mean(tf.square(tf.square(hidden_layer_output-tf_train_labels)))),tf.float32)\n",
    "        \n",
    "    global_step = tf.Variable(0.00, trainable=False)\n",
    "    learning_rate = tf.train.exponential_decay(starter_learning_rate, global_step, num_steps, 0.96, staircase=False)\n",
    "    optimizer = tf.train.GradientDescentOptimizer(learning_rate).minimize(loss, global_step=global_step)\n",
    "    #starter_learning_rate = 0.5\n",
    "    #optimizer = tf.train.AdagradOptimizer(learning_rate).minimize(loss, global_step=global_step)\n",
    "    #optimizer = tf.train.AdamOptimizer(learning_rate).minimize(loss, global_step=global_step)\n",
    "  \n",
    "    train_prediction = loss\n",
    "    valid_prediction = tf.sigmoid(tf.matmul(tf_valid_dataset, weights_0) + biases_0)\n",
    "    valid_prediction = tf.sigmoid(tf.matmul(valid_prediction, weights_1) + biases_1)\n",
    "    valid_prediction = tf.sigmoid(tf.matmul(valid_prediction, weights_2) + biases_2)\n",
    "    valid_prediction = tf.matmul(valid_prediction, weights_3) + biases_3\n",
    "    \n",
    "    test_prediction = tf.sigmoid(tf.matmul(tf_test_dataset, weights_0) + biases_0)\n",
    "    test_prediction = tf.sigmoid(tf.matmul(test_prediction, weights_1) + biases_1)\n",
    "    test_prediction = tf.sigmoid(tf.matmul(test_prediction, weights_2) + biases_2)\n",
    "    test_prediction = tf.matmul(test_prediction, weights_3) + biases_3"
   ]
  },
  {
   "cell_type": "code",
   "execution_count": null,
   "metadata": {
    "collapsed": true
   },
   "outputs": [],
   "source": [
    "with tf.Session(graph=graph) as session:\n",
    "    tf.initialize_all_variables().run()\n",
    "    print('Initialized')\n",
    "    for step in range(num_steps):\n",
    "        offset = (step * batch_size) % (train_output.shape[0] - batch_size)\n",
    "        batch_data = train_dataset2[offset:(offset + batch_size), :]\n",
    "        batch_output = train_output[offset:(offset + batch_size), :]\n",
    "        feed_dict = {tf_train_dataset : batch_data, tf_train_labels : batch_output}\n",
    "        _, l, predictions = session.run([optimizer, loss, train_prediction],feed_dict=feed_dict)\n",
    "        if (step % 1000 == 0):\n",
    "            print('Loss at step %d: %f' % (step, l))\n",
    "        if (step % 5000 == 0):\n",
    "            # print('Training MSE: %.4f' % accuracy_rmse(predictions, train_output))\n",
    "            # Calling .eval() on valid_prediction is basically like calling run(), but\n",
    "            # just to get that one numpy array. Note that it recomputes all its graph\n",
    "            # dependencies.\n",
    "            print('Validation at step %d MSE: %.4f' % (step,accuracy_rmse(valid_prediction.eval(), valid_output)))\n",
    "    print('Test RMSE: %.4f' % accuracy_rmse(test_prediction.eval(), test_output))\n",
    "    predicted_vs_actual = np.hstack((test_prediction.eval(), test_output))\n",
    "\n",
    "print(np.corrcoef(predicted_vs_actual[:,0],predicted_vs_actual[:,2]))\n",
    "print(np.corrcoef(predicted_vs_actual[:,1],predicted_vs_actual[:,3]))"
   ]
  },
  {
   "cell_type": "code",
   "execution_count": null,
   "metadata": {
    "collapsed": true
   },
   "outputs": [],
   "source": [
    "start = 0\n",
    "stop = 193*10\n",
    "\n",
    "plt.plot(predicted_vs_actual[start:stop,0],label=\"predicted 1\")\n",
    "plt.plot(predicted_vs_actual[start:stop,2],label=\"actual 1\")\n",
    "plt.ylabel(\"normalized output\")\n",
    "plt.legend(loc='upper right', shadow=True)\n",
    "plt.show()\n",
    "\n",
    "plt.plot(predicted_vs_actual[start:stop,1],label=\"predicted 2\")\n",
    "plt.plot(predicted_vs_actual[start:stop,3],label=\"actual 2\")\n",
    "plt.ylabel(\"normalized output\")\n",
    "plt.legend(loc='upper right', shadow=True)\n",
    "plt.show()"
   ]
  }
 ],
 "metadata": {
  "kernelspec": {
   "display_name": "Python 2",
   "language": "python",
   "name": "python2"
  },
  "language_info": {
   "codemirror_mode": {
    "name": "ipython",
    "version": 2
   },
   "file_extension": ".py",
   "mimetype": "text/x-python",
   "name": "python",
   "nbconvert_exporter": "python",
   "pygments_lexer": "ipython2",
   "version": "2.7.11"
  }
 },
 "nbformat": 4,
 "nbformat_minor": 0
}
